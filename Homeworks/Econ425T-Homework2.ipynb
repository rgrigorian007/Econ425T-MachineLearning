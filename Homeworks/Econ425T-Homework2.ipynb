{
 "cells": [
  {
   "cell_type": "raw",
   "metadata": {},
   "source": [
    "---\n",
    "title: Econ 425T Homework 2\n",
    "author: \"Richard Grigorian (UID: 505-088-797)\"\n",
    "date: today\n",
    "format: \n",
    "    html:\n",
    "        mainfont: \"Palantino\"\n",
    "        fontsize: medium\n",
    "        number-sections: true\n",
    "        number-depth: 3\n",
    "        toc: true\n",
    "        toc-location: left\n",
    "        code-fold: false\n",
    "        html-math-method: katex\n",
    "        embed-resources: false\n",
    "        self-contained-math: false\n",
    "    pdf:\n",
    "        mainfont: Times New Roman\n",
    "        sansfont: Times New Roman\n",
    "        number-sections: True\n",
    "        number-depth: 2\n",
    "        toc: true\n",
    "        toc-depth: 2\n",
    "        toc-title: Contents\n",
    "        shift-heading-level-by: -1\n",
    "        execute:\n",
    "            warning: false\n",
    "            cache: true\n",
    "jupyter: python3\n",
    "---"
   ]
  },
  {
   "attachments": {},
   "cell_type": "markdown",
   "metadata": {},
   "source": [
    "{{< pagebreak >}}\n",
    "\n",
    "## Least squares is MLE\n",
    "\n",
    "Show that in the case of linear model with Gaussian errors, maximum likelihood and least squares are the same thing, and $C_p$ and AIC are equivalent."
   ]
  },
  {
   "attachments": {},
   "cell_type": "markdown",
   "metadata": {},
   "source": [
    "#### Solution\n",
    "\n",
    "To prove the above statement, we separate the proof into two pieces. First, we will show that maximum likelihood and least squares result in the same $\\beta$ coefficient under linear models with Gaussian errors. Then we will show the equivlanece of $C_p$ and AIC.\n",
    "\n",
    "**Part I:**\n",
    "\n",
    "We want to show that\n",
    "$$ \\hat{\\beta}_{ML} = \\underset{\\beta \\in \\mathbb{R}^{p+1}}{\\operatorname{arg \\ max}} \\enspace \\mathcal{L}(\\beta) = (X'X)^{-1}X'Y = \\hat{\\beta}_{OLS}$$\n",
    "Under linear models, we assume Linearity such that\n",
    "$$\\mathbb{E}[Y | X_1 = x_1 , \\dots, X_p = x_p] = \\beta_0 + \\beta_1 x_1 + \\cdots + \\beta_p x_p$$\n",
    "Normal (Gaussian) errors imply that $\\varepsilon \\sim N(0,\\sigma^2)$. Hence, for a sample $\\{(x_i, y_i) \\}^n_{i=1}$, we say $Y|X \\sim N(X'\\beta, \\sigma^2 I)$ where $I_{n\\times n}$ is the Identity matrix. Since $Y_1 , \\dots, Y_n$ is i.i.d., we obtain the likelihood function\n",
    "$$ \\mathcal{L} = \\prod^n_{i=1} \\phi (Y_i ; (X'\\beta)_i, \\sigma^2 I) = \\prod^n_{i=1} \\frac{1}{\\sqrt{2 \\pi \\sigma^2}} e^{\\frac{-(Y_i -X'\\beta)^2}{2 \\sigma^2}} $$\n",
    "We can re-write this the likelihood function in matrix form as\n",
    "$$ \\mathcal{L} = \\left ( \\frac{1}{\\sqrt{2 \\pi \\sigma^2}} \\right)^n \\exp \\left(\\frac{-(Y-X\\beta)'(Y-X\\beta)}{2 \\sigma^2}\\right)$$\n",
    "Where $Y_{n \\times 1}$ and $X_{n \\times p}$. We can then take the logarithm of both sides to get the log-likelihood function:\n",
    "\\begin{align*}\n",
    "\\ln (\\mathcal{L}) &= - \\frac{n}{2} \\ln(2 \\pi) - \\frac {n}{2} \\ln(\\sigma^2) - \\frac{1}{2 \\sigma^2} (Y-X\\beta)'(Y-X\\beta) \\\\\n",
    "&= - \\frac{n}{2} \\ln(2 \\pi) - \\frac{n}{2} \\ln(\\sigma^2) - \\frac{1}{2 \\sigma^2} (Y'Y - 2\\beta X'Y + \\beta'X'X\\beta)\n",
    "\\end{align*}\n",
    "Since the transpose of a scalar is the scalar $Y'X\\beta = (Y'X\\beta)' = \\beta'X'Y$. We now take the partial derivative with respect to $\\beta$:\n",
    "\\begin{align*}\n",
    "\\frac{\\partial \\ln (\\mathcal{L})}{\\partial \\beta} &= - \\frac{1}{2 \\sigma^2} \\left ( \\frac{\\partial [Y'Y - 2\\beta X'Y + \\beta'X'X\\beta]}{\\partial \\beta} \\right) = 0 \\\\\n",
    "&= - \\frac{1}{2 \\sigma^2} (-2X'Y + 2X'X\\beta) = \\frac{1}{\\sigma^2} (X'Y - X'X\\beta) = 0\n",
    "\\end{align*}\n",
    "This then implies that\n",
    "$$\\hat{\\beta}_{ML} = (X'X)^{-1}X'Y = \\hat{\\beta}_{OLS}$$\n",
    "\n",
    "**Part II:**\n",
    "\n",
    "We now want to show the equivalence between $C_p$ and AIC under the same assumptions as in Part (I). We know from lecture that\n",
    "$$C_p = \\frac{1}{n} (\\text{RSS} + 2d \\hat{\\sigma}^2)$$\n",
    "And\n",
    "$$\\text{AIC} = -  2 \\ln \\mathcal{L} + 2d$$\n",
    "where $d$ is the total number of parameters used and $\\hat{\\sigma}^2$ is an estimate of the error variance $\\text{Var}(\\varepsilon)$. Hence, we substitute in our expression for $\\mathcal{L}$ from Part (I):\n",
    "\\begin{align*}\n",
    "\\text{AIC} &= -  2 \\ln \\mathcal{L} + 2d \\\\\n",
    "&= -2 \\left( - \\frac{n}{2} \\ln(2 \\pi) - \\frac{n}{2} \\ln(\\sigma^2) - \\frac{(Y - \\hat{Y})'(Y - \\hat{Y})}{2 \\sigma^2} \\right) + 2d \\\\\n",
    "&= n \\ln (2\\pi \\sigma^2) + \\frac{(Y - \\hat{Y})'(Y - \\hat{Y})}{\\sigma^2} + 2d \\\\\n",
    "&= n \\ln (2\\pi \\sigma^2) + \\frac{\\text{RSS}}{\\sigma^2} + 2d \\\\\n",
    "&= n \\ln (2\\pi \\sigma^2) + \\frac{n}{\\sigma^2} C_p\n",
    "\\end{align*}\n",
    "Notice, that AIC only differs by $C_p$ by constant scalars $n$ and $\\sigma$. Therefore, both metrics will coincide in terms of model selection. Hence, we show that the $C_p$ and AIC are equivalent in this sense."
   ]
  },
  {
   "attachments": {},
   "cell_type": "markdown",
   "metadata": {},
   "source": [
    "## ISL Exercise 6.6.1 (10pts)\n",
    "\n",
    "We perform best subset, forward stepwise, and backward stepwise\n",
    "selection on a single data set. For each approach, we obtain $p + 1$\n",
    "models, containing $0,1,2,\\dots,p$ predictors. Explain your answers:\n",
    "\n",
    "### Part (a)\n",
    "\n",
    "Which of the three models with $k$ predictors has the smallest\n",
    "training RSS?\n",
    "\n",
    "#### Solution\n",
    "\n",
    "Best subset selection will be the model with the smallest training RSS. This is due to the fact that the other 2 approaches conduct model selection dependent upon their starting predictor. In the sense that, if forward/backward selection chooses a different starting variable, the final model may be different. Hence, the RSS will be smallest for Best subset which runs through ever possible combination of model features.\n",
    "\n",
    "### Part (b)\n",
    "\n",
    "Which of the three models with $k$ predictors has the smallest\n",
    "test RSS?\n",
    "\n",
    "#### Solution\n",
    "\n",
    "Best subset selection will likely be the model also with the smallest testing RSS. Once again, it is due to the construction of best subset where it will consider a much greater selection of models. In fact, it considers all combinations of model features. Hence, it is likely that it will have a smaller test RSS than either forward/backward stepwise selection.\n",
    "\n",
    "### Part (c) True or False:\n",
    "\n",
    "1. The predictors in the $k$-variable model identified by forward\n",
    "stepwise are a subset of the predictors in the $(k+1)$ variable\n",
    "model identified by forward stepwise selection.\n",
    "\n",
    "This is **True**. This is literally how forward stepwise selection works. It has a base model (with 1 feature) and then it iteratively adds features and drops those that become statistically insignificant. hence, the $k$ feature model will be a subset of the $k+1$ feature model.\n",
    "\n",
    "2. The predictors in the $k$-variable model identified by backward stepwise are a subset of the predictors in the $(k + 1)$\n",
    "variable model identified by backward stepwise selection.\n",
    "\n",
    "This is **True**. Once again the model with $k$ features is just the model with $k+1$ features except we have removed a variable. Hence, it is a subset.\n",
    "\n",
    "3.  The predictors in the $k$-variable model identified by backward stepwise are a subset of the predictors in the $(k + 1)$\n",
    "variable model identified by forward stepwise selection.\n",
    "\n",
    "This is **False**. Forward and Backward selection are not linked in this kind of way. They are also somewhat opposite processes, so the features in the $k$ variable model of one method is not guaranteed to be a subset of the $k+1$ feature model of the other method.\n",
    "\n",
    "4. The predictors in the $k$-variable model identified by forward\n",
    "stepwise are a subset of the predictors in the $(k+1)$ variable\n",
    "model identified by backward stepwise selection.\n",
    "\n",
    "This is **False** for the same reason. Forward and Backward selection are not linked in this kind of way. They are also somewhat opposite processes, so the features in the $k$ variable model of one method is not guaranteed to be a subset of the $k+1$ feature model of the other method.\n",
    "\n",
    "5.  The predictors in the $k$-variable model identified by best\n",
    "subset are a subset of the predictors in the $(k + 1)$ variable\n",
    "model identified by best subset selection.\n",
    "\n",
    "This is **False**. This is not necessarily true because best subset tests every combination of features from the available set of features. By increasing the set of features by 1, it is possible that best subset selection will arrive at a combination of features that were not all simultaneously chosen by the $k$ case."
   ]
  },
  {
   "attachments": {},
   "cell_type": "markdown",
   "metadata": {},
   "source": [
    "## ISL Exercise 6.6.3 (10pts)\n",
    "\n",
    "Suppose we estimate the regression coefficients in a linear regression\n",
    "model by minimizing\n",
    "\n",
    "$$\\sum_{i=1}^n\\Biggl(y_i - \\beta_0 - \\sum_{j=1}^p\\beta_jx_{ij}\\Biggr)\\text{ subject to }\\sum_{j=1}^p|\\beta_j|\\le s$$\n",
    "\n",
    "for a particular value of $s$. For parts (a) through (e), indicate which of i. through v. is correct. Justify your answer.\n",
    "\n",
    "### Part (a)\n",
    "\n",
    "As we increase $s$ from 0. the training RSS will:\n",
    "\n",
    "i. Increase initially, and then eventually start decreasing in an inverted U shape.\n",
    "\n",
    "ii. Decrease initially, and then eventually start increasing in a\n",
    "U shape\n",
    "\n",
    "iii. Steadily increase\n",
    "\n",
    "iv. Steadily decrease\n",
    "\n",
    "v. Remain constant.\n",
    "\n",
    "#### Solution\n",
    "\n",
    "**iv.** is correct. The training RSS will steadily decrease as we increase $s$ from 0. As we increas $s$ we are weakening our restriction on what our $\\beta$ coefficients can be; therefore, the model is becoming more flexible which causes a steady decrease in training RSS.\n",
    "\n",
    "### Part (b)\n",
    "\n",
    "Repeat (a) for test RSS.\n",
    "\n",
    "#### Solution\n",
    "\n",
    "**ii.** is correct. We call on the same idea as before. As we weaken the restriction, the coefficients are allowed to increase to their least squares estimates. This is what causes the testing RSS to initially decrease before increasing once again when the coefficients start overfitting and the variance increases.\n",
    "\n",
    "### Part (c)\n",
    "\n",
    "Repeat (a) for variance.\n",
    "\n",
    "#### Solution\n",
    "\n",
    "**iii.** is correct. As hinted to in the previous part, when $s=0$ the coefficients will have no variance. As the restriction is loosened, the model coefficients begin to increase and the coefficients become increasingly fitted to the training data. Hence, the variance will increase.\n",
    "\n",
    "### Part (d)\n",
    "\n",
    "Repeat (a) for (squared) bias.\n",
    "\n",
    "#### Solution\n",
    "\n",
    "**iv.** is correct. We call on the classic bias-variance trade-off. As we loosen the restriction, we are imposing less and less shrinkage; hence, the bias decreases monotonically.\n",
    "\n",
    "### Part (e)\n",
    "\n",
    "Repeat (a) for the irreducible error.\n",
    "\n",
    "#### Solution\n",
    "\n",
    "**v.** is correct. By definition, the irreducible error is due to the underlying data rather than any choice of model or restriction. Hence, it will always stay constant regardless of whatever restrictions we impose."
   ]
  },
  {
   "attachments": {},
   "cell_type": "markdown",
   "metadata": {},
   "source": [
    "## ISL Exercise 6.6.4 (10pts)\n",
    "\n",
    "Suppose we estimate the regression coefficients in a linear regression model by minimizing\n",
    "\n",
    "$$\\sum_{i=1}^n\\Biggl(y_i - \\beta_0 - \\sum_{j=1}^p\\beta_jx_{ij}\\Biggr) - \\lambda\\sum_{j=1}^p\\beta_j^2$$\n",
    "\n",
    "for a particular value of $\\lambda$. For parts (a) through (e), indicate which of i. through v. is correct. Justify your answer.\n",
    "\n",
    "### Part (a)\n",
    "\n",
    "As we increase $\\lambda$ from 0. the training RSS will:\n",
    "\n",
    "i. Increase initially, and then eventually start decreasing in an inverted U shape.\n",
    "\n",
    "ii. Decrease initially, and then eventually start increasing in a\n",
    "U shape\n",
    "\n",
    "iii. Steadily increase\n",
    "\n",
    "iv. Steadily decrease\n",
    "\n",
    "v. Remain constant.\n",
    "\n",
    "#### Solution\n",
    "\n",
    "**iii.** is correct. The training RSS will steadily increase as we increase $\\lambda$ from 0. As we increas $\\lambda$ we are strenghtening our restriction on what our $\\beta$ coefficients can be; therefore, the model is becoming less flexible which causes a steady increase in training RSS.\n",
    "\n",
    "### Part (b)\n",
    "\n",
    "Repeat (a) for test RSS.\n",
    "\n",
    "#### Solution\n",
    "\n",
    "**ii.** is correct. We call on the same idea as before. As we strenghten the restriction, the coefficients are allowed to deviate further and further from their Least Squares estimates. Hence, as we increase $\\lambda$, the coefficients start being reduced further and further to zero and the overfitting is reduced. Thus, test RSS initially decreases but then when all coefficients are approaching 0, the model is clearly not correct and we expect test RSS to increase.\n",
    "\n",
    "### Part (c)\n",
    "\n",
    "Repeat (a) for variance.\n",
    "\n",
    "#### Solution\n",
    "\n",
    "**iv.** is correct. As hinted to in the previous part, as $\\lambda \\to \\infty$ the coefficients will all be shrunken to 0 and hence have no variance. Thus, as $\\lambda$ increases, we expect variance to monotonically decrease.\n",
    "\n",
    "### Part (d)\n",
    "\n",
    "Repeat (a) for (squared) bias.\n",
    "\n",
    "#### Solution\n",
    "\n",
    "**iii.** is correct. We call on the classic bias-variance trade-off. As we strengthen the restriction, we are imposing more and more shrinkage; hence, the bias increases monotonically.\n",
    "\n",
    "### Part (e)\n",
    "\n",
    "Repeat (a) for the irreducible error.\n",
    "\n",
    "#### Solution\n",
    "\n",
    "**v.** is correct. By definition, the irreducible error is due to the underlying data rather than any choice of model or restriction. Hence, it will always stay constant regardless of whatever restrictions we impose."
   ]
  },
  {
   "attachments": {},
   "cell_type": "markdown",
   "metadata": {},
   "source": [
    "## ISL Exercise 6.6.5 (10pts)\n",
    "\n",
    "It is well-known that ridge regression tends to give similar coefficient values to correlated variables, whereas the lasso may give different coefficient values to correlated variables. We will now explore this property in a very simple setting.\n",
    "\n",
    "Suppose that $n=2$, $p=2$, $x_{11} = x_{12}, x_{21} = x_{12}$. Furthermore, suppose that $y_1 + y_2 = 0$ and $x_{11} + x_{21} = 0$, so that the estimate for the intercept in a least squares, ridge regression, or lasso model is zero: $\\hat{\\beta}_0 = 0$.\n",
    "\n",
    "### Part (a)\n",
    "\n",
    "Write out the ridge regression optimization problem in this setting.\n",
    "\n",
    "#### Solution\n",
    "\n",
    "Recall that Ridge Regression seeks to find the coefficients that minimize\n",
    "$$\\sum_{i=1}^n\\Biggl(y_i - \\beta_0 - \\sum_{j=1}^p\\beta_jx_{ij}\\Biggr) - \\lambda\\sum_{j=1}^p\\beta_j^2$$\n",
    "Hence, with the given information, we want to minimize:\n",
    "$$(y_1 - \\hat{\\beta}_1x_1 - \\hat{\\beta}_2x_1)^2 + (y_2 - \\hat{\\beta}_1x_2 - \\hat{\\beta}_2x_2)^2 + \\lambda(\\hat{\\beta}_1^2 + \\hat{\\beta}_2^2)$$\n",
    "\n",
    "### Part (b)\n",
    "\n",
    "Argue that in this setting, the ridge coefficient estimates satisfy $\\hat{\\beta}_1 = \\hat{\\beta}_2$.\n",
    "\n",
    "#### Solution\n",
    "\n",
    "We accomplish this by taking the partial derivative with respect to both $\\hat{\\beta}_1$ and $\\hat{\\beta}_2$. Hence, we have\n",
    "$$\\frac{\\partial(\\cdot)}{\\partial \\hat{\\beta}_1} = -2x_1 (y - \\hat{\\beta}_1 x_1 - \\hat{\\beta}_2 x_1) - 2x_2 (y_2 - \\hat{\\beta}_1 x_2 - \\hat{\\beta}_2 x_2) + 2 \\lambda \\hat{\\beta}_1 = 0$$\n",
    "Which then implies that\n",
    "$$\\hat{\\beta}_1 = \\frac{x_1 (y - \\hat{\\beta}_1 x_1 - \\hat{\\beta}_2 x_1) + x_2 (y_2 - \\hat{\\beta}_1 x_2 - \\hat{\\beta}_2 x_2)}{\\lambda}$$\n",
    "If we then take the partial with respect to $\\hat{\\beta}_2$ we get\n",
    "$$\\frac{\\partial(\\cdot)}{\\partial \\hat{\\beta}_2} = -2x_1 (y - \\hat{\\beta}_1 x_1 - \\hat{\\beta}_2 x_1) - 2x_2 (y_2 - \\hat{\\beta}_1 x_2 - \\hat{\\beta}_2 x_2) + 2 \\lambda \\hat{\\beta}_2 = 0$$\n",
    "Which then can be re-written as\n",
    "$$\\hat{\\beta}_2 = \\frac{x_1 (y - \\hat{\\beta}_1 x_1 - \\hat{\\beta}_2 x_1) + x_2 (y_2 - \\hat{\\beta}_1 x_2 - \\hat{\\beta}_2 x_2)}{\\lambda}$$\n",
    "This can only be true if $\\hat{\\beta}_1 = \\hat{\\beta}_2$,\n",
    "\n",
    "### Part (c)\n",
    "\n",
    "Write out the lasso optimization problem in this setting.\n",
    "\n",
    "#### Solution\n",
    "\n",
    "Recall that Lasso seeks to find the coefficients that minimize\n",
    "$$\\sum_{i=1}^n\\Biggl(y_i - \\beta_0 - \\sum_{j=1}^p\\beta_jx_{ij}\\Biggr) - \\lambda\\sum_{j=1}^p |\\beta_j |$$\n",
    "Hence, with the given information, we want to minimize:\n",
    "$$(y_1 - \\hat{\\beta}_1x_1 - \\hat{\\beta}_2x_1)^2 + (y_2 - \\hat{\\beta}_1x_2 - \\hat{\\beta}_2x_2)^2 + \\lambda(|\\hat{\\beta}_1| + |\\hat{\\beta}_2|)$$\n",
    "\n",
    "### Part (d)\n",
    "\n",
    "Aruge that in this setting, the Lasso coefficients $\\hat{\\beta}_1$ and $\\hat{\\beta}_2$ are not unique -- in other words, there are many possible solutions to the optimization problem in (c). Describe these solutions.\n",
    "\n",
    "#### Solution\n",
    "\n",
    "Our approach to arguing the lack of uniquness begins with us re-writing our Lasso minimization problem in the form in which it was presented in problem 3 (ISL 6.6.3)\n",
    "$$(y_1 - \\hat{\\beta}_1x_1 - \\hat{\\beta}_2x_1)^2 + (y_2 - \\hat{\\beta}_1x_2 - \\hat{\\beta}_2x_2)^2$$\n",
    "Subject to the constraint\n",
    "$$ |\\hat{\\beta}_1| + |\\hat{\\beta}_2|\\le s $$\n",
    "Now, we know (from lecture) that the constraint in Lasso geometrically is a diamond at the origin of $\\mathbb{R}^2$ euclidean plane ($\\hat{\\beta}_1 , \\hat{\\beta}_2$) with a distance from the axis equal to the constraint $s$. Beyond this, we can further simplify our expression since our problem parameters allow us to collapse several terms in order to get\n",
    "$$2(y_1 - (\\hat{\\beta}_1 + x_1\\hat{\\beta}_2))^2\\ge 0$$\n",
    "Now we minimize this problem by taking the partial\n",
    "$$\\frac{\\partial(\\cdot)}{\\partial (\\hat{\\beta}_1 + \\hat{\\beta}_2)} = -4x_1(y_1 - x_1 (\\hat{\\beta}_1 + \\hat{\\beta}_2)) = 0$$\n",
    "Which then simply rearranges to show\n",
    "$$\\hat{\\beta}_1 + \\hat{\\beta}_2 = \\frac{y_1}{x_1}$$\n",
    "This expression represents a line which is parallel to the edge of the Lasso diamond. Therefore, the entire edge of the diamond that intersects with the lasso function serves as our solution set. This shows that the solution to this particular Lasso problem is not unique. In particular the lasso optimization problem as the set of solutions\n",
    "$$\\{(\\hat{\\beta}_1,\\hat{\\beta}_2) : \\hat{\\beta}_1 + \\hat{\\beta}_2 = s, \\ \\hat{\\beta}_1 , \\hat{\\beta}_2\\ge 0\\}$$\n",
    "And the solutions are symmetric for the case where it is less than zero."
   ]
  },
  {
   "attachments": {},
   "cell_type": "markdown",
   "metadata": {},
   "source": [
    "## ISL Exercise 6.6.11 (30pts)\n",
    "\n",
    "You must follow the [typical machine learning paradigm](https://ucla-econ-425t.github.io/2023winter/slides/06-modelselection/workflow_lasso.html) to compare *at least* 3 methods: least squares, lasso, and ridge. Report final results as\n",
    "\n",
    "| Method | CV RMSE | Test RMSE |\n",
    "|:------:|:------:|:------:|:------:|\n",
    "| LS | | | |\n",
    "| Ridge | | | |\n",
    "| Lasso | | | |\n",
    "| ... | | | |\n",
    "\n",
    "We will now try to predict the per capita crime rate in the `Boston` data set.\n",
    "\n",
    "### Part (a)\n",
    "\n",
    "Try out some of the regression methods explored in this chapter,\n",
    "such as best subset selection, the lasso, ridge regression, and\n",
    "PCR. Present and discuss results for the approaches that you\n",
    "consider.\n",
    "\n",
    "#### Solution\n",
    "\n",
    "As specified above, we will use the *typical machine learning paradigm* to approach this problem. Namely, we will consider least squares, lasso, and ridge."
   ]
  },
  {
   "cell_type": "code",
   "execution_count": 1,
   "metadata": {},
   "outputs": [
    {
     "data": {
      "text/html": [
       "<div>\n",
       "<style scoped>\n",
       "    .dataframe tbody tr th:only-of-type {\n",
       "        vertical-align: middle;\n",
       "    }\n",
       "\n",
       "    .dataframe tbody tr th {\n",
       "        vertical-align: top;\n",
       "    }\n",
       "\n",
       "    .dataframe thead th {\n",
       "        text-align: right;\n",
       "    }\n",
       "</style>\n",
       "<table border=\"1\" class=\"dataframe\">\n",
       "  <thead>\n",
       "    <tr style=\"text-align: right;\">\n",
       "      <th></th>\n",
       "      <th>crim</th>\n",
       "      <th>zn</th>\n",
       "      <th>indus</th>\n",
       "      <th>chas</th>\n",
       "      <th>nox</th>\n",
       "      <th>rm</th>\n",
       "      <th>age</th>\n",
       "      <th>dis</th>\n",
       "      <th>rad</th>\n",
       "      <th>tax</th>\n",
       "      <th>ptratio</th>\n",
       "      <th>lstat</th>\n",
       "      <th>medv</th>\n",
       "    </tr>\n",
       "  </thead>\n",
       "  <tbody>\n",
       "    <tr>\n",
       "      <th>1</th>\n",
       "      <td>0.00632</td>\n",
       "      <td>18.0</td>\n",
       "      <td>2.31</td>\n",
       "      <td>0</td>\n",
       "      <td>0.538</td>\n",
       "      <td>6.575</td>\n",
       "      <td>65.2</td>\n",
       "      <td>4.0900</td>\n",
       "      <td>1</td>\n",
       "      <td>296</td>\n",
       "      <td>15.3</td>\n",
       "      <td>4.98</td>\n",
       "      <td>24.0</td>\n",
       "    </tr>\n",
       "    <tr>\n",
       "      <th>2</th>\n",
       "      <td>0.02731</td>\n",
       "      <td>0.0</td>\n",
       "      <td>7.07</td>\n",
       "      <td>0</td>\n",
       "      <td>0.469</td>\n",
       "      <td>6.421</td>\n",
       "      <td>78.9</td>\n",
       "      <td>4.9671</td>\n",
       "      <td>2</td>\n",
       "      <td>242</td>\n",
       "      <td>17.8</td>\n",
       "      <td>9.14</td>\n",
       "      <td>21.6</td>\n",
       "    </tr>\n",
       "    <tr>\n",
       "      <th>3</th>\n",
       "      <td>0.02729</td>\n",
       "      <td>0.0</td>\n",
       "      <td>7.07</td>\n",
       "      <td>0</td>\n",
       "      <td>0.469</td>\n",
       "      <td>7.185</td>\n",
       "      <td>61.1</td>\n",
       "      <td>4.9671</td>\n",
       "      <td>2</td>\n",
       "      <td>242</td>\n",
       "      <td>17.8</td>\n",
       "      <td>4.03</td>\n",
       "      <td>34.7</td>\n",
       "    </tr>\n",
       "    <tr>\n",
       "      <th>4</th>\n",
       "      <td>0.03237</td>\n",
       "      <td>0.0</td>\n",
       "      <td>2.18</td>\n",
       "      <td>0</td>\n",
       "      <td>0.458</td>\n",
       "      <td>6.998</td>\n",
       "      <td>45.8</td>\n",
       "      <td>6.0622</td>\n",
       "      <td>3</td>\n",
       "      <td>222</td>\n",
       "      <td>18.7</td>\n",
       "      <td>2.94</td>\n",
       "      <td>33.4</td>\n",
       "    </tr>\n",
       "    <tr>\n",
       "      <th>5</th>\n",
       "      <td>0.06905</td>\n",
       "      <td>0.0</td>\n",
       "      <td>2.18</td>\n",
       "      <td>0</td>\n",
       "      <td>0.458</td>\n",
       "      <td>7.147</td>\n",
       "      <td>54.2</td>\n",
       "      <td>6.0622</td>\n",
       "      <td>3</td>\n",
       "      <td>222</td>\n",
       "      <td>18.7</td>\n",
       "      <td>5.33</td>\n",
       "      <td>36.2</td>\n",
       "    </tr>\n",
       "  </tbody>\n",
       "</table>\n",
       "</div>"
      ],
      "text/plain": [
       "      crim    zn  indus  chas    nox     rm   age     dis  rad  tax  ptratio  \\\n",
       "1  0.00632  18.0   2.31     0  0.538  6.575  65.2  4.0900    1  296     15.3   \n",
       "2  0.02731   0.0   7.07     0  0.469  6.421  78.9  4.9671    2  242     17.8   \n",
       "3  0.02729   0.0   7.07     0  0.469  7.185  61.1  4.9671    2  242     17.8   \n",
       "4  0.03237   0.0   2.18     0  0.458  6.998  45.8  6.0622    3  222     18.7   \n",
       "5  0.06905   0.0   2.18     0  0.458  7.147  54.2  6.0622    3  222     18.7   \n",
       "\n",
       "   lstat  medv  \n",
       "1   4.98  24.0  \n",
       "2   9.14  21.6  \n",
       "3   4.03  34.7  \n",
       "4   2.94  33.4  \n",
       "5   5.33  36.2  "
      ]
     },
     "execution_count": 1,
     "metadata": {},
     "output_type": "execute_result"
    }
   ],
   "source": [
    "import pandas as pd\n",
    "import io\n",
    "import requests\n",
    "import seaborn as sns\n",
    "import matplotlib.pyplot as plt\n",
    "import numpy as np\n",
    "import statsmodels.formula.api as smf\n",
    "\n",
    "# Loading Data\n",
    "url = \"https://raw.githubusercontent.com/ucla-econ-425t/2023winter/master/slides/data/Boston.csv\"\n",
    "s = requests.get(url).content\n",
    "Boston = pd.read_csv(io.StringIO(s.decode('utf-8')), index_col = 0)\n",
    "Boston.head()"
   ]
  },
  {
   "cell_type": "code",
   "execution_count": 3,
   "metadata": {},
   "outputs": [
    {
     "data": {
      "text/html": [
       "<div>\n",
       "<style scoped>\n",
       "    .dataframe tbody tr th:only-of-type {\n",
       "        vertical-align: middle;\n",
       "    }\n",
       "\n",
       "    .dataframe tbody tr th {\n",
       "        vertical-align: top;\n",
       "    }\n",
       "\n",
       "    .dataframe thead th {\n",
       "        text-align: right;\n",
       "    }\n",
       "</style>\n",
       "<table border=\"1\" class=\"dataframe\">\n",
       "  <thead>\n",
       "    <tr style=\"text-align: right;\">\n",
       "      <th></th>\n",
       "      <th>count</th>\n",
       "      <th>mean</th>\n",
       "      <th>std</th>\n",
       "      <th>min</th>\n",
       "      <th>25%</th>\n",
       "      <th>50%</th>\n",
       "      <th>75%</th>\n",
       "      <th>max</th>\n",
       "    </tr>\n",
       "  </thead>\n",
       "  <tbody>\n",
       "    <tr>\n",
       "      <th>crim</th>\n",
       "      <td>506.0</td>\n",
       "      <td>3.613524</td>\n",
       "      <td>8.601545</td>\n",
       "      <td>0.00632</td>\n",
       "      <td>0.082045</td>\n",
       "      <td>0.25651</td>\n",
       "      <td>3.677083</td>\n",
       "      <td>88.9762</td>\n",
       "    </tr>\n",
       "    <tr>\n",
       "      <th>zn</th>\n",
       "      <td>506.0</td>\n",
       "      <td>11.363636</td>\n",
       "      <td>23.322453</td>\n",
       "      <td>0.00000</td>\n",
       "      <td>0.000000</td>\n",
       "      <td>0.00000</td>\n",
       "      <td>12.500000</td>\n",
       "      <td>100.0000</td>\n",
       "    </tr>\n",
       "    <tr>\n",
       "      <th>indus</th>\n",
       "      <td>506.0</td>\n",
       "      <td>11.136779</td>\n",
       "      <td>6.860353</td>\n",
       "      <td>0.46000</td>\n",
       "      <td>5.190000</td>\n",
       "      <td>9.69000</td>\n",
       "      <td>18.100000</td>\n",
       "      <td>27.7400</td>\n",
       "    </tr>\n",
       "    <tr>\n",
       "      <th>chas</th>\n",
       "      <td>506.0</td>\n",
       "      <td>0.069170</td>\n",
       "      <td>0.253994</td>\n",
       "      <td>0.00000</td>\n",
       "      <td>0.000000</td>\n",
       "      <td>0.00000</td>\n",
       "      <td>0.000000</td>\n",
       "      <td>1.0000</td>\n",
       "    </tr>\n",
       "    <tr>\n",
       "      <th>nox</th>\n",
       "      <td>506.0</td>\n",
       "      <td>0.554695</td>\n",
       "      <td>0.115878</td>\n",
       "      <td>0.38500</td>\n",
       "      <td>0.449000</td>\n",
       "      <td>0.53800</td>\n",
       "      <td>0.624000</td>\n",
       "      <td>0.8710</td>\n",
       "    </tr>\n",
       "    <tr>\n",
       "      <th>rm</th>\n",
       "      <td>506.0</td>\n",
       "      <td>6.284634</td>\n",
       "      <td>0.702617</td>\n",
       "      <td>3.56100</td>\n",
       "      <td>5.885500</td>\n",
       "      <td>6.20850</td>\n",
       "      <td>6.623500</td>\n",
       "      <td>8.7800</td>\n",
       "    </tr>\n",
       "    <tr>\n",
       "      <th>age</th>\n",
       "      <td>506.0</td>\n",
       "      <td>68.574901</td>\n",
       "      <td>28.148861</td>\n",
       "      <td>2.90000</td>\n",
       "      <td>45.025000</td>\n",
       "      <td>77.50000</td>\n",
       "      <td>94.075000</td>\n",
       "      <td>100.0000</td>\n",
       "    </tr>\n",
       "    <tr>\n",
       "      <th>dis</th>\n",
       "      <td>506.0</td>\n",
       "      <td>3.795043</td>\n",
       "      <td>2.105710</td>\n",
       "      <td>1.12960</td>\n",
       "      <td>2.100175</td>\n",
       "      <td>3.20745</td>\n",
       "      <td>5.188425</td>\n",
       "      <td>12.1265</td>\n",
       "    </tr>\n",
       "    <tr>\n",
       "      <th>rad</th>\n",
       "      <td>506.0</td>\n",
       "      <td>9.549407</td>\n",
       "      <td>8.707259</td>\n",
       "      <td>1.00000</td>\n",
       "      <td>4.000000</td>\n",
       "      <td>5.00000</td>\n",
       "      <td>24.000000</td>\n",
       "      <td>24.0000</td>\n",
       "    </tr>\n",
       "    <tr>\n",
       "      <th>tax</th>\n",
       "      <td>506.0</td>\n",
       "      <td>408.237154</td>\n",
       "      <td>168.537116</td>\n",
       "      <td>187.00000</td>\n",
       "      <td>279.000000</td>\n",
       "      <td>330.00000</td>\n",
       "      <td>666.000000</td>\n",
       "      <td>711.0000</td>\n",
       "    </tr>\n",
       "    <tr>\n",
       "      <th>ptratio</th>\n",
       "      <td>506.0</td>\n",
       "      <td>18.455534</td>\n",
       "      <td>2.164946</td>\n",
       "      <td>12.60000</td>\n",
       "      <td>17.400000</td>\n",
       "      <td>19.05000</td>\n",
       "      <td>20.200000</td>\n",
       "      <td>22.0000</td>\n",
       "    </tr>\n",
       "    <tr>\n",
       "      <th>lstat</th>\n",
       "      <td>506.0</td>\n",
       "      <td>12.653063</td>\n",
       "      <td>7.141062</td>\n",
       "      <td>1.73000</td>\n",
       "      <td>6.950000</td>\n",
       "      <td>11.36000</td>\n",
       "      <td>16.955000</td>\n",
       "      <td>37.9700</td>\n",
       "    </tr>\n",
       "    <tr>\n",
       "      <th>medv</th>\n",
       "      <td>506.0</td>\n",
       "      <td>22.532806</td>\n",
       "      <td>9.197104</td>\n",
       "      <td>5.00000</td>\n",
       "      <td>17.025000</td>\n",
       "      <td>21.20000</td>\n",
       "      <td>25.000000</td>\n",
       "      <td>50.0000</td>\n",
       "    </tr>\n",
       "  </tbody>\n",
       "</table>\n",
       "</div>"
      ],
      "text/plain": [
       "         count        mean         std        min         25%        50%  \\\n",
       "crim     506.0    3.613524    8.601545    0.00632    0.082045    0.25651   \n",
       "zn       506.0   11.363636   23.322453    0.00000    0.000000    0.00000   \n",
       "indus    506.0   11.136779    6.860353    0.46000    5.190000    9.69000   \n",
       "chas     506.0    0.069170    0.253994    0.00000    0.000000    0.00000   \n",
       "nox      506.0    0.554695    0.115878    0.38500    0.449000    0.53800   \n",
       "rm       506.0    6.284634    0.702617    3.56100    5.885500    6.20850   \n",
       "age      506.0   68.574901   28.148861    2.90000   45.025000   77.50000   \n",
       "dis      506.0    3.795043    2.105710    1.12960    2.100175    3.20745   \n",
       "rad      506.0    9.549407    8.707259    1.00000    4.000000    5.00000   \n",
       "tax      506.0  408.237154  168.537116  187.00000  279.000000  330.00000   \n",
       "ptratio  506.0   18.455534    2.164946   12.60000   17.400000   19.05000   \n",
       "lstat    506.0   12.653063    7.141062    1.73000    6.950000   11.36000   \n",
       "medv     506.0   22.532806    9.197104    5.00000   17.025000   21.20000   \n",
       "\n",
       "                75%       max  \n",
       "crim       3.677083   88.9762  \n",
       "zn        12.500000  100.0000  \n",
       "indus     18.100000   27.7400  \n",
       "chas       0.000000    1.0000  \n",
       "nox        0.624000    0.8710  \n",
       "rm         6.623500    8.7800  \n",
       "age       94.075000  100.0000  \n",
       "dis        5.188425   12.1265  \n",
       "rad       24.000000   24.0000  \n",
       "tax      666.000000  711.0000  \n",
       "ptratio   20.200000   22.0000  \n",
       "lstat     16.955000   37.9700  \n",
       "medv      25.000000   50.0000  "
      ]
     },
     "execution_count": 3,
     "metadata": {},
     "output_type": "execute_result"
    }
   ],
   "source": [
    "# Descriptive Statistics\n",
    "Boston.describe().T"
   ]
  },
  {
   "attachments": {},
   "cell_type": "markdown",
   "metadata": {},
   "source": [
    "Since we have worked with the Boston Housing Dataset before (in HW #1), we will omit grpahical summaries. Below we will split our data into the major test and non-test sets."
   ]
  },
  {
   "cell_type": "code",
   "execution_count": 4,
   "metadata": {},
   "outputs": [
    {
     "data": {
      "text/plain": [
       "(127, 13)"
      ]
     },
     "execution_count": 4,
     "metadata": {},
     "output_type": "execute_result"
    }
   ],
   "source": [
    "# Initial Split into test and non-test sets\n",
    "from sklearn.model_selection import train_test_split\n",
    "\n",
    "Boston_other, Boston_test = train_test_split(\n",
    "    Boston,\n",
    "    train_size= 0.75,\n",
    "    random_state = 425, # seed\n",
    ")\n",
    "Boston_test.shape"
   ]
  },
  {
   "cell_type": "code",
   "execution_count": 5,
   "metadata": {},
   "outputs": [
    {
     "data": {
      "text/plain": [
       "(379, 13)"
      ]
     },
     "execution_count": 5,
     "metadata": {},
     "output_type": "execute_result"
    }
   ],
   "source": [
    "Boston_other.shape"
   ]
  },
  {
   "cell_type": "code",
   "execution_count": 6,
   "metadata": {},
   "outputs": [],
   "source": [
    "# Separate non-test X and y\n",
    "X_other = Boston_other.drop('medv', axis = 1)\n",
    "y_other = Boston_other.medv\n",
    "# Test X and y\n",
    "X_test = Boston_test.drop('medv', axis = 1)\n",
    "y_test = Boston_test.medv"
   ]
  },
  {
   "attachments": {},
   "cell_type": "markdown",
   "metadata": {},
   "source": [
    "We now move onto the preprocessing step. We do not have categorical variables in our dataset (the only one being `chas` but it is already binary), hence we do not need to use a OneHotEncoder transformer."
   ]
  },
  {
   "cell_type": "code",
   "execution_count": 7,
   "metadata": {},
   "outputs": [],
   "source": [
    "from sklearn.preprocessing import OneHotEncoder, StandardScaler\n",
    "from sklearn.compose import make_column_transformer\n",
    "from sklearn.pipeline import Pipeline\n",
    "\n",
    "# Standardization transformer\n",
    "scalar = StandardScaler()"
   ]
  },
  {
   "attachments": {},
   "cell_type": "markdown",
   "metadata": {},
   "source": [
    "We now build our model. Namely, we will focus on the 3 mentioned earlier (Least Squares, Lasso, and Ridge).\n",
    "\n",
    "#### Lasso and Ridge"
   ]
  },
  {
   "cell_type": "code",
   "execution_count": 23,
   "metadata": {},
   "outputs": [],
   "source": [
    "from sklearn.linear_model import Lasso, Ridge\n",
    "\n",
    "lasso = Lasso(max_iter = 10000)\n",
    "ridge = Ridge(max_iter= 10000)"
   ]
  },
  {
   "cell_type": "code",
   "execution_count": 24,
   "metadata": {},
   "outputs": [],
   "source": [
    "# Pipeline\n",
    "pipe_lasso = Pipeline(steps = [\n",
    "    (\"std_tf\", scalar),\n",
    "    (\"model\", lasso)\n",
    "])\n",
    "pipe_ridge = Pipeline(steps = [\n",
    "    (\"std_tf\", scalar),\n",
    "    (\"model\", ridge)\n",
    "])"
   ]
  },
  {
   "attachments": {},
   "cell_type": "markdown",
   "metadata": {},
   "source": [
    "We now set up our tuning grid in the range of $10^{-2}$ to $10^3$."
   ]
  },
  {
   "cell_type": "code",
   "execution_count": 12,
   "metadata": {},
   "outputs": [],
   "source": [
    "alphas = np.logspace(start = -3, stop = 2, base = 10, num = 100)\n",
    "tuned_parameters = {\"model__alpha\": alphas}"
   ]
  },
  {
   "cell_type": "code",
   "execution_count": 25,
   "metadata": {},
   "outputs": [],
   "source": [
    "from sklearn.model_selection import GridSearchCV\n",
    "# Lasso\n",
    "# Set up CV\n",
    "n_folds = 10\n",
    "search_lasso = GridSearchCV(\n",
    "  pipe_lasso, \n",
    "  tuned_parameters, \n",
    "  cv = n_folds, \n",
    "  scoring = \"neg_root_mean_squared_error\",\n",
    "  # Refit the best model on the whole data set\n",
    "  refit = True \n",
    "  )\n",
    "# Ridge\n",
    "n_folds = 10\n",
    "search_ridge = GridSearchCV(\n",
    "  pipe_ridge, \n",
    "  tuned_parameters, \n",
    "  cv = n_folds, \n",
    "  scoring = \"neg_root_mean_squared_error\",\n",
    "  refit = True \n",
    "  )"
   ]
  },
  {
   "cell_type": "code",
   "execution_count": 26,
   "metadata": {},
   "outputs": [
    {
     "data": {
      "text/plain": [
       "GridSearchCV(cv=10,\n",
       "             estimator=Pipeline(steps=[('std_tf', StandardScaler()),\n",
       "                                       ('model', Ridge(max_iter=10000))]),\n",
       "             param_grid={'model__alpha': array([1.00000000e-03, 1.12332403e-03, 1.26185688e-03, 1.41747416e-03,\n",
       "       1.59228279e-03, 1.78864953e-03, 2.00923300e-03, 2.25701972e-03,\n",
       "       2.53536449e-03, 2.84803587e-03, 3.19926714e-03, 3.59381366e-03,\n",
       "       4.03701726e-03, 4.53487851e-03...\n",
       "       6.89261210e+00, 7.74263683e+00, 8.69749003e+00, 9.77009957e+00,\n",
       "       1.09749877e+01, 1.23284674e+01, 1.38488637e+01, 1.55567614e+01,\n",
       "       1.74752840e+01, 1.96304065e+01, 2.20513074e+01, 2.47707636e+01,\n",
       "       2.78255940e+01, 3.12571585e+01, 3.51119173e+01, 3.94420606e+01,\n",
       "       4.43062146e+01, 4.97702356e+01, 5.59081018e+01, 6.28029144e+01,\n",
       "       7.05480231e+01, 7.92482898e+01, 8.90215085e+01, 1.00000000e+02])},\n",
       "             scoring='neg_root_mean_squared_error')"
      ]
     },
     "execution_count": 26,
     "metadata": {},
     "output_type": "execute_result"
    }
   ],
   "source": [
    "# Fit CV\n",
    "search_lasso.fit(X_other, y_other)\n",
    "search_ridge.fit(X_other, y_other)"
   ]
  },
  {
   "cell_type": "code",
   "execution_count": 35,
   "metadata": {},
   "outputs": [
    {
     "data": {
      "image/png": "[encoded data removed]",
      "text/plain": [
       "<Figure size 360x360 with 1 Axes>"
      ]
     },
     "metadata": {
      "needs_background": "light"
     },
     "output_type": "display_data"
    },
    {
     "data": {
      "image/png": "[encoded data removed]",
      "text/plain": [
       "<Figure size 360x360 with 1 Axes>"
      ]
     },
     "metadata": {
      "needs_background": "light"
     },
     "output_type": "display_data"
    }
   ],
   "source": [
    "# CV results\n",
    "cv_res = pd.DataFrame({\n",
    "  \"alpha\": alphas,\n",
    "  \"rmse_lasso\": -search_lasso.cv_results_[\"mean_test_score\"],\n",
    "  \"rmse_ridge\": -search_ridge.cv_results_[\"mean_test_score\"]\n",
    "  })\n",
    "\n",
    "sns.relplot(\n",
    "  data = cv_res,\n",
    "  x = \"alpha\",\n",
    "  y = \"rmse_lasso\",\n",
    "  ).set(\n",
    "    xlabel = \"alpha\",\n",
    "    ylabel = \"CV RMSE\",\n",
    "    title = \"Lasso\",\n",
    "    xscale = \"log\"\n",
    ")\n",
    "sns.relplot(\n",
    "  data = cv_res,\n",
    "  x = \"alpha\",\n",
    "  y = \"rmse_ridge\",\n",
    "  ).set(\n",
    "    xlabel = \"alpha\",\n",
    "    ylabel = \"CV RMSE\",\n",
    "    title = \"Ridge\",\n",
    "    xscale = \"log\"\n",
    ")\n",
    "plt.show()"
   ]
  },
  {
   "attachments": {},
   "cell_type": "markdown",
   "metadata": {},
   "source": [
    "From the above plots, we can clearly see how the CV RMSE changes based upon the selected constraint parameter (in this case alpha, but mathematically $\\lambda$). For Lasso, the minimum seems to be at low alpha values (although a clear minimum is not present). Whereas for Ridge,we see a clear dip around an alpha of 10."
   ]
  },
  {
   "cell_type": "code",
   "execution_count": 36,
   "metadata": {},
   "outputs": [
    {
     "name": "stdout",
     "output_type": "stream",
     "text": [
      "Best CV RMSE (Lasso):  4.725006671650144\n",
      "Best CV RMSE (Ridge):  4.721794901043198\n"
     ]
    }
   ],
   "source": [
    "print('Best CV RMSE (Lasso): ',  -search_lasso.best_score_)\n",
    "print('Best CV RMSE (Ridge): ',  -search_ridge.best_score_)"
   ]
  },
  {
   "cell_type": "code",
   "execution_count": 37,
   "metadata": {},
   "outputs": [
    {
     "name": "stdout",
     "output_type": "stream",
     "text": [
      "Lasso model:  Pipeline(steps=[('std_tf', StandardScaler()),\n",
      "                ('model', Lasso(alpha=0.016297508346206444, max_iter=10000))])\n",
      "Ridge model:  Pipeline(steps=[('std_tf', StandardScaler()),\n",
      "                ('model', Ridge(alpha=5.462277217684343, max_iter=10000))])\n",
      "Test RMSE (Lasso):  4.8822192249764385\n",
      "Test RMSE (Ridge):  4.880408916408217\n"
     ]
    }
   ],
   "source": [
    "# Finalize model\n",
    "print(\"Lasso model: \", search_lasso.best_estimator_)\n",
    "print(\"Ridge model: \", search_ridge.best_estimator_)\n",
    "\n",
    "from sklearn.metrics import mean_squared_error\n",
    "\n",
    "lasso_rmse_final = mean_squared_error(y_test,\n",
    " search_lasso.best_estimator_.predict(X_test), squared = False)\n",
    "ridge_rmse_final = mean_squared_error(y_test,\n",
    " search_ridge.best_estimator_.predict(X_test), squared = False)\n",
    "print('Test RMSE (Lasso): ', lasso_rmse_final)\n",
    "print('Test RMSE (Ridge): ', ridge_rmse_final)"
   ]
  },
  {
   "attachments": {},
   "cell_type": "markdown",
   "metadata": {},
   "source": [
    "#### Least Squares"
   ]
  },
  {
   "cell_type": "code",
   "execution_count": 58,
   "metadata": {},
   "outputs": [
    {
     "name": "stdout",
     "output_type": "stream",
     "text": [
      "Best CV RMSE (OLS):  3.672945713886665\n",
      "Test RMSE (OLS):  4.884457866912155\n"
     ]
    }
   ],
   "source": [
    "# Linear Regression\n",
    "from sklearn.linear_model import LinearRegression\n",
    "from sklearn.model_selection import cross_val_score\n",
    "\n",
    "OLS = LinearRegression()\n",
    "pipe_OLS = Pipeline([\n",
    "    (\"std_tf\", scalar),\n",
    "    (\"model\", OLS)\n",
    "])\n",
    "\n",
    "OLS_scores = cross_val_score(\n",
    "    pipe_OLS,\n",
    "    X_other,\n",
    "    y_other,\n",
    "    scoring = 'neg_root_mean_squared_error',\n",
    "    cv = 10\n",
    ")\n",
    "\n",
    "print('Best CV RMSE (OLS): ',  (-OLS_scores).min())\n",
    "\n",
    "OLS_rmse_final = mean_squared_error(\n",
    "    y_test,\n",
    "    pipe_OLS.fit(X_other, y_other).predict(X_test),\n",
    "    squared = False)\n",
    "print('Test RMSE (OLS): ', OLS_rmse_final)"
   ]
  },
  {
   "attachments": {},
   "cell_type": "markdown",
   "metadata": {},
   "source": [
    "Hence, our final results are\n",
    "\n",
    "| Method | CV RMSE | Test RMSE |\n",
    "|:------:|:------:|:------:|:------:|\n",
    "| LS | 3.673 | 4.885|\n",
    "| Ridge | 4.722 | 4.880 |\n",
    "| Lasso | 4.725 | 4.882 |\n",
    "\n",
    "From these results, it is clear that **least squres had the smallest CV RMSE**, and all models had a similar Test RMSE. However, **Ridge (by a small amount) had the lowest Test RMSE** of all 3 models tested."
   ]
  },
  {
   "attachments": {},
   "cell_type": "markdown",
   "metadata": {},
   "source": [
    "### Part (b)\n",
    "\n",
    "Propose a model (or set of models) that seem to perform well on\n",
    "this data set, and justify your answer. Make sure that you are\n",
    "evaluating model performance using validation set error, cross-\n",
    "validation, or some other reasonable alternative, as opposed to\n",
    "using training error.\n",
    "\n",
    "#### Solution\n",
    "\n",
    "We present the same table from part (a):\n",
    "\n",
    "| Method | CV RMSE | Test RMSE |\n",
    "|:------:|:------:|:------:|:------:|\n",
    "| LS | 3.673 | 4.885|\n",
    "| Ridge | 4.722 | 4.880 |\n",
    "| Lasso | 4.725 | 4.882 |\n",
    "\n",
    "We propose that the **Ridge model**:\n",
    "\n",
    "$$\\sum_{i=1}^n\\Biggl(y_i - \\beta_0 - \\sum_{j=1}^p\\beta_jx_{ij}\\Biggr) - \\lambda\\sum_{j=1}^p\\beta_j^2$$\n",
    "\n",
    "as the best model for our data. It has (albeit by a small margin) the lowest Test RMSE; hence, it would be the best model (of those tested) for prediction."
   ]
  },
  {
   "attachments": {},
   "cell_type": "markdown",
   "metadata": {},
   "source": [
    "### Part (c)\n",
    "\n",
    "Does your chosen model involve all of the features in the data\n",
    "set? Why or why not?\n",
    "\n",
    "#### Solution"
   ]
  },
  {
   "cell_type": "code",
   "execution_count": 70,
   "metadata": {},
   "outputs": [
    {
     "data": {
      "text/plain": [
       "array(['crim', 'zn', 'indus', 'chas', 'nox', 'rm', 'age', 'dis', 'rad',\n",
       "       'tax', 'ptratio', 'lstat'], dtype=object)"
      ]
     },
     "execution_count": 70,
     "metadata": {},
     "output_type": "execute_result"
    }
   ],
   "source": [
    "search_ridge.best_estimator_.feature_names_in_"
   ]
  },
  {
   "attachments": {},
   "cell_type": "markdown",
   "metadata": {},
   "source": [
    "We see that our Ridge model takes all of our features into the mode; however, one drawback of Ridge regression is that we cannot easily evalute feature importance. Hence, we do not know to what extent our features affect our response variable. OLS and Lasso allow us to do this, so if the the goal is inference, then we may not want to use Ridge.\n",
    "\n",
    "So in the broad sense, **yes our model has all of the features**; however, we do not know to what extend they are useful in predicting `medv`."
   ]
  },
  {
   "attachments": {},
   "cell_type": "markdown",
   "metadata": {},
   "source": [
    "## ISL Exercise 5.4.2 (10pts)\n",
    "\n",
    "We will now derive the probability that a given observation is part\n",
    "of a bootstrap sample. Suppose that we obtain a bootstrap sample\n",
    "from a set of n observations.\n",
    "\n",
    "### Part (a)\n",
    "\n",
    "What is the probability that the first bootstrap observation is\n",
    "not the jth observation from the original sample? Justify your\n",
    "answer.\n",
    "\n",
    "#### Solution\n",
    "\n",
    "The probability the the first bootstrap observation is not the $j$th observation from the original samle is\n",
    "$$1 - \\frac{1}{n}$$\n",
    "where $n$ is the number of observations. The idea here is that the chance of the first observation being the $j$th observation is $\\frac{1}{n}$. So to get the chance that it is *not* the $j$th observation, we take the compliment.\n",
    "\n",
    "### Part (b)\n",
    "\n",
    "What is the probability that the second bootstrap observation\n",
    "is not the jth observation from the original sample?\n",
    "\n",
    "#### Solution\n",
    "\n",
    "The probability the the second bootstrap observation is not the $j$th observation from the original samle is\n",
    "$$1 - \\frac{1}{n}$$\n",
    "This is by independence of the boostrapping process. Since bootstrap performs repeated sampling with replacement, the draws are independent. Hence, the same probability.\n",
    "\n",
    "### Part (c)\n",
    "\n",
    "Argue that the probability that the jth observation is not in the\n",
    "bootstrap sample is $(1-1/n)^n$.\n",
    "\n",
    "#### Solution\n",
    "\n",
    "The proof follows from basic probability theory of independence. First, note that the probaility of not chooosing a sample is $1 - \\frac{1}{n}$ as shown before. And since the draws are not dependent on each other, the probability of not getting the $j$th observation $n$ times is equal to\n",
    "$$\\prod_{i=1}^n (1 - 1/n)_i = (1 - 1/n) \\cdot (1 - 1/n) \\cdots (1 - 1/n) = (1 - 1/n)^n$$\n",
    "\n",
    "### Part (d)\n",
    "\n",
    "When $n=5$, what is the probability that the jth observation is\n",
    "in the bootstrap sample?\n",
    "\n",
    "#### Solution\n",
    "\n",
    "Considering the probability of the jth observation not being in is $(1-1/n)^n$, the chance of it being in is just the complement\n",
    "$$ 1 - (1-1/n)^n = 1 - (1-1/5)^5 = 1 - (4/5)^5 \\approx 67.2\\% $$\n",
    "\n",
    "### Part (e)\n",
    "\n",
    "When $n=100$, what is the probability that the jth observation is\n",
    "in the bootstrap sample?\n",
    "\n",
    "#### Solution\n",
    "\n",
    "Same idea as part (d)\n",
    "$$ 1 - (1-1/n)^n = 1 - (1-1/100)^5 = 1 - (99/100)^{100} \\approx 63.4\\% $$\n",
    "\n",
    "### Part (f)\n",
    "\n",
    "When $n=10,000$, what is the probability that the jth observation is\n",
    "in the bootstrap sample?\n",
    "\n",
    "#### Solution\n",
    "\n",
    "Same idea as part (d)\n",
    "$$ 1 - (1-1/n)^n = 1 - (1-1/10000)^{10000} \\approx 63.2\\% $$\n",
    "\n",
    "### Part (g)\n",
    "\n",
    "Create a plot that displays, for each integer value of $n$ from 1\n",
    "to 100,000, the probability that the jth observation is in the\n",
    "bootstrap sample. Comment on what you observe.\n",
    "\n",
    "#### Solution"
   ]
  },
  {
   "cell_type": "code",
   "execution_count": 102,
   "metadata": {},
   "outputs": [
    {
     "data": {
      "image/png": "[encoded data removed]",
      "text/plain": [
       "<Figure size 360x360 with 1 Axes>"
      ]
     },
     "metadata": {
      "needs_background": "light"
     },
     "output_type": "display_data"
    }
   ],
   "source": [
    "def pr(n):\n",
    "    p = (1 - (1 - 1/n)**n)\n",
    "    return p\n",
    "x = np.linspace(1,100000, 100000)\n",
    "plt.figure(figsize=(5,5))\n",
    "plt.scatter(x,pr(x))\n",
    "plt.xlabel(\"n\")\n",
    "plt.ylabel(\"Probability\")\n",
    "plt.title(\"Probability Convergence\")\n",
    "plt.axhline(0.632, c=\"red\", label=\"0.632\")\n",
    "plt.legend()\n",
    "plt.show()"
   ]
  },
  {
   "attachments": {},
   "cell_type": "markdown",
   "metadata": {},
   "source": [
    "It is clear from the above plot that the probability rapidly converges to about 63.2\\%. The plot takes $n$ to 100,000 but it is clear that this is entirely unnecessary. Convergence happens much sooner."
   ]
  },
  {
   "attachments": {},
   "cell_type": "markdown",
   "metadata": {},
   "source": [
    "### Part (h)\n",
    "\n",
    "We will now investigate numerically the probability that a boot-\n",
    "strap sample of size $n = 100$ contains the jth observation. Here\n",
    "$j = 4$. We repeatedly create bootstrap samples, and each time\n",
    "we record whether or not the fourth observation is contained in\n",
    "the bootstrap sample. (The code below is presented in R)\n",
    "\n",
    "```\n",
    "store <- rep(NA, 10000)\n",
    "for(i in 1:10000){\n",
    "store[i] <- sum(sample(1:100, rep=TRUE) == 4) > 0\n",
    "}\n",
    "mean(store)\n",
    "```\n",
    "\n",
    "#### Solution\n",
    "\n",
    "If we run the code in R in terminal (not shown here), then we get the output:\n",
    "```\n",
    "[1] 0.6411\n",
    "```\n",
    "The idea here, is that the code is creawting 10,000 samples of numbers from 1 to 100 with replacement. Then it is seeing how many times the number 4 occurs in each sample. If it occurs more than 0 times, then it is put into the `store` variable. Taking the average of the variable reveals that about 60\\% of the time, the sample will contain 4."
   ]
  },
  {
   "attachments": {},
   "cell_type": "markdown",
   "metadata": {},
   "source": [
    "## ISL Exercise 5.4.9 (20pts)\n",
    "\n",
    "We will now consider the Boston housing data once again.\n",
    "\n",
    "### Part (a)\n",
    "\n",
    "Based on this data set, provide an estiamte for the population mean of `medv`. Call this estimate $\\hat{\\mu}$.\n",
    "\n",
    "#### Solution"
   ]
  },
  {
   "cell_type": "code",
   "execution_count": 4,
   "metadata": {},
   "outputs": [
    {
     "name": "stdout",
     "output_type": "stream",
     "text": [
      "Pop Mean Estimate:  22.532806324110698\n"
     ]
    }
   ],
   "source": [
    "print(\"Pop Mean Estimate: \", Boston['medv'].mean())"
   ]
  },
  {
   "attachments": {},
   "cell_type": "markdown",
   "metadata": {},
   "source": [
    "It is clear from the above code that $\\hat{\\mu} = 22.533$"
   ]
  },
  {
   "attachments": {},
   "cell_type": "markdown",
   "metadata": {},
   "source": [
    "### Part (b)\n",
    "\n",
    "Provide an estimate of the standard error of $\\hat{\\mu}$. Interpret this result.\n",
    "\n",
    "#### Solution"
   ]
  },
  {
   "cell_type": "code",
   "execution_count": 7,
   "metadata": {},
   "outputs": [
    {
     "name": "stdout",
     "output_type": "stream",
     "text": [
      "Standard Error of mu hat:  0.4084569346972866\n"
     ]
    }
   ],
   "source": [
    "def se_mean(x):\n",
    "    medv = np.array(x)\n",
    "    se = np.std(medv) / np.sqrt(len(medv))\n",
    "    return se\n",
    "print(\"Standard Error of mu hat: \", se_mean(Boston['medv']))"
   ]
  },
  {
   "attachments": {},
   "cell_type": "markdown",
   "metadata": {},
   "source": [
    "We estimate that $\\text{SE}(\\hat{\\mu}) = 0.408$."
   ]
  },
  {
   "attachments": {},
   "cell_type": "markdown",
   "metadata": {},
   "source": [
    "### Part (c)\n",
    "\n",
    "Now estimate the standard error of $\\hat{\\mu}$ using the bootstrap. How does this compare to your answer from (b)?\n",
    "\n",
    "#### Solution"
   ]
  },
  {
   "cell_type": "code",
   "execution_count": 29,
   "metadata": {},
   "outputs": [
    {
     "name": "stdout",
     "output_type": "stream",
     "text": [
      "Bootstrap se:  0.4087345541618287\n"
     ]
    }
   ],
   "source": [
    "def bootstrap_se(data, n_replicates=1000):\n",
    "    sample_mean = np.mean(data)\n",
    "    replicates = np.empty(n_replicates)\n",
    "    \n",
    "    for i in range(n_replicates):\n",
    "        sample = np.random.choice(data, size=len(data), replace=True)\n",
    "        replicates[i] = np.mean(sample)\n",
    "    \n",
    "    return np.std(replicates)\n",
    "\n",
    "se_pred = bootstrap_se(Boston['medv'])\n",
    "print('Bootstrap se: ', se_pred)"
   ]
  },
  {
   "attachments": {},
   "cell_type": "markdown",
   "metadata": {},
   "source": [
    "As seen above, the bootstrap methodology can give a very good estimate of the standard error for the mean. The answer from part (c) is very close to that of part (b)."
   ]
  },
  {
   "attachments": {},
   "cell_type": "markdown",
   "metadata": {},
   "source": [
    "### Part (d)\n",
    "\n",
    "Based on your bootstrap estimate from (c), provide a 95% confidence interval for the mean of `medv`. Compare it to the results obtained using `t.test(Boston$medv)`.\n",
    "\n",
    "#### Solution"
   ]
  },
  {
   "cell_type": "code",
   "execution_count": 36,
   "metadata": {},
   "outputs": [
    {
     "name": "stdout",
     "output_type": "stream",
     "text": [
      "The confidence interval is: [ 21.7153 , 23.3503 ]\n"
     ]
    }
   ],
   "source": [
    "mu_hat = np.mean(Boston['medv'])\n",
    "CI_low = mu_hat - (2*se_pred)\n",
    "CI_high = mu_hat + (2*se_pred)\n",
    "\n",
    "print('The confidence interval is: [', round(CI_low, 4), ',', round(CI_high,4), ']')"
   ]
  },
  {
   "attachments": {},
   "cell_type": "markdown",
   "metadata": {},
   "source": [
    "Running `t.test(Boston$medv)` in R delivers us the result\n",
    "\n",
    "`95 percent confidence interval:`\n",
    "\n",
    "`21.73 23.34`\n",
    "\n",
    "Which is very similar to the results we got by utilizing the classic confidence interval formula."
   ]
  },
  {
   "attachments": {},
   "cell_type": "markdown",
   "metadata": {},
   "source": [
    "### Part (e)\n",
    "\n",
    "Based on this dat set, provide an estimate, $\\hat{\\mu}_{med}$, for the median value of `medv` in the population.\n",
    "\n",
    "#### Solution"
   ]
  },
  {
   "cell_type": "code",
   "execution_count": 37,
   "metadata": {},
   "outputs": [
    {
     "name": "stdout",
     "output_type": "stream",
     "text": [
      "Median:  21.2\n"
     ]
    }
   ],
   "source": [
    "med_hat = np.median(Boston['medv'])\n",
    "print('Median: ', med_hat)"
   ]
  },
  {
   "attachments": {},
   "cell_type": "markdown",
   "metadata": {},
   "source": [
    "Thus we find that $\\hat{\\mu}_{med} = 21.2$."
   ]
  },
  {
   "attachments": {},
   "cell_type": "markdown",
   "metadata": {},
   "source": [
    "### Part (f)\n",
    "\n",
    "We now would like to estimate the standard error of $\\hat{\\mu}_{med}$. Unfortunately, there is no simple formula for computing the standard\n",
    "error of the median. Instead, estimate the standard error of the\n",
    "median using the bootstrap. Comment on your findings."
   ]
  },
  {
   "cell_type": "code",
   "execution_count": 50,
   "metadata": {},
   "outputs": [
    {
     "name": "stdout",
     "output_type": "stream",
     "text": [
      "Bootstrap Median se:  0.38371791396806043\n"
     ]
    }
   ],
   "source": [
    "def bootstrap_se_med(data, n_replicates=1000):\n",
    "    sample_median = np.median(data)\n",
    "    replicates = np.empty(n_replicates)\n",
    "    \n",
    "    for i in range(n_replicates):\n",
    "        sample = np.random.choice(data, size=len(data), replace=True)\n",
    "        replicates[i] = np.median(sample)\n",
    "    \n",
    "    return np.std(replicates)\n",
    "\n",
    "se_med = bootstrap_se_med(Boston['medv'])\n",
    "print('Bootstrap Median se: ', se_med)"
   ]
  },
  {
   "attachments": {},
   "cell_type": "markdown",
   "metadata": {},
   "source": [
    "The standard error for $\\hat{\\mu}_{med}$ is about 0.38. This value is relatively small in comparison to the median value of 21.2. Hence, there is not too much variation in the median value."
   ]
  },
  {
   "attachments": {},
   "cell_type": "markdown",
   "metadata": {},
   "source": [
    "### Part (g)\n",
    "\n",
    "Based on this data set, provide an estimate for the tenth percentile of `medv` in Bvoston census tracts. Call this quantity $\\hat{\\mu}_{0.1}$.\n",
    "\n",
    "#### Solution\n",
    "\n"
   ]
  },
  {
   "cell_type": "code",
   "execution_count": 51,
   "metadata": {},
   "outputs": [
    {
     "name": "stdout",
     "output_type": "stream",
     "text": [
      "Tenth Percentile:  12.75\n"
     ]
    }
   ],
   "source": [
    "percent_10 = np.percentile(Boston['medv'], 10)\n",
    "print('Tenth Percentile: ', percent_10)"
   ]
  },
  {
   "attachments": {},
   "cell_type": "markdown",
   "metadata": {},
   "source": [
    "Hence, we find that $\\hat{\\mu}_{0.1} = 12.75$."
   ]
  },
  {
   "attachments": {},
   "cell_type": "markdown",
   "metadata": {},
   "source": [
    "### Part (h)\n",
    "\n",
    "Use the bootstrap to estimate the standard error of $\\hat{\\mu}_{0.1}$. Comment on your findings.\n",
    "\n",
    "#### Solution"
   ]
  },
  {
   "cell_type": "code",
   "execution_count": 58,
   "metadata": {},
   "outputs": [
    {
     "name": "stdout",
     "output_type": "stream",
     "text": [
      "Bootstrap Standard Error: 0.5036616895297874\n"
     ]
    }
   ],
   "source": [
    "# More concise bootstrap code\n",
    "quantiles = [Boston['medv'].sample(\n",
    "    n=len(Boston),\n",
    "    replace=True).quantile(0.1) for _ in range(1000)]\n",
    "print('Bootstrap Standard Error:', np.std(quantiles))"
   ]
  },
  {
   "attachments": {},
   "cell_type": "markdown",
   "metadata": {},
   "source": [
    "The standard error of $\\hat{\\mu}_{0.1}$ is about 0.5. Once again, this is relatively small in comparison to our $\\hat{\\mu}_{0.1}$ value."
   ]
  },
  {
   "attachments": {},
   "cell_type": "markdown",
   "metadata": {},
   "source": [
    "## Bonus question (20pts)\n",
    "\n",
    "Consider a linear regression, fit by least squares to a set of training data $(x_1, y_1), \\ldots, (x_N,  y_N)$ drawn at random from a population. Let $\\hat \\beta$ be the least squares estimate. Suppose we have some test data $(\\tilde{x}_1, \\tilde{y}_1), \\ldots, (\\tilde{x}_M, \\tilde{y}_M)$ drawn at random from the same population as the training data. If $R_{\\text{train}}(\\beta) = \\frac{1}{N} \\sum_{i=1}^N (y_i - \\beta^T x_i)^2$ and $R_{\\text{test}}(\\beta) = \\frac{1}{M} \\sum_{i=1}^M (\\tilde{y}_i - \\beta^T \\tilde{x}_i)^2$. Show that\n",
    "$$\n",
    "\\operatorname{E}[R_{\\text{train}}(\\hat{\\beta})] < \\operatorname{E}[R_{\\text{test}}(\\hat{\\beta})].\n",
    "$$\n",
    "\n",
    "#### Solution"
   ]
  },
  {
   "attachments": {},
   "cell_type": "markdown",
   "metadata": {},
   "source": [
    "In order to prove this inequality, we would like our choice of $M$ to be arbitrary such that we can set $M=N$. With that, we can then utilize the minimizing nature of our $\\hat{\\beta}$ to show that the two expectations are, in fact, equal. So we propose the Lemma\n",
    "\n",
    "*Lemma 1: $\\mathbb{E} \\left[R_{test} (\\hat{\\beta}) \\right]$ is the same irrespective of our choice of $M$*.\n",
    "\n",
    "*Proof*:\n",
    "\n",
    "First consider the expected testing MSE\n",
    "\\begin{align*}\n",
    "\\mathbb{E} \\left[R_{test} (\\hat{\\beta}) \\right] &= \\mathbb{E} \\left[ \\frac{1}{M} \\sum_{i=1}^{M} (\\tilde{y}_i - \\hat{\\beta}^T \\tilde{x}_i)^2    \\right] \\\\\n",
    "&= \\frac{1}{M} \\sum_{i=1}^{M} \\mathbb{E} \\left[ (\\tilde{y}_i - \\hat{\\beta}^T \\tilde{x}_i)^2 \\right ] \\\\\n",
    "\\end{align*}\n",
    "by Linearity of Expectations. Then we can expand the square to get\n",
    "$$ \\frac{1}{M} \\sum_{i=1}^{M} \\left( \\mathbb{E}[\\tilde{y}_i^2] + \\mathbb{E} \\left[(\\hat{\\beta}^T \\tilde{x}_i )^2 \\right] - 2 \\mathbb{E} \\left[\\tilde{y}_i \\tilde{x}_i^T \\hat{\\beta} \\right]  \\right)$$\n",
    "We know that all the data points $(\\tilde{x}_i , \\tilde{y}_i)_{i=1}^{M}$ are drawn from the same population. Because of this fact, we can justify dropping the tilde from our variables. Namely, we can replace $\\mathbb{E}[\\tilde{y}_i^2] \\ \\forall i = 1,\\dots,M$ with $\\mathbb{E}[y^2]$. In the same way, we replace $\\mathbb{E}[\\tilde{x}_i^2]$ and $\\mathbb{E}[\\tilde{y}\\tilde{x}^T]$ with the their non-tilde counterparts.\n",
    "\n",
    "Furthermore, by Independence and the Law of Iterated Expectations (recall: $\\mathbb{E}(X) = \\mathbb{E}(\\mathbb{E} (X | Y))$) we break apart the expectation of a product into a product of expecations:\n",
    "$$\\mathbb{E}\\left[(\\hat{\\beta}^T \\tilde{x}_i)^2 \\right] = \\mathbb{E}\\left[\\hat{\\beta}^T \\right] \\mathbb{E}[x^2]$$\n",
    "and\n",
    "$$\\left[\\tilde{y}_i \\tilde{x}_i^T \\hat{\\beta} \\right] = \\mathbb{E}[xy]^T \\mathbb{E}\\left[\\hat{\\beta} \\right]$$\n",
    "We can substitute these expressions back into our previous expression to get\n",
    "$$ \\mathbb{E} \\left[R_{test} (\\hat{\\beta}) \\right] = \\frac{1}{M} \\mathbb{E}[y^2] + \\mathbb{E}\\left[\\hat{\\beta}^T \\right] \\mathbb{E}[x^2] +  \\mathbb{E}[xy]^T \\mathbb{E}\\left[\\hat{\\beta} \\right] $$\n",
    "Hence, our expected MSE does not depend on our choice of $M$. This concludes the proof of Lemma.\n",
    "\n",
    "Using Lemma 1, without loss of generality, we can take $M=N$ and re-write our testing MSE as\n",
    "$$\\mathbb{E} \\left[R_{test} (\\hat{\\beta}) \\right] = \\mathbb{E} \\left[ \\frac{1}{N} \\sum_{i=1}^{N} (\\tilde{y}_i - \\hat{\\beta}^T \\tilde{x}_i)^2    \\right]$$\n",
    "We know, from basic properties of linear regression, that $\\hat{\\beta}$ would not minimize the testing RSS (or SSE); rather, it would be some OLS estimate $\\hat{\\beta}_{test}$ which we would get by conducting OLS on the testing data. From that, we then say that the MSE using the incorrect $\\hat{\\beta}$ estimate must be strictly greater than the correct Testing OLS coefficient:\n",
    "$$\\frac{1}{N} \\sum_{i=1}^{N} (\\tilde{y}_i - \\hat{\\beta}^T \\tilde{x}_i)^2 > \\frac{1}{N} \\sum_{i=1}^{N} (\\tilde{y}_i - \\hat{\\beta}^T_{test} \\tilde{x}_i)^2$$\n",
    "By basic properites of expectations, we know that the same holds true for their respective expected values\n",
    "\\begin{align*}\n",
    "\\mathbb{E} \\left[\\frac{1}{N} \\sum_{i=1}^{N} (\\tilde{y}_i - \\hat{\\beta}^T \\tilde{x}_i)^2 \\right] &> \\mathbb{E} \\left[\\frac{1}{N} \\sum_{i=1}^{N} (\\tilde{y}_i - \\hat{\\beta}^T_{test} \\tilde{x}_i)^2 \\right] \\\\\n",
    "\\mathbb{E} \\left[R_{test} (\\hat{\\beta}) \\right] &> \\mathbb{E} \\left[\\frac{1}{N} \\sum_{i=1}^{N} (\\tilde{y}_i - \\hat{\\beta}^T_{test} \\tilde{x}_i)^2 \\right]\n",
    "\\end{align*}\n",
    "We now turn our attention to the right side of this inequality. Namely, we recall that $(\\tilde{x}_i , \\tilde{y}_i)_{i=1}^{N}$ is an arbitrary set of points from a larger population, and the OLS testing coefficient associated with it is simply a result of this arbitrary choice of $N$. Hence, we can say that $(\\tilde{x}_i , \\tilde{y}_i)_{i=1}^{N}$ and $(x_i, y_i)_{i=1}^{N}$ have the same distribution and thus the same expectation. This results in\n",
    "\\begin{align*}\n",
    "\\mathbb{E} \\left[\\frac{1}{N} \\sum_{i=1}^{N} (\\tilde{y}_i - \\hat{\\beta}^T_{test} \\tilde{x}_i)^2 \\right] &= \\mathbb{E} \\left[\\frac{1}{N} \\sum_{i=1}^{N} (y_i - \\hat{\\beta}^T x_i)^2 \\right] \\\\\n",
    "&= \\mathbb{E}\\left[R_{\\text{train}}(\\hat{\\beta}) \\right]\n",
    "\\end{align*}\n",
    "Putting the two results back together, we prove the statement\n",
    "$$\\mathbb{E}\\left[R_{\\text{train}}(\\hat{\\beta}) \\right] < \\mathbb{E} \\left[R_{test} (\\hat{\\beta}) \\right]$$"
   ]
  }
 ],
 "metadata": {
  "kernelspec": {
   "display_name": "base",
   "language": "python",
   "name": "python3"
  },
  "language_info": {
   "codemirror_mode": {
    "name": "ipython",
    "version": 3
   },
   "file_extension": ".py",
   "mimetype": "text/x-python",
   "name": "python",
   "nbconvert_exporter": "python",
   "pygments_lexer": "ipython3",
   "version": "3.9.12 (main, Apr  4 2022, 05:22:27) [MSC v.1916 64 bit (AMD64)]"
  },
  "orig_nbformat": 4,
  "vscode": {
   "interpreter": {
    "hash": "31df7c7627a67be450e0b97ef203135bae9a88aae24921ec8b8b14d7d7918e04"
   }
  }
 },
 "nbformat": 4,
 "nbformat_minor": 2
}
