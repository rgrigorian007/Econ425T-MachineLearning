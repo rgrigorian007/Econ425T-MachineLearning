{
  "cells": [
    {
      "attachments": {},
      "cell_type": "markdown",
      "metadata": {
        "id": "7ywSRtNI4s5h"
      },
      "source": [
        "# Econ 441B Week 6 \\& 7 Assignment\n",
        "# Richard Grigorian (UID: 505-088-797)"
      ]
    },
    {
      "cell_type": "code",
      "execution_count": 1,
      "metadata": {
        "id": "nsG1QV154GYZ"
      },
      "outputs": [],
      "source": [
        "import pandas as pd\n",
        "# from google.colab import drive\n",
        "import matplotlib.pyplot as plt\n",
        "import numpy as np\n",
        "import datetime\n",
        "\n",
        "from sklearn.model_selection import train_test_split\n",
        "from sklearn.preprocessing import StandardScaler\n",
        "from sklearn.neural_network import MLPRegressor\n",
        "from sklearn.model_selection import GridSearchCV\n",
        "from sklearn.metrics import mean_squared_error\n",
        "\n",
        "from keras.models import Sequential\n",
        "from keras.layers import Dense"
      ]
    },
    {
      "cell_type": "code",
      "execution_count": 2,
      "metadata": {
        "colab": {
          "base_uri": "https://localhost:8080/"
        },
        "id": "Iku0T8Ou4Lcu",
        "outputId": "eaeac15d-3f3b-4afe-f6f8-ca4ddb4de9f9"
      },
      "outputs": [
        {
          "name": "stdout",
          "output_type": "stream",
          "text": [
            "Mounted at /content/gdrive/\n"
          ]
        }
      ],
      "source": [
        "# drive.mount('/content/gdrive/', force_remount = True)"
      ]
    },
    {
      "attachments": {},
      "cell_type": "markdown",
      "metadata": {},
      "source": [
        "## 1. Preprocess your data into scaled input variables and an output variable."
      ]
    },
    {
      "cell_type": "code",
      "execution_count": 2,
      "metadata": {
        "id": "Q7XmCWs_rULl"
      },
      "outputs": [],
      "source": [
        "# Loading Data\n",
        "df = pd.read_csv(\"CLV.csv\")"
      ]
    },
    {
      "cell_type": "code",
      "execution_count": 3,
      "metadata": {
        "colab": {
          "base_uri": "https://localhost:8080/",
          "height": 540
        },
        "id": "hN53osSaWoJd",
        "outputId": "1c9584d9-43e8-415e-9ffe-25a168a02267"
      },
      "outputs": [
        {
          "data": {
            "text/html": [
              "<div>\n",
              "<style scoped>\n",
              "    .dataframe tbody tr th:only-of-type {\n",
              "        vertical-align: middle;\n",
              "    }\n",
              "\n",
              "    .dataframe tbody tr th {\n",
              "        vertical-align: top;\n",
              "    }\n",
              "\n",
              "    .dataframe thead th {\n",
              "        text-align: right;\n",
              "    }\n",
              "</style>\n",
              "<table border=\"1\" class=\"dataframe\">\n",
              "  <thead>\n",
              "    <tr style=\"text-align: right;\">\n",
              "      <th></th>\n",
              "      <th>Unnamed: 0</th>\n",
              "      <th>Customer Lifetime Value</th>\n",
              "      <th>Income</th>\n",
              "      <th>Number of Policies</th>\n",
              "      <th>Total Claim Amount</th>\n",
              "      <th>Months Since Last Claim</th>\n",
              "      <th>Vehicle Size_Large</th>\n",
              "      <th>Vehicle Size_Medsize</th>\n",
              "      <th>Gender_M</th>\n",
              "      <th>EmploymentStatus_Employed</th>\n",
              "      <th>EmploymentStatus_Medical Leave</th>\n",
              "      <th>EmploymentStatus_Retired</th>\n",
              "      <th>EmploymentStatus_Unemployed</th>\n",
              "      <th>Policy Type_Corporate Auto</th>\n",
              "      <th>Policy Type_Personal Auto</th>\n",
              "      <th>Marital Status_Divorced</th>\n",
              "      <th>Marital Status_Married</th>\n",
              "      <th>Marital Status_Single</th>\n",
              "    </tr>\n",
              "  </thead>\n",
              "  <tbody>\n",
              "    <tr>\n",
              "      <th>0</th>\n",
              "      <td>0</td>\n",
              "      <td>2763.519279</td>\n",
              "      <td>56274</td>\n",
              "      <td>1</td>\n",
              "      <td>384.811147</td>\n",
              "      <td>32</td>\n",
              "      <td>0</td>\n",
              "      <td>1</td>\n",
              "      <td>0</td>\n",
              "      <td>1</td>\n",
              "      <td>0</td>\n",
              "      <td>0</td>\n",
              "      <td>0</td>\n",
              "      <td>1</td>\n",
              "      <td>0</td>\n",
              "      <td>0</td>\n",
              "      <td>1</td>\n",
              "      <td>0</td>\n",
              "    </tr>\n",
              "    <tr>\n",
              "      <th>1</th>\n",
              "      <td>1</td>\n",
              "      <td>6979.535903</td>\n",
              "      <td>0</td>\n",
              "      <td>8</td>\n",
              "      <td>1131.464935</td>\n",
              "      <td>13</td>\n",
              "      <td>0</td>\n",
              "      <td>1</td>\n",
              "      <td>0</td>\n",
              "      <td>0</td>\n",
              "      <td>0</td>\n",
              "      <td>0</td>\n",
              "      <td>1</td>\n",
              "      <td>0</td>\n",
              "      <td>1</td>\n",
              "      <td>0</td>\n",
              "      <td>0</td>\n",
              "      <td>1</td>\n",
              "    </tr>\n",
              "    <tr>\n",
              "      <th>2</th>\n",
              "      <td>2</td>\n",
              "      <td>12887.431650</td>\n",
              "      <td>48767</td>\n",
              "      <td>2</td>\n",
              "      <td>566.472247</td>\n",
              "      <td>18</td>\n",
              "      <td>0</td>\n",
              "      <td>1</td>\n",
              "      <td>0</td>\n",
              "      <td>1</td>\n",
              "      <td>0</td>\n",
              "      <td>0</td>\n",
              "      <td>0</td>\n",
              "      <td>0</td>\n",
              "      <td>1</td>\n",
              "      <td>0</td>\n",
              "      <td>1</td>\n",
              "      <td>0</td>\n",
              "    </tr>\n",
              "    <tr>\n",
              "      <th>3</th>\n",
              "      <td>3</td>\n",
              "      <td>7645.861827</td>\n",
              "      <td>0</td>\n",
              "      <td>7</td>\n",
              "      <td>529.881344</td>\n",
              "      <td>18</td>\n",
              "      <td>0</td>\n",
              "      <td>1</td>\n",
              "      <td>1</td>\n",
              "      <td>0</td>\n",
              "      <td>0</td>\n",
              "      <td>0</td>\n",
              "      <td>1</td>\n",
              "      <td>1</td>\n",
              "      <td>0</td>\n",
              "      <td>0</td>\n",
              "      <td>1</td>\n",
              "      <td>0</td>\n",
              "    </tr>\n",
              "    <tr>\n",
              "      <th>4</th>\n",
              "      <td>4</td>\n",
              "      <td>2813.692575</td>\n",
              "      <td>43836</td>\n",
              "      <td>1</td>\n",
              "      <td>138.130879</td>\n",
              "      <td>12</td>\n",
              "      <td>0</td>\n",
              "      <td>1</td>\n",
              "      <td>1</td>\n",
              "      <td>1</td>\n",
              "      <td>0</td>\n",
              "      <td>0</td>\n",
              "      <td>0</td>\n",
              "      <td>0</td>\n",
              "      <td>1</td>\n",
              "      <td>0</td>\n",
              "      <td>0</td>\n",
              "      <td>1</td>\n",
              "    </tr>\n",
              "    <tr>\n",
              "      <th>...</th>\n",
              "      <td>...</td>\n",
              "      <td>...</td>\n",
              "      <td>...</td>\n",
              "      <td>...</td>\n",
              "      <td>...</td>\n",
              "      <td>...</td>\n",
              "      <td>...</td>\n",
              "      <td>...</td>\n",
              "      <td>...</td>\n",
              "      <td>...</td>\n",
              "      <td>...</td>\n",
              "      <td>...</td>\n",
              "      <td>...</td>\n",
              "      <td>...</td>\n",
              "      <td>...</td>\n",
              "      <td>...</td>\n",
              "      <td>...</td>\n",
              "      <td>...</td>\n",
              "    </tr>\n",
              "    <tr>\n",
              "      <th>9129</th>\n",
              "      <td>9129</td>\n",
              "      <td>23405.987980</td>\n",
              "      <td>71941</td>\n",
              "      <td>2</td>\n",
              "      <td>198.234764</td>\n",
              "      <td>18</td>\n",
              "      <td>0</td>\n",
              "      <td>1</td>\n",
              "      <td>1</td>\n",
              "      <td>1</td>\n",
              "      <td>0</td>\n",
              "      <td>0</td>\n",
              "      <td>0</td>\n",
              "      <td>0</td>\n",
              "      <td>1</td>\n",
              "      <td>0</td>\n",
              "      <td>1</td>\n",
              "      <td>0</td>\n",
              "    </tr>\n",
              "    <tr>\n",
              "      <th>9130</th>\n",
              "      <td>9130</td>\n",
              "      <td>3096.511217</td>\n",
              "      <td>21604</td>\n",
              "      <td>1</td>\n",
              "      <td>379.200000</td>\n",
              "      <td>14</td>\n",
              "      <td>0</td>\n",
              "      <td>1</td>\n",
              "      <td>0</td>\n",
              "      <td>1</td>\n",
              "      <td>0</td>\n",
              "      <td>0</td>\n",
              "      <td>0</td>\n",
              "      <td>1</td>\n",
              "      <td>0</td>\n",
              "      <td>1</td>\n",
              "      <td>0</td>\n",
              "      <td>0</td>\n",
              "    </tr>\n",
              "    <tr>\n",
              "      <th>9131</th>\n",
              "      <td>9131</td>\n",
              "      <td>8163.890428</td>\n",
              "      <td>0</td>\n",
              "      <td>2</td>\n",
              "      <td>790.784983</td>\n",
              "      <td>9</td>\n",
              "      <td>0</td>\n",
              "      <td>1</td>\n",
              "      <td>1</td>\n",
              "      <td>0</td>\n",
              "      <td>0</td>\n",
              "      <td>0</td>\n",
              "      <td>1</td>\n",
              "      <td>1</td>\n",
              "      <td>0</td>\n",
              "      <td>0</td>\n",
              "      <td>0</td>\n",
              "      <td>1</td>\n",
              "    </tr>\n",
              "    <tr>\n",
              "      <th>9132</th>\n",
              "      <td>9132</td>\n",
              "      <td>7524.442436</td>\n",
              "      <td>21941</td>\n",
              "      <td>3</td>\n",
              "      <td>691.200000</td>\n",
              "      <td>34</td>\n",
              "      <td>1</td>\n",
              "      <td>0</td>\n",
              "      <td>1</td>\n",
              "      <td>1</td>\n",
              "      <td>0</td>\n",
              "      <td>0</td>\n",
              "      <td>0</td>\n",
              "      <td>0</td>\n",
              "      <td>1</td>\n",
              "      <td>0</td>\n",
              "      <td>1</td>\n",
              "      <td>0</td>\n",
              "    </tr>\n",
              "    <tr>\n",
              "      <th>9133</th>\n",
              "      <td>9133</td>\n",
              "      <td>2611.836866</td>\n",
              "      <td>0</td>\n",
              "      <td>1</td>\n",
              "      <td>369.600000</td>\n",
              "      <td>3</td>\n",
              "      <td>0</td>\n",
              "      <td>1</td>\n",
              "      <td>1</td>\n",
              "      <td>0</td>\n",
              "      <td>0</td>\n",
              "      <td>0</td>\n",
              "      <td>1</td>\n",
              "      <td>1</td>\n",
              "      <td>0</td>\n",
              "      <td>0</td>\n",
              "      <td>0</td>\n",
              "      <td>1</td>\n",
              "    </tr>\n",
              "  </tbody>\n",
              "</table>\n",
              "<p>9134 rows × 18 columns</p>\n",
              "</div>"
            ],
            "text/plain": [
              "      Unnamed: 0  Customer Lifetime Value  Income  Number of Policies  \\\n",
              "0              0              2763.519279   56274                   1   \n",
              "1              1              6979.535903       0                   8   \n",
              "2              2             12887.431650   48767                   2   \n",
              "3              3              7645.861827       0                   7   \n",
              "4              4              2813.692575   43836                   1   \n",
              "...          ...                      ...     ...                 ...   \n",
              "9129        9129             23405.987980   71941                   2   \n",
              "9130        9130              3096.511217   21604                   1   \n",
              "9131        9131              8163.890428       0                   2   \n",
              "9132        9132              7524.442436   21941                   3   \n",
              "9133        9133              2611.836866       0                   1   \n",
              "\n",
              "      Total Claim Amount  Months Since Last Claim  Vehicle Size_Large  \\\n",
              "0             384.811147                       32                   0   \n",
              "1            1131.464935                       13                   0   \n",
              "2             566.472247                       18                   0   \n",
              "3             529.881344                       18                   0   \n",
              "4             138.130879                       12                   0   \n",
              "...                  ...                      ...                 ...   \n",
              "9129          198.234764                       18                   0   \n",
              "9130          379.200000                       14                   0   \n",
              "9131          790.784983                        9                   0   \n",
              "9132          691.200000                       34                   1   \n",
              "9133          369.600000                        3                   0   \n",
              "\n",
              "      Vehicle Size_Medsize  Gender_M  EmploymentStatus_Employed  \\\n",
              "0                        1         0                          1   \n",
              "1                        1         0                          0   \n",
              "2                        1         0                          1   \n",
              "3                        1         1                          0   \n",
              "4                        1         1                          1   \n",
              "...                    ...       ...                        ...   \n",
              "9129                     1         1                          1   \n",
              "9130                     1         0                          1   \n",
              "9131                     1         1                          0   \n",
              "9132                     0         1                          1   \n",
              "9133                     1         1                          0   \n",
              "\n",
              "      EmploymentStatus_Medical Leave  EmploymentStatus_Retired  \\\n",
              "0                                  0                         0   \n",
              "1                                  0                         0   \n",
              "2                                  0                         0   \n",
              "3                                  0                         0   \n",
              "4                                  0                         0   \n",
              "...                              ...                       ...   \n",
              "9129                               0                         0   \n",
              "9130                               0                         0   \n",
              "9131                               0                         0   \n",
              "9132                               0                         0   \n",
              "9133                               0                         0   \n",
              "\n",
              "      EmploymentStatus_Unemployed  Policy Type_Corporate Auto  \\\n",
              "0                               0                           1   \n",
              "1                               1                           0   \n",
              "2                               0                           0   \n",
              "3                               1                           1   \n",
              "4                               0                           0   \n",
              "...                           ...                         ...   \n",
              "9129                            0                           0   \n",
              "9130                            0                           1   \n",
              "9131                            1                           1   \n",
              "9132                            0                           0   \n",
              "9133                            1                           1   \n",
              "\n",
              "      Policy Type_Personal Auto  Marital Status_Divorced  \\\n",
              "0                             0                        0   \n",
              "1                             1                        0   \n",
              "2                             1                        0   \n",
              "3                             0                        0   \n",
              "4                             1                        0   \n",
              "...                         ...                      ...   \n",
              "9129                          1                        0   \n",
              "9130                          0                        1   \n",
              "9131                          0                        0   \n",
              "9132                          1                        0   \n",
              "9133                          0                        0   \n",
              "\n",
              "      Marital Status_Married  Marital Status_Single  \n",
              "0                          1                      0  \n",
              "1                          0                      1  \n",
              "2                          1                      0  \n",
              "3                          1                      0  \n",
              "4                          0                      1  \n",
              "...                      ...                    ...  \n",
              "9129                       1                      0  \n",
              "9130                       0                      0  \n",
              "9131                       0                      1  \n",
              "9132                       1                      0  \n",
              "9133                       0                      1  \n",
              "\n",
              "[9134 rows x 18 columns]"
            ]
          },
          "execution_count": 3,
          "metadata": {},
          "output_type": "execute_result"
        }
      ],
      "source": [
        "df"
      ]
    },
    {
      "cell_type": "code",
      "execution_count": 4,
      "metadata": {
        "id": "9hfSckvYW4NN"
      },
      "outputs": [],
      "source": [
        "# Defining input and output variables\n",
        "X = df.drop([\"Unnamed: 0\",\"Customer Lifetime Value\"], axis =1 )\n",
        "y = df['Customer Lifetime Value']"
      ]
    },
    {
      "cell_type": "code",
      "execution_count": 5,
      "metadata": {
        "id": "5X3GlNZqyAfL"
      },
      "outputs": [],
      "source": [
        "# Train - Test Split\n",
        "X_train, X_test, y_train, y_test = train_test_split(\n",
        "    X,\n",
        "    y,\n",
        "    test_size = .3,\n",
        "    random_state = 425\n",
        ")"
      ]
    },
    {
      "cell_type": "code",
      "execution_count": 6,
      "metadata": {
        "id": "jWF7eEu9x2jH"
      },
      "outputs": [],
      "source": [
        "# Scale Inputs\n",
        "scaler = StandardScaler()\n",
        "X_train = scaler.fit_transform(X_train)\n",
        "X_test = scaler.transform(X_test)"
      ]
    },
    {
      "attachments": {},
      "cell_type": "markdown",
      "metadata": {
        "id": "OacsID8kTRvk"
      },
      "source": [
        "## 2. Run a GridSearch CV on at least 10 possible combinations of hyper-parameters."
      ]
    },
    {
      "cell_type": "code",
      "execution_count": 25,
      "metadata": {
        "id": "ovrlSMhri3Eb"
      },
      "outputs": [],
      "source": [
        "# Initialize model\n",
        "clf = MLPRegressor()\n",
        "\n",
        "# Hyper-parameter Tuning\n",
        "## 12 hyper-parameter combinations\n",
        "params = {\n",
        "    \"hidden_layer_sizes\": [(1,), (10,), (20,5,), (5,5,5,)], \n",
        "    \"activation\" : ['relu','logistic', 'tanh']\n",
        "}"
      ]
    },
    {
      "cell_type": "code",
      "execution_count": 26,
      "metadata": {
        "id": "N15NvH4qi3HI"
      },
      "outputs": [
        {
          "name": "stderr",
          "output_type": "stream",
          "text": [
            "c:\\Users\\Richard PC\\anaconda3\\lib\\site-packages\\sklearn\\neural_network\\_multilayer_perceptron.py:692: ConvergenceWarning: Stochastic Optimizer: Maximum iterations (200) reached and the optimization hasn't converged yet.\n",
            "  warnings.warn(\n",
            "c:\\Users\\Richard PC\\anaconda3\\lib\\site-packages\\sklearn\\neural_network\\_multilayer_perceptron.py:692: ConvergenceWarning: Stochastic Optimizer: Maximum iterations (200) reached and the optimization hasn't converged yet.\n",
            "  warnings.warn(\n",
            "c:\\Users\\Richard PC\\anaconda3\\lib\\site-packages\\sklearn\\neural_network\\_multilayer_perceptron.py:692: ConvergenceWarning: Stochastic Optimizer: Maximum iterations (200) reached and the optimization hasn't converged yet.\n",
            "  warnings.warn(\n",
            "c:\\Users\\Richard PC\\anaconda3\\lib\\site-packages\\sklearn\\neural_network\\_multilayer_perceptron.py:692: ConvergenceWarning: Stochastic Optimizer: Maximum iterations (200) reached and the optimization hasn't converged yet.\n",
            "  warnings.warn(\n",
            "c:\\Users\\Richard PC\\anaconda3\\lib\\site-packages\\sklearn\\neural_network\\_multilayer_perceptron.py:692: ConvergenceWarning: Stochastic Optimizer: Maximum iterations (200) reached and the optimization hasn't converged yet.\n",
            "  warnings.warn(\n",
            "c:\\Users\\Richard PC\\anaconda3\\lib\\site-packages\\sklearn\\neural_network\\_multilayer_perceptron.py:692: ConvergenceWarning: Stochastic Optimizer: Maximum iterations (200) reached and the optimization hasn't converged yet.\n",
            "  warnings.warn(\n",
            "c:\\Users\\Richard PC\\anaconda3\\lib\\site-packages\\sklearn\\neural_network\\_multilayer_perceptron.py:692: ConvergenceWarning: Stochastic Optimizer: Maximum iterations (200) reached and the optimization hasn't converged yet.\n",
            "  warnings.warn(\n",
            "c:\\Users\\Richard PC\\anaconda3\\lib\\site-packages\\sklearn\\neural_network\\_multilayer_perceptron.py:692: ConvergenceWarning: Stochastic Optimizer: Maximum iterations (200) reached and the optimization hasn't converged yet.\n",
            "  warnings.warn(\n",
            "c:\\Users\\Richard PC\\anaconda3\\lib\\site-packages\\sklearn\\neural_network\\_multilayer_perceptron.py:692: ConvergenceWarning: Stochastic Optimizer: Maximum iterations (200) reached and the optimization hasn't converged yet.\n",
            "  warnings.warn(\n",
            "c:\\Users\\Richard PC\\anaconda3\\lib\\site-packages\\sklearn\\neural_network\\_multilayer_perceptron.py:692: ConvergenceWarning: Stochastic Optimizer: Maximum iterations (200) reached and the optimization hasn't converged yet.\n",
            "  warnings.warn(\n",
            "c:\\Users\\Richard PC\\anaconda3\\lib\\site-packages\\sklearn\\neural_network\\_multilayer_perceptron.py:692: ConvergenceWarning: Stochastic Optimizer: Maximum iterations (200) reached and the optimization hasn't converged yet.\n",
            "  warnings.warn(\n",
            "c:\\Users\\Richard PC\\anaconda3\\lib\\site-packages\\sklearn\\neural_network\\_multilayer_perceptron.py:692: ConvergenceWarning: Stochastic Optimizer: Maximum iterations (200) reached and the optimization hasn't converged yet.\n",
            "  warnings.warn(\n",
            "c:\\Users\\Richard PC\\anaconda3\\lib\\site-packages\\sklearn\\neural_network\\_multilayer_perceptron.py:692: ConvergenceWarning: Stochastic Optimizer: Maximum iterations (200) reached and the optimization hasn't converged yet.\n",
            "  warnings.warn(\n",
            "c:\\Users\\Richard PC\\anaconda3\\lib\\site-packages\\sklearn\\neural_network\\_multilayer_perceptron.py:692: ConvergenceWarning: Stochastic Optimizer: Maximum iterations (200) reached and the optimization hasn't converged yet.\n",
            "  warnings.warn(\n",
            "c:\\Users\\Richard PC\\anaconda3\\lib\\site-packages\\sklearn\\neural_network\\_multilayer_perceptron.py:692: ConvergenceWarning: Stochastic Optimizer: Maximum iterations (200) reached and the optimization hasn't converged yet.\n",
            "  warnings.warn(\n",
            "c:\\Users\\Richard PC\\anaconda3\\lib\\site-packages\\sklearn\\neural_network\\_multilayer_perceptron.py:692: ConvergenceWarning: Stochastic Optimizer: Maximum iterations (200) reached and the optimization hasn't converged yet.\n",
            "  warnings.warn(\n",
            "c:\\Users\\Richard PC\\anaconda3\\lib\\site-packages\\sklearn\\neural_network\\_multilayer_perceptron.py:692: ConvergenceWarning: Stochastic Optimizer: Maximum iterations (200) reached and the optimization hasn't converged yet.\n",
            "  warnings.warn(\n",
            "c:\\Users\\Richard PC\\anaconda3\\lib\\site-packages\\sklearn\\neural_network\\_multilayer_perceptron.py:692: ConvergenceWarning: Stochastic Optimizer: Maximum iterations (200) reached and the optimization hasn't converged yet.\n",
            "  warnings.warn(\n",
            "c:\\Users\\Richard PC\\anaconda3\\lib\\site-packages\\sklearn\\neural_network\\_multilayer_perceptron.py:692: ConvergenceWarning: Stochastic Optimizer: Maximum iterations (200) reached and the optimization hasn't converged yet.\n",
            "  warnings.warn(\n",
            "c:\\Users\\Richard PC\\anaconda3\\lib\\site-packages\\sklearn\\neural_network\\_multilayer_perceptron.py:692: ConvergenceWarning: Stochastic Optimizer: Maximum iterations (200) reached and the optimization hasn't converged yet.\n",
            "  warnings.warn(\n",
            "c:\\Users\\Richard PC\\anaconda3\\lib\\site-packages\\sklearn\\neural_network\\_multilayer_perceptron.py:692: ConvergenceWarning: Stochastic Optimizer: Maximum iterations (200) reached and the optimization hasn't converged yet.\n",
            "  warnings.warn(\n",
            "c:\\Users\\Richard PC\\anaconda3\\lib\\site-packages\\sklearn\\neural_network\\_multilayer_perceptron.py:692: ConvergenceWarning: Stochastic Optimizer: Maximum iterations (200) reached and the optimization hasn't converged yet.\n",
            "  warnings.warn(\n",
            "c:\\Users\\Richard PC\\anaconda3\\lib\\site-packages\\sklearn\\neural_network\\_multilayer_perceptron.py:692: ConvergenceWarning: Stochastic Optimizer: Maximum iterations (200) reached and the optimization hasn't converged yet.\n",
            "  warnings.warn(\n",
            "c:\\Users\\Richard PC\\anaconda3\\lib\\site-packages\\sklearn\\neural_network\\_multilayer_perceptron.py:692: ConvergenceWarning: Stochastic Optimizer: Maximum iterations (200) reached and the optimization hasn't converged yet.\n",
            "  warnings.warn(\n",
            "c:\\Users\\Richard PC\\anaconda3\\lib\\site-packages\\sklearn\\neural_network\\_multilayer_perceptron.py:692: ConvergenceWarning: Stochastic Optimizer: Maximum iterations (200) reached and the optimization hasn't converged yet.\n",
            "  warnings.warn(\n",
            "c:\\Users\\Richard PC\\anaconda3\\lib\\site-packages\\sklearn\\neural_network\\_multilayer_perceptron.py:692: ConvergenceWarning: Stochastic Optimizer: Maximum iterations (200) reached and the optimization hasn't converged yet.\n",
            "  warnings.warn(\n",
            "c:\\Users\\Richard PC\\anaconda3\\lib\\site-packages\\sklearn\\neural_network\\_multilayer_perceptron.py:692: ConvergenceWarning: Stochastic Optimizer: Maximum iterations (200) reached and the optimization hasn't converged yet.\n",
            "  warnings.warn(\n",
            "c:\\Users\\Richard PC\\anaconda3\\lib\\site-packages\\sklearn\\neural_network\\_multilayer_perceptron.py:692: ConvergenceWarning: Stochastic Optimizer: Maximum iterations (200) reached and the optimization hasn't converged yet.\n",
            "  warnings.warn(\n",
            "c:\\Users\\Richard PC\\anaconda3\\lib\\site-packages\\sklearn\\neural_network\\_multilayer_perceptron.py:692: ConvergenceWarning: Stochastic Optimizer: Maximum iterations (200) reached and the optimization hasn't converged yet.\n",
            "  warnings.warn(\n",
            "c:\\Users\\Richard PC\\anaconda3\\lib\\site-packages\\sklearn\\neural_network\\_multilayer_perceptron.py:692: ConvergenceWarning: Stochastic Optimizer: Maximum iterations (200) reached and the optimization hasn't converged yet.\n",
            "  warnings.warn(\n",
            "c:\\Users\\Richard PC\\anaconda3\\lib\\site-packages\\sklearn\\neural_network\\_multilayer_perceptron.py:692: ConvergenceWarning: Stochastic Optimizer: Maximum iterations (200) reached and the optimization hasn't converged yet.\n",
            "  warnings.warn(\n",
            "c:\\Users\\Richard PC\\anaconda3\\lib\\site-packages\\sklearn\\neural_network\\_multilayer_perceptron.py:692: ConvergenceWarning: Stochastic Optimizer: Maximum iterations (200) reached and the optimization hasn't converged yet.\n",
            "  warnings.warn(\n",
            "c:\\Users\\Richard PC\\anaconda3\\lib\\site-packages\\sklearn\\neural_network\\_multilayer_perceptron.py:692: ConvergenceWarning: Stochastic Optimizer: Maximum iterations (200) reached and the optimization hasn't converged yet.\n",
            "  warnings.warn(\n",
            "c:\\Users\\Richard PC\\anaconda3\\lib\\site-packages\\sklearn\\neural_network\\_multilayer_perceptron.py:692: ConvergenceWarning: Stochastic Optimizer: Maximum iterations (200) reached and the optimization hasn't converged yet.\n",
            "  warnings.warn(\n",
            "c:\\Users\\Richard PC\\anaconda3\\lib\\site-packages\\sklearn\\neural_network\\_multilayer_perceptron.py:692: ConvergenceWarning: Stochastic Optimizer: Maximum iterations (200) reached and the optimization hasn't converged yet.\n",
            "  warnings.warn(\n",
            "c:\\Users\\Richard PC\\anaconda3\\lib\\site-packages\\sklearn\\neural_network\\_multilayer_perceptron.py:692: ConvergenceWarning: Stochastic Optimizer: Maximum iterations (200) reached and the optimization hasn't converged yet.\n",
            "  warnings.warn(\n",
            "c:\\Users\\Richard PC\\anaconda3\\lib\\site-packages\\sklearn\\neural_network\\_multilayer_perceptron.py:692: ConvergenceWarning: Stochastic Optimizer: Maximum iterations (200) reached and the optimization hasn't converged yet.\n",
            "  warnings.warn(\n",
            "c:\\Users\\Richard PC\\anaconda3\\lib\\site-packages\\sklearn\\neural_network\\_multilayer_perceptron.py:692: ConvergenceWarning: Stochastic Optimizer: Maximum iterations (200) reached and the optimization hasn't converged yet.\n",
            "  warnings.warn(\n",
            "c:\\Users\\Richard PC\\anaconda3\\lib\\site-packages\\sklearn\\neural_network\\_multilayer_perceptron.py:692: ConvergenceWarning: Stochastic Optimizer: Maximum iterations (200) reached and the optimization hasn't converged yet.\n",
            "  warnings.warn(\n",
            "c:\\Users\\Richard PC\\anaconda3\\lib\\site-packages\\sklearn\\neural_network\\_multilayer_perceptron.py:692: ConvergenceWarning: Stochastic Optimizer: Maximum iterations (200) reached and the optimization hasn't converged yet.\n",
            "  warnings.warn(\n",
            "c:\\Users\\Richard PC\\anaconda3\\lib\\site-packages\\sklearn\\neural_network\\_multilayer_perceptron.py:692: ConvergenceWarning: Stochastic Optimizer: Maximum iterations (200) reached and the optimization hasn't converged yet.\n",
            "  warnings.warn(\n",
            "c:\\Users\\Richard PC\\anaconda3\\lib\\site-packages\\sklearn\\neural_network\\_multilayer_perceptron.py:692: ConvergenceWarning: Stochastic Optimizer: Maximum iterations (200) reached and the optimization hasn't converged yet.\n",
            "  warnings.warn(\n",
            "c:\\Users\\Richard PC\\anaconda3\\lib\\site-packages\\sklearn\\neural_network\\_multilayer_perceptron.py:692: ConvergenceWarning: Stochastic Optimizer: Maximum iterations (200) reached and the optimization hasn't converged yet.\n",
            "  warnings.warn(\n",
            "c:\\Users\\Richard PC\\anaconda3\\lib\\site-packages\\sklearn\\neural_network\\_multilayer_perceptron.py:692: ConvergenceWarning: Stochastic Optimizer: Maximum iterations (200) reached and the optimization hasn't converged yet.\n",
            "  warnings.warn(\n",
            "c:\\Users\\Richard PC\\anaconda3\\lib\\site-packages\\sklearn\\neural_network\\_multilayer_perceptron.py:692: ConvergenceWarning: Stochastic Optimizer: Maximum iterations (200) reached and the optimization hasn't converged yet.\n",
            "  warnings.warn(\n",
            "c:\\Users\\Richard PC\\anaconda3\\lib\\site-packages\\sklearn\\neural_network\\_multilayer_perceptron.py:692: ConvergenceWarning: Stochastic Optimizer: Maximum iterations (200) reached and the optimization hasn't converged yet.\n",
            "  warnings.warn(\n",
            "c:\\Users\\Richard PC\\anaconda3\\lib\\site-packages\\sklearn\\neural_network\\_multilayer_perceptron.py:692: ConvergenceWarning: Stochastic Optimizer: Maximum iterations (200) reached and the optimization hasn't converged yet.\n",
            "  warnings.warn(\n",
            "c:\\Users\\Richard PC\\anaconda3\\lib\\site-packages\\sklearn\\neural_network\\_multilayer_perceptron.py:692: ConvergenceWarning: Stochastic Optimizer: Maximum iterations (200) reached and the optimization hasn't converged yet.\n",
            "  warnings.warn(\n",
            "c:\\Users\\Richard PC\\anaconda3\\lib\\site-packages\\sklearn\\neural_network\\_multilayer_perceptron.py:692: ConvergenceWarning: Stochastic Optimizer: Maximum iterations (200) reached and the optimization hasn't converged yet.\n",
            "  warnings.warn(\n",
            "c:\\Users\\Richard PC\\anaconda3\\lib\\site-packages\\sklearn\\neural_network\\_multilayer_perceptron.py:692: ConvergenceWarning: Stochastic Optimizer: Maximum iterations (200) reached and the optimization hasn't converged yet.\n",
            "  warnings.warn(\n",
            "c:\\Users\\Richard PC\\anaconda3\\lib\\site-packages\\sklearn\\neural_network\\_multilayer_perceptron.py:692: ConvergenceWarning: Stochastic Optimizer: Maximum iterations (200) reached and the optimization hasn't converged yet.\n",
            "  warnings.warn(\n",
            "c:\\Users\\Richard PC\\anaconda3\\lib\\site-packages\\sklearn\\neural_network\\_multilayer_perceptron.py:692: ConvergenceWarning: Stochastic Optimizer: Maximum iterations (200) reached and the optimization hasn't converged yet.\n",
            "  warnings.warn(\n",
            "c:\\Users\\Richard PC\\anaconda3\\lib\\site-packages\\sklearn\\neural_network\\_multilayer_perceptron.py:692: ConvergenceWarning: Stochastic Optimizer: Maximum iterations (200) reached and the optimization hasn't converged yet.\n",
            "  warnings.warn(\n",
            "c:\\Users\\Richard PC\\anaconda3\\lib\\site-packages\\sklearn\\neural_network\\_multilayer_perceptron.py:692: ConvergenceWarning: Stochastic Optimizer: Maximum iterations (200) reached and the optimization hasn't converged yet.\n",
            "  warnings.warn(\n",
            "c:\\Users\\Richard PC\\anaconda3\\lib\\site-packages\\sklearn\\neural_network\\_multilayer_perceptron.py:692: ConvergenceWarning: Stochastic Optimizer: Maximum iterations (200) reached and the optimization hasn't converged yet.\n",
            "  warnings.warn(\n",
            "c:\\Users\\Richard PC\\anaconda3\\lib\\site-packages\\sklearn\\neural_network\\_multilayer_perceptron.py:692: ConvergenceWarning: Stochastic Optimizer: Maximum iterations (200) reached and the optimization hasn't converged yet.\n",
            "  warnings.warn(\n",
            "c:\\Users\\Richard PC\\anaconda3\\lib\\site-packages\\sklearn\\neural_network\\_multilayer_perceptron.py:692: ConvergenceWarning: Stochastic Optimizer: Maximum iterations (200) reached and the optimization hasn't converged yet.\n",
            "  warnings.warn(\n",
            "c:\\Users\\Richard PC\\anaconda3\\lib\\site-packages\\sklearn\\neural_network\\_multilayer_perceptron.py:692: ConvergenceWarning: Stochastic Optimizer: Maximum iterations (200) reached and the optimization hasn't converged yet.\n",
            "  warnings.warn(\n",
            "c:\\Users\\Richard PC\\anaconda3\\lib\\site-packages\\sklearn\\neural_network\\_multilayer_perceptron.py:692: ConvergenceWarning: Stochastic Optimizer: Maximum iterations (200) reached and the optimization hasn't converged yet.\n",
            "  warnings.warn(\n",
            "c:\\Users\\Richard PC\\anaconda3\\lib\\site-packages\\sklearn\\neural_network\\_multilayer_perceptron.py:692: ConvergenceWarning: Stochastic Optimizer: Maximum iterations (200) reached and the optimization hasn't converged yet.\n",
            "  warnings.warn(\n",
            "c:\\Users\\Richard PC\\anaconda3\\lib\\site-packages\\sklearn\\neural_network\\_multilayer_perceptron.py:692: ConvergenceWarning: Stochastic Optimizer: Maximum iterations (200) reached and the optimization hasn't converged yet.\n",
            "  warnings.warn(\n"
          ]
        },
        {
          "data": {
            "text/plain": [
              "GridSearchCV(cv=5, estimator=MLPRegressor(),\n",
              "             param_grid={'activation': ['relu', 'logistic', 'tanh'],\n",
              "                         'hidden_layer_sizes': [(1,), (10,), (20, 5),\n",
              "                                                (5, 5, 5)]})"
            ]
          },
          "execution_count": 26,
          "metadata": {},
          "output_type": "execute_result"
        }
      ],
      "source": [
        "# Grid Search\n",
        "grid = GridSearchCV(\n",
        "    clf,\n",
        "    params,\n",
        "    cv = 5)\n",
        "\n",
        "grid.fit(X_train, y_train)"
      ]
    },
    {
      "cell_type": "code",
      "execution_count": 27,
      "metadata": {
        "id": "2BNZptA6yzk6"
      },
      "outputs": [
        {
          "name": "stdout",
          "output_type": "stream",
          "text": [
            "{'activation': 'relu', 'hidden_layer_sizes': (5, 5, 5)}\n"
          ]
        }
      ],
      "source": [
        "# Best Model\n",
        "print(grid.best_params_)"
      ]
    },
    {
      "attachments": {},
      "cell_type": "markdown",
      "metadata": {
        "id": "DKNdxiyOTsOE"
      },
      "source": [
        "## 3. Train a model with the optimal solution from GridSearch."
      ]
    },
    {
      "cell_type": "code",
      "execution_count": 28,
      "metadata": {
        "id": "tlySuJN1ULTl"
      },
      "outputs": [
        {
          "data": {
            "text/plain": [
              "MLPRegressor(hidden_layer_sizes=(5, 5, 5))"
            ]
          },
          "execution_count": 28,
          "metadata": {},
          "output_type": "execute_result"
        }
      ],
      "source": [
        "# Specify the model from CV\n",
        "## ** unpacks the dictionary\n",
        "MLPRegressor(**grid.best_params_)"
      ]
    },
    {
      "cell_type": "code",
      "execution_count": 29,
      "metadata": {
        "id": "sfbnPTe5Tq_9"
      },
      "outputs": [
        {
          "name": "stderr",
          "output_type": "stream",
          "text": [
            "c:\\Users\\Richard PC\\anaconda3\\lib\\site-packages\\sklearn\\neural_network\\_multilayer_perceptron.py:692: ConvergenceWarning: Stochastic Optimizer: Maximum iterations (200) reached and the optimization hasn't converged yet.\n",
            "  warnings.warn(\n"
          ]
        }
      ],
      "source": [
        "# Train the model\n",
        "results = MLPRegressor(**grid.best_params_).fit(X_train, y_train)"
      ]
    },
    {
      "attachments": {},
      "cell_type": "markdown",
      "metadata": {
        "id": "qTPkbSDwT0nO"
      },
      "source": [
        "## 4. What are the in-sample and out of sample MSEs."
      ]
    },
    {
      "cell_type": "code",
      "execution_count": 30,
      "metadata": {
        "id": "2KuP_O-uJFg0"
      },
      "outputs": [
        {
          "name": "stdout",
          "output_type": "stream",
          "text": [
            "In-Sample MSE:  40797657.97737097\n",
            "Out-Sample MSE:  50037919.17204656\n"
          ]
        }
      ],
      "source": [
        "# In Sample MSE\n",
        "MSE_in = mean_squared_error(\n",
        "    y_train,\n",
        "    results.predict(X_train)\n",
        ")\n",
        "\n",
        "# Out Sample MSE\n",
        "MSE_out = mean_squared_error(\n",
        "    y_test,\n",
        "    results.predict(X_test)\n",
        ")\n",
        "print('In-Sample MSE: ', MSE_in)\n",
        "print('Out-Sample MSE: ', MSE_out)"
      ]
    },
    {
      "attachments": {},
      "cell_type": "markdown",
      "metadata": {
        "id": "YVQ1PvBK_ev0"
      },
      "source": [
        "## 5. Build a Keras with the architecture defined by GridSearchCV."
      ]
    },
    {
      "cell_type": "code",
      "execution_count": 7,
      "metadata": {},
      "outputs": [
        {
          "name": "stdout",
          "output_type": "stream",
          "text": [
            "200/200 [==============================] - 1s 1ms/step - loss: 106267944.0000\n",
            "86/86 [==============================] - 0s 1ms/step - loss: 122721024.0000\n",
            "#################################\n",
            "Test Loss: 122721024.0000\n"
          ]
        }
      ],
      "source": [
        "# Initialize Model\n",
        "net = Sequential()\n",
        "# Add Hidden Layers\n",
        "net.add(Dense(5, input_dim = 16, activation = 'relu'))\n",
        "net.add(Dense(5, activation = 'relu'))\n",
        "net.add(Dense(5, activation = 'relu'))\n",
        "# Add Output layer\n",
        "net.add(Dense(1, activation = 'relu'))\n",
        "\n",
        "# Compile the model\n",
        "net.compile(loss='mean_squared_error', optimizer = 'adam')\n",
        "\n",
        "# Train the model\n",
        "net.fit(\n",
        "    X_train,\n",
        "    y_train,\n",
        ")\n",
        "\n",
        "# Out-Sample MSE\n",
        "loss = net.evaluate(X_test,y_test)\n",
        "print('#################################')\n",
        "print(f'Test Loss: {loss:.4f}')"
      ]
    },
    {
      "attachments": {},
      "cell_type": "markdown",
      "metadata": {
        "id": "NirfWMLxOe-P"
      },
      "source": [
        "## 6. Make two visualizations of your NN using “plot_model” and “ann_viz”."
      ]
    },
    {
      "cell_type": "code",
      "execution_count": 8,
      "metadata": {
        "id": "pF_gjYFTOiL0"
      },
      "outputs": [],
      "source": [
        "# Imports for Keras Ploting\n",
        "from keras.utils import plot_model\n",
        "import graphviz\n",
        "import pydot"
      ]
    },
    {
      "cell_type": "code",
      "execution_count": 21,
      "metadata": {},
      "outputs": [
        {
          "data": {
            "image/png": "[encoded data removed]",
            "text/plain": [
              "<IPython.core.display.Image object>"
            ]
          },
          "execution_count": 21,
          "metadata": {},
          "output_type": "execute_result"
        }
      ],
      "source": [
        "# Plot using Keras\n",
        "plot_model(\n",
        "    net,\n",
        "    show_layer_names = True,\n",
        "    show_shapes = True,\n",
        "    dpi = 150,\n",
        "    rankdir = 'LR'\n",
        ")"
      ]
    },
    {
      "cell_type": "code",
      "execution_count": 24,
      "metadata": {},
      "outputs": [],
      "source": [
        "# Import for ann_viz\n",
        "from ann_visualizer.visualize import ann_viz\n",
        "\n",
        "# Plot using ann_viz\n",
        "ann_viz(net, title = 'Ann_viz - Neural Network')"
      ]
    },
    {
      "attachments": {},
      "cell_type": "markdown",
      "metadata": {},
      "source": [
        "![Graph of Neural Network](network.png)"
      ]
    }
  ],
  "metadata": {
    "colab": {
      "provenance": []
    },
    "kernelspec": {
      "display_name": "base",
      "language": "python",
      "name": "python3"
    },
    "language_info": {
      "codemirror_mode": {
        "name": "ipython",
        "version": 3
      },
      "file_extension": ".py",
      "mimetype": "text/x-python",
      "name": "python",
      "nbconvert_exporter": "python",
      "pygments_lexer": "ipython3",
      "version": "3.9.12"
    },
    "vscode": {
      "interpreter": {
        "hash": "31df7c7627a67be450e0b97ef203135bae9a88aae24921ec8b8b14d7d7918e04"
      }
    }
  },
  "nbformat": 4,
  "nbformat_minor": 0
}
