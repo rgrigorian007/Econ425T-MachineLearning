{
  "cells": [
    {
      "attachments": {},
      "cell_type": "markdown",
      "metadata": {
        "id": "7ywSRtNI4s5h"
      },
      "source": [
        "# Econ 441B Week 9 Assignment\n",
        "# Richard Grigorian (UID: 505-088-797)\n",
        "\n",
        "## 0. Import and Clean Data."
      ]
    },
    {
      "cell_type": "code",
      "execution_count": 12,
      "metadata": {
        "id": "nsG1QV154GYZ"
      },
      "outputs": [],
      "source": [
        "# Imports\n",
        "import pandas as pd\n",
        "#from google.colab import drive\n",
        "import matplotlib.pyplot as plt\n",
        "import numpy as np\n",
        "\n",
        "from sklearn.preprocessing import StandardScaler\n",
        "from sklearn.cluster import KMeans\n",
        "\n",
        "# Supress warnings\n",
        "import warnings\n",
        "warnings.filterwarnings('ignore')"
      ]
    },
    {
      "cell_type": "code",
      "execution_count": 3,
      "metadata": {
        "colab": {
          "base_uri": "https://localhost:8080/"
        },
        "id": "Iku0T8Ou4Lcu",
        "outputId": "a4030a99-c0f8-4083-b934-2b12ffe9f78d"
      },
      "outputs": [],
      "source": [
        "# drive.mount('/content/gdrive/', force_remount = True)"
      ]
    },
    {
      "cell_type": "code",
      "execution_count": 2,
      "metadata": {
        "id": "KJQfo8mz43Kz"
      },
      "outputs": [],
      "source": [
        "# Load Data\n",
        "df = pd.read_csv(\"Country-data.csv\", sep = \",\")"
      ]
    },
    {
      "cell_type": "code",
      "execution_count": 3,
      "metadata": {
        "colab": {
          "base_uri": "https://localhost:8080/",
          "height": 206
        },
        "id": "mKWSRv-q98wE",
        "outputId": "78ee812e-ad6b-4671-836e-d1d7630a827c"
      },
      "outputs": [
        {
          "data": {
            "text/html": [
              "<div>\n",
              "<style scoped>\n",
              "    .dataframe tbody tr th:only-of-type {\n",
              "        vertical-align: middle;\n",
              "    }\n",
              "\n",
              "    .dataframe tbody tr th {\n",
              "        vertical-align: top;\n",
              "    }\n",
              "\n",
              "    .dataframe thead th {\n",
              "        text-align: right;\n",
              "    }\n",
              "</style>\n",
              "<table border=\"1\" class=\"dataframe\">\n",
              "  <thead>\n",
              "    <tr style=\"text-align: right;\">\n",
              "      <th></th>\n",
              "      <th>country</th>\n",
              "      <th>child_mort</th>\n",
              "      <th>exports</th>\n",
              "      <th>health</th>\n",
              "      <th>imports</th>\n",
              "      <th>income</th>\n",
              "      <th>inflation</th>\n",
              "      <th>life_expec</th>\n",
              "      <th>total_fer</th>\n",
              "      <th>gdpp</th>\n",
              "    </tr>\n",
              "  </thead>\n",
              "  <tbody>\n",
              "    <tr>\n",
              "      <th>0</th>\n",
              "      <td>Afghanistan</td>\n",
              "      <td>90.2</td>\n",
              "      <td>10.0</td>\n",
              "      <td>7.58</td>\n",
              "      <td>44.9</td>\n",
              "      <td>1610</td>\n",
              "      <td>9.440</td>\n",
              "      <td>56.2</td>\n",
              "      <td>5.82</td>\n",
              "      <td>553</td>\n",
              "    </tr>\n",
              "    <tr>\n",
              "      <th>1</th>\n",
              "      <td>Albania</td>\n",
              "      <td>16.6</td>\n",
              "      <td>28.0</td>\n",
              "      <td>6.55</td>\n",
              "      <td>48.6</td>\n",
              "      <td>9930</td>\n",
              "      <td>4.490</td>\n",
              "      <td>76.3</td>\n",
              "      <td>1.65</td>\n",
              "      <td>4090</td>\n",
              "    </tr>\n",
              "    <tr>\n",
              "      <th>2</th>\n",
              "      <td>Algeria</td>\n",
              "      <td>27.3</td>\n",
              "      <td>38.4</td>\n",
              "      <td>4.17</td>\n",
              "      <td>31.4</td>\n",
              "      <td>12900</td>\n",
              "      <td>16.100</td>\n",
              "      <td>76.5</td>\n",
              "      <td>2.89</td>\n",
              "      <td>4460</td>\n",
              "    </tr>\n",
              "    <tr>\n",
              "      <th>3</th>\n",
              "      <td>Angola</td>\n",
              "      <td>119.0</td>\n",
              "      <td>62.3</td>\n",
              "      <td>2.85</td>\n",
              "      <td>42.9</td>\n",
              "      <td>5900</td>\n",
              "      <td>22.400</td>\n",
              "      <td>60.1</td>\n",
              "      <td>6.16</td>\n",
              "      <td>3530</td>\n",
              "    </tr>\n",
              "    <tr>\n",
              "      <th>4</th>\n",
              "      <td>Antigua and Barbuda</td>\n",
              "      <td>10.3</td>\n",
              "      <td>45.5</td>\n",
              "      <td>6.03</td>\n",
              "      <td>58.9</td>\n",
              "      <td>19100</td>\n",
              "      <td>1.440</td>\n",
              "      <td>76.8</td>\n",
              "      <td>2.13</td>\n",
              "      <td>12200</td>\n",
              "    </tr>\n",
              "    <tr>\n",
              "      <th>5</th>\n",
              "      <td>Argentina</td>\n",
              "      <td>14.5</td>\n",
              "      <td>18.9</td>\n",
              "      <td>8.10</td>\n",
              "      <td>16.0</td>\n",
              "      <td>18700</td>\n",
              "      <td>20.900</td>\n",
              "      <td>75.8</td>\n",
              "      <td>2.37</td>\n",
              "      <td>10300</td>\n",
              "    </tr>\n",
              "    <tr>\n",
              "      <th>6</th>\n",
              "      <td>Armenia</td>\n",
              "      <td>18.1</td>\n",
              "      <td>20.8</td>\n",
              "      <td>4.40</td>\n",
              "      <td>45.3</td>\n",
              "      <td>6700</td>\n",
              "      <td>7.770</td>\n",
              "      <td>73.3</td>\n",
              "      <td>1.69</td>\n",
              "      <td>3220</td>\n",
              "    </tr>\n",
              "    <tr>\n",
              "      <th>7</th>\n",
              "      <td>Australia</td>\n",
              "      <td>4.8</td>\n",
              "      <td>19.8</td>\n",
              "      <td>8.73</td>\n",
              "      <td>20.9</td>\n",
              "      <td>41400</td>\n",
              "      <td>1.160</td>\n",
              "      <td>82.0</td>\n",
              "      <td>1.93</td>\n",
              "      <td>51900</td>\n",
              "    </tr>\n",
              "    <tr>\n",
              "      <th>8</th>\n",
              "      <td>Austria</td>\n",
              "      <td>4.3</td>\n",
              "      <td>51.3</td>\n",
              "      <td>11.00</td>\n",
              "      <td>47.8</td>\n",
              "      <td>43200</td>\n",
              "      <td>0.873</td>\n",
              "      <td>80.5</td>\n",
              "      <td>1.44</td>\n",
              "      <td>46900</td>\n",
              "    </tr>\n",
              "    <tr>\n",
              "      <th>9</th>\n",
              "      <td>Azerbaijan</td>\n",
              "      <td>39.2</td>\n",
              "      <td>54.3</td>\n",
              "      <td>5.88</td>\n",
              "      <td>20.7</td>\n",
              "      <td>16000</td>\n",
              "      <td>13.800</td>\n",
              "      <td>69.1</td>\n",
              "      <td>1.92</td>\n",
              "      <td>5840</td>\n",
              "    </tr>\n",
              "  </tbody>\n",
              "</table>\n",
              "</div>"
            ],
            "text/plain": [
              "               country  child_mort  exports  health  imports  income  \\\n",
              "0          Afghanistan        90.2     10.0    7.58     44.9    1610   \n",
              "1              Albania        16.6     28.0    6.55     48.6    9930   \n",
              "2              Algeria        27.3     38.4    4.17     31.4   12900   \n",
              "3               Angola       119.0     62.3    2.85     42.9    5900   \n",
              "4  Antigua and Barbuda        10.3     45.5    6.03     58.9   19100   \n",
              "5            Argentina        14.5     18.9    8.10     16.0   18700   \n",
              "6              Armenia        18.1     20.8    4.40     45.3    6700   \n",
              "7            Australia         4.8     19.8    8.73     20.9   41400   \n",
              "8              Austria         4.3     51.3   11.00     47.8   43200   \n",
              "9           Azerbaijan        39.2     54.3    5.88     20.7   16000   \n",
              "\n",
              "   inflation  life_expec  total_fer   gdpp  \n",
              "0      9.440        56.2       5.82    553  \n",
              "1      4.490        76.3       1.65   4090  \n",
              "2     16.100        76.5       2.89   4460  \n",
              "3     22.400        60.1       6.16   3530  \n",
              "4      1.440        76.8       2.13  12200  \n",
              "5     20.900        75.8       2.37  10300  \n",
              "6      7.770        73.3       1.69   3220  \n",
              "7      1.160        82.0       1.93  51900  \n",
              "8      0.873        80.5       1.44  46900  \n",
              "9     13.800        69.1       1.92   5840  "
            ]
          },
          "execution_count": 3,
          "metadata": {},
          "output_type": "execute_result"
        }
      ],
      "source": [
        "df.head(10)"
      ]
    },
    {
      "cell_type": "code",
      "execution_count": 4,
      "metadata": {
        "colab": {
          "base_uri": "https://localhost:8080/"
        },
        "id": "Oj-k5XJNCNOr",
        "outputId": "bbd202a6-bd2d-4be3-ddd3-088feb94eb42"
      },
      "outputs": [
        {
          "data": {
            "text/plain": [
              "Index(['country', 'child_mort', 'exports', 'health', 'imports', 'income',\n",
              "       'inflation', 'life_expec', 'total_fer', 'gdpp'],\n",
              "      dtype='object')"
            ]
          },
          "execution_count": 4,
          "metadata": {},
          "output_type": "execute_result"
        }
      ],
      "source": [
        "df.columns"
      ]
    },
    {
      "cell_type": "code",
      "execution_count": 5,
      "metadata": {
        "id": "amzzWZ-G9SNe"
      },
      "outputs": [],
      "source": [
        "# Clean Data\n",
        "names = df[[\"country\"]]\n",
        "X = df.drop([\"country\"], axis = 1)"
      ]
    },
    {
      "cell_type": "code",
      "execution_count": 6,
      "metadata": {
        "id": "PavsPgGU9Rrx"
      },
      "outputs": [],
      "source": [
        "# Scale Data\n",
        "scaler = StandardScaler().fit(X)\n",
        "X_scaled = scaler.transform(X)"
      ]
    },
    {
      "attachments": {},
      "cell_type": "markdown",
      "metadata": {
        "id": "YLn6XlFqMaCY"
      },
      "source": [
        "## 1. Fit a kmeans Model with any Number of Clusters.\n",
        "\n",
        "To begin with, we simply fit a kmeans model with 5 clusters."
      ]
    },
    {
      "cell_type": "code",
      "execution_count": 13,
      "metadata": {
        "colab": {
          "base_uri": "https://localhost:8080/"
        },
        "id": "ntDMWRN-8yAi",
        "outputId": "f2d24a55-6730-48fa-a483-29f205571dc2"
      },
      "outputs": [],
      "source": [
        "# Fitting with 5 Clusters\n",
        "kmeans = KMeans(n_clusters= 5,\n",
        "                 random_state=42\n",
        "                 ).fit(X_scaled)"
      ]
    },
    {
      "attachments": {},
      "cell_type": "markdown",
      "metadata": {
        "id": "LkpVmNYRMtyq"
      },
      "source": [
        "## 2. Pick two features to visualize across."
      ]
    },
    {
      "cell_type": "code",
      "execution_count": 14,
      "metadata": {
        "colab": {
          "base_uri": "https://localhost:8080/"
        },
        "id": "oTmfYVYrN53a",
        "outputId": "f23623ce-251c-49e2-acdf-04feb4123931"
      },
      "outputs": [
        {
          "data": {
            "text/plain": [
              "Index(['child_mort', 'exports', 'health', 'imports', 'income', 'inflation',\n",
              "       'life_expec', 'total_fer', 'gdpp'],\n",
              "      dtype='object')"
            ]
          },
          "execution_count": 14,
          "metadata": {},
          "output_type": "execute_result"
        }
      ],
      "source": [
        "X.columns"
      ]
    },
    {
      "cell_type": "code",
      "execution_count": 15,
      "metadata": {
        "colab": {
          "base_uri": "https://localhost:8080/",
          "height": 296
        },
        "id": "GksDZxUsDbzM",
        "outputId": "617460e4-682c-4fc5-f54f-c89ff10c7c16"
      },
      "outputs": [
        {
          "data": {
            "image/png": "[encoded data removed]",
            "text/plain": [
              "<Figure size 640x480 with 1 Axes>"
            ]
          },
          "metadata": {},
          "output_type": "display_data"
        }
      ],
      "source": [
        "# Import vs. Export Visualization\n",
        "x1_index = 1\n",
        "x2_index = 3\n",
        "\n",
        "\n",
        "plt.scatter(X_scaled[:, x1_index], X_scaled[:, x2_index],\n",
        "            c=kmeans.labels_,\n",
        "            cmap='viridis')\n",
        "plt.scatter(kmeans.cluster_centers_[:, x1_index], kmeans.cluster_centers_[:, x2_index],\n",
        "             marker='o', color='black', s=100)\n",
        "\n",
        "plt.xlabel(X.columns[x1_index])\n",
        "plt.ylabel(X.columns[x2_index])\n",
        "plt.title('Scatter Plot of Customers')\n",
        "plt.legend([\"Group 1\", \"Center\", \"Group 2\"])\n",
        "plt.grid()\n",
        "plt.show()"
      ]
    },
    {
      "attachments": {},
      "cell_type": "markdown",
      "metadata": {
        "id": "827DR0zsOkNA"
      },
      "source": [
        "## 3. Check a range of k-clusters and visualize to find the elbow. Test 30 different random starting places for the centroid means.\n",
        " "
      ]
    },
    {
      "cell_type": "code",
      "execution_count": 16,
      "metadata": {
        "id": "2_YuJa4IFKda"
      },
      "outputs": [],
      "source": [
        "# Loop to get WCSS\n",
        "WCSS = []\n",
        "Ks = range(1,15)\n",
        "for k in Ks:\n",
        "    kmeans = KMeans(n_clusters=k, n_init=30, init='random')\n",
        "    kmeans.fit(X_scaled)\n",
        "    WCSS.append(kmeans.inertia_)"
      ]
    },
    {
      "attachments": {},
      "cell_type": "markdown",
      "metadata": {
        "id": "aNEDRA7XPkMN"
      },
      "source": [
        "## 4. Use the above work and economic critical thinking to choose a number of clusters. Explain why you chose the number of clusters and fit a model accordingly."
      ]
    },
    {
      "cell_type": "code",
      "execution_count": 17,
      "metadata": {
        "id": "Vfz1eA5ZP4wE"
      },
      "outputs": [
        {
          "data": {
            "image/png": "[encoded data removed]",
            "text/plain": [
              "<Figure size 640x480 with 1 Axes>"
            ]
          },
          "metadata": {},
          "output_type": "display_data"
        }
      ],
      "source": [
        "# Plot WCSS Against Clusters\n",
        "plt.plot(WCSS)\n",
        "plt.xlabel(\"Number of Clusters\")\n",
        "plt.ylabel(\"WCSS\")\n",
        "plt.title(\"Cluster Selection\")\n",
        "plt.show()"
      ]
    },
    {
      "attachments": {},
      "cell_type": "markdown",
      "metadata": {},
      "source": [
        "The above graph shows decreasing WCSS as we increase the number of clusters. This is unsurprising considering the nature of the Elbow Method and WCSS. However, using economic intuition, we will move forward with $k = 6$ clusters. The idea being that there are 6 continents (that have countries in them) and therefore we may expect there to be natural clustering based on the geographic location.\n",
        "\n",
        "Namely, we expect the North America region and perhaps Europe to have more Imports than Exports (trade deficit) and Asia to have more Exports than Imports (trade surplus)."
      ]
    },
    {
      "cell_type": "code",
      "execution_count": 18,
      "metadata": {
        "id": "o0TG8sABQake"
      },
      "outputs": [],
      "source": [
        "# Number of Clusters\n",
        "k = 6 # Major Continents"
      ]
    },
    {
      "attachments": {},
      "cell_type": "markdown",
      "metadata": {},
      "source": [
        "We fit the model and predict in the next section."
      ]
    },
    {
      "attachments": {},
      "cell_type": "markdown",
      "metadata": {
        "id": "Z6xfLRZIRfdl"
      },
      "source": [
        "## 5. Create a list of the countries that are in each cluster. Write interesting things you notice."
      ]
    },
    {
      "cell_type": "code",
      "execution_count": 19,
      "metadata": {},
      "outputs": [],
      "source": [
        "# Run the Model with k = 6 Clusters\n",
        "kmeans = KMeans(n_clusters=k, \n",
        "                n_init=30, \n",
        "                init=\"random\"\n",
        "                ).fit(X_scaled).predict(X_scaled)"
      ]
    },
    {
      "cell_type": "code",
      "execution_count": 22,
      "metadata": {
        "id": "fGuVFuzxStqP"
      },
      "outputs": [],
      "source": [
        "# Store results in Data Frame\n",
        "preds =  pd.DataFrame(kmeans)\n",
        "\n",
        "# Append with Features & Country Names\n",
        "output = pd.concat([preds, X, names], axis=1)"
      ]
    },
    {
      "cell_type": "code",
      "execution_count": 25,
      "metadata": {},
      "outputs": [
        {
          "data": {
            "text/html": [
              "<div>\n",
              "<style scoped>\n",
              "    .dataframe tbody tr th:only-of-type {\n",
              "        vertical-align: middle;\n",
              "    }\n",
              "\n",
              "    .dataframe tbody tr th {\n",
              "        vertical-align: top;\n",
              "    }\n",
              "\n",
              "    .dataframe thead th {\n",
              "        text-align: right;\n",
              "    }\n",
              "</style>\n",
              "<table border=\"1\" class=\"dataframe\">\n",
              "  <thead>\n",
              "    <tr style=\"text-align: right;\">\n",
              "      <th></th>\n",
              "      <th>0</th>\n",
              "      <th>child_mort</th>\n",
              "      <th>exports</th>\n",
              "      <th>health</th>\n",
              "      <th>imports</th>\n",
              "      <th>income</th>\n",
              "      <th>inflation</th>\n",
              "      <th>life_expec</th>\n",
              "      <th>total_fer</th>\n",
              "      <th>gdpp</th>\n",
              "      <th>country</th>\n",
              "    </tr>\n",
              "  </thead>\n",
              "  <tbody>\n",
              "    <tr>\n",
              "      <th>0</th>\n",
              "      <td>1</td>\n",
              "      <td>90.2</td>\n",
              "      <td>10.0</td>\n",
              "      <td>7.58</td>\n",
              "      <td>44.9</td>\n",
              "      <td>1610</td>\n",
              "      <td>9.440</td>\n",
              "      <td>56.2</td>\n",
              "      <td>5.82</td>\n",
              "      <td>553</td>\n",
              "      <td>Afghanistan</td>\n",
              "    </tr>\n",
              "    <tr>\n",
              "      <th>1</th>\n",
              "      <td>2</td>\n",
              "      <td>16.6</td>\n",
              "      <td>28.0</td>\n",
              "      <td>6.55</td>\n",
              "      <td>48.6</td>\n",
              "      <td>9930</td>\n",
              "      <td>4.490</td>\n",
              "      <td>76.3</td>\n",
              "      <td>1.65</td>\n",
              "      <td>4090</td>\n",
              "      <td>Albania</td>\n",
              "    </tr>\n",
              "    <tr>\n",
              "      <th>2</th>\n",
              "      <td>4</td>\n",
              "      <td>27.3</td>\n",
              "      <td>38.4</td>\n",
              "      <td>4.17</td>\n",
              "      <td>31.4</td>\n",
              "      <td>12900</td>\n",
              "      <td>16.100</td>\n",
              "      <td>76.5</td>\n",
              "      <td>2.89</td>\n",
              "      <td>4460</td>\n",
              "      <td>Algeria</td>\n",
              "    </tr>\n",
              "    <tr>\n",
              "      <th>3</th>\n",
              "      <td>1</td>\n",
              "      <td>119.0</td>\n",
              "      <td>62.3</td>\n",
              "      <td>2.85</td>\n",
              "      <td>42.9</td>\n",
              "      <td>5900</td>\n",
              "      <td>22.400</td>\n",
              "      <td>60.1</td>\n",
              "      <td>6.16</td>\n",
              "      <td>3530</td>\n",
              "      <td>Angola</td>\n",
              "    </tr>\n",
              "    <tr>\n",
              "      <th>4</th>\n",
              "      <td>2</td>\n",
              "      <td>10.3</td>\n",
              "      <td>45.5</td>\n",
              "      <td>6.03</td>\n",
              "      <td>58.9</td>\n",
              "      <td>19100</td>\n",
              "      <td>1.440</td>\n",
              "      <td>76.8</td>\n",
              "      <td>2.13</td>\n",
              "      <td>12200</td>\n",
              "      <td>Antigua and Barbuda</td>\n",
              "    </tr>\n",
              "    <tr>\n",
              "      <th>5</th>\n",
              "      <td>2</td>\n",
              "      <td>14.5</td>\n",
              "      <td>18.9</td>\n",
              "      <td>8.10</td>\n",
              "      <td>16.0</td>\n",
              "      <td>18700</td>\n",
              "      <td>20.900</td>\n",
              "      <td>75.8</td>\n",
              "      <td>2.37</td>\n",
              "      <td>10300</td>\n",
              "      <td>Argentina</td>\n",
              "    </tr>\n",
              "    <tr>\n",
              "      <th>6</th>\n",
              "      <td>2</td>\n",
              "      <td>18.1</td>\n",
              "      <td>20.8</td>\n",
              "      <td>4.40</td>\n",
              "      <td>45.3</td>\n",
              "      <td>6700</td>\n",
              "      <td>7.770</td>\n",
              "      <td>73.3</td>\n",
              "      <td>1.69</td>\n",
              "      <td>3220</td>\n",
              "      <td>Armenia</td>\n",
              "    </tr>\n",
              "    <tr>\n",
              "      <th>7</th>\n",
              "      <td>0</td>\n",
              "      <td>4.8</td>\n",
              "      <td>19.8</td>\n",
              "      <td>8.73</td>\n",
              "      <td>20.9</td>\n",
              "      <td>41400</td>\n",
              "      <td>1.160</td>\n",
              "      <td>82.0</td>\n",
              "      <td>1.93</td>\n",
              "      <td>51900</td>\n",
              "      <td>Australia</td>\n",
              "    </tr>\n",
              "    <tr>\n",
              "      <th>8</th>\n",
              "      <td>0</td>\n",
              "      <td>4.3</td>\n",
              "      <td>51.3</td>\n",
              "      <td>11.00</td>\n",
              "      <td>47.8</td>\n",
              "      <td>43200</td>\n",
              "      <td>0.873</td>\n",
              "      <td>80.5</td>\n",
              "      <td>1.44</td>\n",
              "      <td>46900</td>\n",
              "      <td>Austria</td>\n",
              "    </tr>\n",
              "    <tr>\n",
              "      <th>9</th>\n",
              "      <td>4</td>\n",
              "      <td>39.2</td>\n",
              "      <td>54.3</td>\n",
              "      <td>5.88</td>\n",
              "      <td>20.7</td>\n",
              "      <td>16000</td>\n",
              "      <td>13.800</td>\n",
              "      <td>69.1</td>\n",
              "      <td>1.92</td>\n",
              "      <td>5840</td>\n",
              "      <td>Azerbaijan</td>\n",
              "    </tr>\n",
              "  </tbody>\n",
              "</table>\n",
              "</div>"
            ],
            "text/plain": [
              "   0  child_mort  exports  health  imports  income  inflation  life_expec  \\\n",
              "0  1        90.2     10.0    7.58     44.9    1610      9.440        56.2   \n",
              "1  2        16.6     28.0    6.55     48.6    9930      4.490        76.3   \n",
              "2  4        27.3     38.4    4.17     31.4   12900     16.100        76.5   \n",
              "3  1       119.0     62.3    2.85     42.9    5900     22.400        60.1   \n",
              "4  2        10.3     45.5    6.03     58.9   19100      1.440        76.8   \n",
              "5  2        14.5     18.9    8.10     16.0   18700     20.900        75.8   \n",
              "6  2        18.1     20.8    4.40     45.3    6700      7.770        73.3   \n",
              "7  0         4.8     19.8    8.73     20.9   41400      1.160        82.0   \n",
              "8  0         4.3     51.3   11.00     47.8   43200      0.873        80.5   \n",
              "9  4        39.2     54.3    5.88     20.7   16000     13.800        69.1   \n",
              "\n",
              "   total_fer   gdpp              country  \n",
              "0       5.82    553          Afghanistan  \n",
              "1       1.65   4090              Albania  \n",
              "2       2.89   4460              Algeria  \n",
              "3       6.16   3530               Angola  \n",
              "4       2.13  12200  Antigua and Barbuda  \n",
              "5       2.37  10300            Argentina  \n",
              "6       1.69   3220              Armenia  \n",
              "7       1.93  51900            Australia  \n",
              "8       1.44  46900              Austria  \n",
              "9       1.92   5840           Azerbaijan  "
            ]
          },
          "execution_count": 25,
          "metadata": {},
          "output_type": "execute_result"
        }
      ],
      "source": [
        "output.head(10)"
      ]
    },
    {
      "cell_type": "code",
      "execution_count": 37,
      "metadata": {},
      "outputs": [
        {
          "name": "stdout",
          "output_type": "stream",
          "text": [
            "Cluster 1:  ['Australia', 'Austria', 'Belgium', 'Brunei', 'Canada', 'Cyprus', 'Denmark', 'Finland', 'France', 'Germany', 'Greece', 'Iceland', 'Ireland', 'Israel', 'Italy', 'Japan', 'Kuwait', 'Netherlands', 'New Zealand', 'Norway', 'Portugal', 'Qatar', 'Slovenia', 'Spain', 'Sweden', 'Switzerland', 'United Arab Emirates', 'United Kingdom', 'United States']\n",
            "Cluster 2:  ['Afghanistan', 'Angola', 'Benin', 'Botswana', 'Burkina Faso', 'Burundi', 'Cameroon', 'Central African Republic', 'Chad', 'Comoros', 'Congo, Dem. Rep.', \"Cote d'Ivoire\", 'Gambia', 'Guinea', 'Guinea-Bissau', 'Haiti', 'Kiribati', 'Lesotho', 'Liberia', 'Malawi', 'Mali', 'Micronesia, Fed. Sts.', 'Mozambique', 'Namibia', 'Niger', 'Rwanda', 'Senegal', 'Sierra Leone', 'Solomon Islands', 'South Africa', 'Tanzania', 'Togo', 'Uganda', 'Zambia']\n",
            "Cluster 3:  ['Albania', 'Antigua and Barbuda', 'Argentina', 'Armenia', 'Bahamas', 'Bahrain', 'Barbados', 'Belarus', 'Belize', 'Bhutan', 'Bosnia and Herzegovina', 'Brazil', 'Bulgaria', 'Cambodia', 'Cape Verde', 'Chile', 'China', 'Colombia', 'Costa Rica', 'Croatia', 'Czech Republic', 'Dominican Republic', 'Ecuador', 'El Salvador', 'Estonia', 'Fiji', 'Georgia', 'Grenada', 'Guatemala', 'Guyana', 'Hungary', 'Iran', 'Jamaica', 'Jordan', 'Kyrgyz Republic', 'Latvia', 'Lebanon', 'Libya', 'Lithuania', 'Macedonia, FYR', 'Malaysia', 'Maldives', 'Mauritius', 'Moldova', 'Montenegro', 'Morocco', 'Oman', 'Panama', 'Paraguay', 'Peru', 'Poland', 'Romania', 'Russia', 'Samoa', 'Saudi Arabia', 'Serbia', 'Seychelles', 'Slovak Republic', 'South Korea', 'St. Vincent and the Grenadines', 'Suriname', 'Thailand', 'Tonga', 'Tunisia', 'Turkey', 'Ukraine', 'Uruguay', 'Vietnam']\n",
            "Cluster 4:  ['Nigeria']\n",
            "Cluster 5:  ['Algeria', 'Azerbaijan', 'Bangladesh', 'Bolivia', 'Congo, Rep.', 'Egypt', 'Equatorial Guinea', 'Eritrea', 'Gabon', 'Ghana', 'India', 'Indonesia', 'Iraq', 'Kazakhstan', 'Kenya', 'Lao', 'Madagascar', 'Mauritania', 'Mongolia', 'Myanmar', 'Nepal', 'Pakistan', 'Philippines', 'Sri Lanka', 'Sudan', 'Tajikistan', 'Timor-Leste', 'Turkmenistan', 'Uzbekistan', 'Vanuatu', 'Venezuela', 'Yemen']\n",
            "Cluster 6:  ['Luxembourg', 'Malta', 'Singapore']\n"
          ]
        }
      ],
      "source": [
        "# List of Countries in Each Cluster\n",
        "Cluster1 = list(output[output[0] == 0][\"country\"]) # Cluster 1\n",
        "Cluster2 = list(output[output[0] == 1][\"country\"]) # Cluster 2\n",
        "Cluster3 = list(output[output[0] == 2][\"country\"]) # Cluster 3\n",
        "Cluster4 = list(output[output[0] == 3][\"country\"]) # Cluster 4\n",
        "Cluster5 = list(output[output[0] == 4][\"country\"]) # Cluster 5\n",
        "Cluster6 = list(output[output[0] == 5][\"country\"]) # Cluster 6\n",
        "\n",
        "print(\"Cluster 1: \", Cluster1)\n",
        "print(\"Cluster 2: \", Cluster2)\n",
        "print(\"Cluster 3: \", Cluster3)\n",
        "print(\"Cluster 4: \", Cluster4)\n",
        "print(\"Cluster 5: \", Cluster5)\n",
        "print(\"Cluster 6: \", Cluster6)"
      ]
    },
    {
      "attachments": {},
      "cell_type": "markdown",
      "metadata": {},
      "source": [
        "Right off the bat, we notice that the clusters are **not** by continent as we might have hoped. We know to be true since Australia is not in a cluster all by itself and Nigeria is. Hence, that initial intutition was incorrect and it doesn't seem that continent is strictly the correct clustering.\n",
        "\n",
        "Beyond this, we notice that **Cluster 1** is mostly comprised of wealth countries. Namely, most of these countries are in Europe or North America (e.g., Austria, Canada, France, Germany, United States). However, not all of these countries traditionally run a trade deficit. Namely, Germany typically runs a Trade Surplus. However, otherwise, the cluster does seem to capture countries that mostly run a trade deficit.\n",
        "\n",
        "All of the other clusters seem to be mostly developping countires, and obvious relationships don't seem to be present."
      ]
    },
    {
      "attachments": {},
      "cell_type": "markdown",
      "metadata": {
        "id": "nEmf0AxkTJc1"
      },
      "source": [
        "## 6. Create a table of Descriptive Statistics. Rows being the Cluster number and columns being all the features. Values being the mean of the centroid. Use the nonscaled X values for interpretation."
      ]
    },
    {
      "cell_type": "code",
      "execution_count": 38,
      "metadata": {
        "id": "ELmUB7bMTIJL"
      },
      "outputs": [],
      "source": [
        "# Concat Data Frame\n",
        "Q6DF = pd.concat([preds, X], axis=1)"
      ]
    },
    {
      "cell_type": "code",
      "execution_count": 39,
      "metadata": {
        "id": "HpjZMgC4Smz9"
      },
      "outputs": [
        {
          "data": {
            "text/html": [
              "<div>\n",
              "<style scoped>\n",
              "    .dataframe tbody tr th:only-of-type {\n",
              "        vertical-align: middle;\n",
              "    }\n",
              "\n",
              "    .dataframe tbody tr th {\n",
              "        vertical-align: top;\n",
              "    }\n",
              "\n",
              "    .dataframe thead th {\n",
              "        text-align: right;\n",
              "    }\n",
              "</style>\n",
              "<table border=\"1\" class=\"dataframe\">\n",
              "  <thead>\n",
              "    <tr style=\"text-align: right;\">\n",
              "      <th></th>\n",
              "      <th>child_mort</th>\n",
              "      <th>exports</th>\n",
              "      <th>health</th>\n",
              "      <th>imports</th>\n",
              "      <th>income</th>\n",
              "      <th>inflation</th>\n",
              "      <th>life_expec</th>\n",
              "      <th>total_fer</th>\n",
              "      <th>gdpp</th>\n",
              "    </tr>\n",
              "    <tr>\n",
              "      <th>0</th>\n",
              "      <th></th>\n",
              "      <th></th>\n",
              "      <th></th>\n",
              "      <th></th>\n",
              "      <th></th>\n",
              "      <th></th>\n",
              "      <th></th>\n",
              "      <th></th>\n",
              "      <th></th>\n",
              "    </tr>\n",
              "  </thead>\n",
              "  <tbody>\n",
              "    <tr>\n",
              "      <th>0</th>\n",
              "      <td>4.982759</td>\n",
              "      <td>45.703448</td>\n",
              "      <td>9.245862</td>\n",
              "      <td>39.513793</td>\n",
              "      <td>45762.068966</td>\n",
              "      <td>2.727793</td>\n",
              "      <td>80.386207</td>\n",
              "      <td>1.814828</td>\n",
              "      <td>44065.517241</td>\n",
              "    </tr>\n",
              "    <tr>\n",
              "      <th>1</th>\n",
              "      <td>97.455882</td>\n",
              "      <td>27.003529</td>\n",
              "      <td>7.382059</td>\n",
              "      <td>47.420588</td>\n",
              "      <td>2607.147059</td>\n",
              "      <td>7.204559</td>\n",
              "      <td>57.273529</td>\n",
              "      <td>5.083235</td>\n",
              "      <td>1357.058824</td>\n",
              "    </tr>\n",
              "    <tr>\n",
              "      <th>2</th>\n",
              "      <td>16.383824</td>\n",
              "      <td>44.085294</td>\n",
              "      <td>6.603235</td>\n",
              "      <td>51.333824</td>\n",
              "      <td>14862.941176</td>\n",
              "      <td>5.435750</td>\n",
              "      <td>74.211765</td>\n",
              "      <td>2.111471</td>\n",
              "      <td>8213.911765</td>\n",
              "    </tr>\n",
              "    <tr>\n",
              "      <th>3</th>\n",
              "      <td>130.000000</td>\n",
              "      <td>25.300000</td>\n",
              "      <td>5.070000</td>\n",
              "      <td>17.400000</td>\n",
              "      <td>5150.000000</td>\n",
              "      <td>104.000000</td>\n",
              "      <td>60.500000</td>\n",
              "      <td>5.840000</td>\n",
              "      <td>2330.000000</td>\n",
              "    </tr>\n",
              "    <tr>\n",
              "      <th>4</th>\n",
              "      <td>52.393750</td>\n",
              "      <td>33.455594</td>\n",
              "      <td>4.519687</td>\n",
              "      <td>34.198934</td>\n",
              "      <td>7484.062500</td>\n",
              "      <td>15.452188</td>\n",
              "      <td>67.284375</td>\n",
              "      <td>3.540313</td>\n",
              "      <td>3356.187500</td>\n",
              "    </tr>\n",
              "    <tr>\n",
              "      <th>5</th>\n",
              "      <td>4.133333</td>\n",
              "      <td>176.000000</td>\n",
              "      <td>6.793333</td>\n",
              "      <td>156.666667</td>\n",
              "      <td>64033.333333</td>\n",
              "      <td>2.468000</td>\n",
              "      <td>81.433333</td>\n",
              "      <td>1.380000</td>\n",
              "      <td>57566.666667</td>\n",
              "    </tr>\n",
              "  </tbody>\n",
              "</table>\n",
              "</div>"
            ],
            "text/plain": [
              "   child_mort     exports    health     imports        income   inflation  \\\n",
              "0                                                                           \n",
              "0    4.982759   45.703448  9.245862   39.513793  45762.068966    2.727793   \n",
              "1   97.455882   27.003529  7.382059   47.420588   2607.147059    7.204559   \n",
              "2   16.383824   44.085294  6.603235   51.333824  14862.941176    5.435750   \n",
              "3  130.000000   25.300000  5.070000   17.400000   5150.000000  104.000000   \n",
              "4   52.393750   33.455594  4.519687   34.198934   7484.062500   15.452188   \n",
              "5    4.133333  176.000000  6.793333  156.666667  64033.333333    2.468000   \n",
              "\n",
              "   life_expec  total_fer          gdpp  \n",
              "0                                       \n",
              "0   80.386207   1.814828  44065.517241  \n",
              "1   57.273529   5.083235   1357.058824  \n",
              "2   74.211765   2.111471   8213.911765  \n",
              "3   60.500000   5.840000   2330.000000  \n",
              "4   67.284375   3.540313   3356.187500  \n",
              "5   81.433333   1.380000  57566.666667  "
            ]
          },
          "execution_count": 39,
          "metadata": {},
          "output_type": "execute_result"
        }
      ],
      "source": [
        "# Feature Means Across Clusters\n",
        "Q6DF.groupby(0).mean()"
      ]
    },
    {
      "cell_type": "code",
      "execution_count": 40,
      "metadata": {},
      "outputs": [
        {
          "data": {
            "text/html": [
              "<div>\n",
              "<style scoped>\n",
              "    .dataframe tbody tr th:only-of-type {\n",
              "        vertical-align: middle;\n",
              "    }\n",
              "\n",
              "    .dataframe tbody tr th {\n",
              "        vertical-align: top;\n",
              "    }\n",
              "\n",
              "    .dataframe thead th {\n",
              "        text-align: right;\n",
              "    }\n",
              "</style>\n",
              "<table border=\"1\" class=\"dataframe\">\n",
              "  <thead>\n",
              "    <tr style=\"text-align: right;\">\n",
              "      <th></th>\n",
              "      <th>child_mort</th>\n",
              "      <th>exports</th>\n",
              "      <th>health</th>\n",
              "      <th>imports</th>\n",
              "      <th>income</th>\n",
              "      <th>inflation</th>\n",
              "      <th>life_expec</th>\n",
              "      <th>total_fer</th>\n",
              "      <th>gdpp</th>\n",
              "    </tr>\n",
              "    <tr>\n",
              "      <th>0</th>\n",
              "      <th></th>\n",
              "      <th></th>\n",
              "      <th></th>\n",
              "      <th></th>\n",
              "      <th></th>\n",
              "      <th></th>\n",
              "      <th></th>\n",
              "      <th></th>\n",
              "      <th></th>\n",
              "    </tr>\n",
              "  </thead>\n",
              "  <tbody>\n",
              "    <tr>\n",
              "      <th>0</th>\n",
              "      <td>2.191227</td>\n",
              "      <td>22.110332</td>\n",
              "      <td>3.296145</td>\n",
              "      <td>17.720604</td>\n",
              "      <td>19932.178108</td>\n",
              "      <td>4.341140</td>\n",
              "      <td>1.464758</td>\n",
              "      <td>0.359778</td>\n",
              "      <td>14752.173590</td>\n",
              "    </tr>\n",
              "    <tr>\n",
              "      <th>1</th>\n",
              "      <td>36.772620</td>\n",
              "      <td>13.406179</td>\n",
              "      <td>2.839025</td>\n",
              "      <td>19.568509</td>\n",
              "      <td>2968.507452</td>\n",
              "      <td>5.615303</td>\n",
              "      <td>6.309267</td>\n",
              "      <td>1.143982</td>\n",
              "      <td>1714.401476</td>\n",
              "    </tr>\n",
              "    <tr>\n",
              "      <th>2</th>\n",
              "      <td>9.145958</td>\n",
              "      <td>19.169529</td>\n",
              "      <td>1.856367</td>\n",
              "      <td>18.701334</td>\n",
              "      <td>9185.985604</td>\n",
              "      <td>5.023133</td>\n",
              "      <td>3.233294</td>\n",
              "      <td>0.656136</td>\n",
              "      <td>5757.320111</td>\n",
              "    </tr>\n",
              "    <tr>\n",
              "      <th>3</th>\n",
              "      <td>NaN</td>\n",
              "      <td>NaN</td>\n",
              "      <td>NaN</td>\n",
              "      <td>NaN</td>\n",
              "      <td>NaN</td>\n",
              "      <td>NaN</td>\n",
              "      <td>NaN</td>\n",
              "      <td>NaN</td>\n",
              "      <td>NaN</td>\n",
              "    </tr>\n",
              "    <tr>\n",
              "      <th>4</th>\n",
              "      <td>23.768398</td>\n",
              "      <td>21.775472</td>\n",
              "      <td>1.626382</td>\n",
              "      <td>14.813079</td>\n",
              "      <td>6959.903067</td>\n",
              "      <td>9.720013</td>\n",
              "      <td>4.187162</td>\n",
              "      <td>1.105016</td>\n",
              "      <td>3822.899478</td>\n",
              "    </tr>\n",
              "    <tr>\n",
              "      <th>5</th>\n",
              "      <td>2.309401</td>\n",
              "      <td>23.515952</td>\n",
              "      <td>2.492877</td>\n",
              "      <td>16.165808</td>\n",
              "      <td>32460.642836</td>\n",
              "      <td>2.179718</td>\n",
              "      <td>1.205543</td>\n",
              "      <td>0.240624</td>\n",
              "      <td>43011.665084</td>\n",
              "    </tr>\n",
              "  </tbody>\n",
              "</table>\n",
              "</div>"
            ],
            "text/plain": [
              "   child_mort    exports    health    imports        income  inflation  \\\n",
              "0                                                                        \n",
              "0    2.191227  22.110332  3.296145  17.720604  19932.178108   4.341140   \n",
              "1   36.772620  13.406179  2.839025  19.568509   2968.507452   5.615303   \n",
              "2    9.145958  19.169529  1.856367  18.701334   9185.985604   5.023133   \n",
              "3         NaN        NaN       NaN        NaN           NaN        NaN   \n",
              "4   23.768398  21.775472  1.626382  14.813079   6959.903067   9.720013   \n",
              "5    2.309401  23.515952  2.492877  16.165808  32460.642836   2.179718   \n",
              "\n",
              "   life_expec  total_fer          gdpp  \n",
              "0                                       \n",
              "0    1.464758   0.359778  14752.173590  \n",
              "1    6.309267   1.143982   1714.401476  \n",
              "2    3.233294   0.656136   5757.320111  \n",
              "3         NaN        NaN           NaN  \n",
              "4    4.187162   1.105016   3822.899478  \n",
              "5    1.205543   0.240624  43011.665084  "
            ]
          },
          "execution_count": 40,
          "metadata": {},
          "output_type": "execute_result"
        }
      ],
      "source": [
        "# Feature St. Devs. Across Clusters\n",
        "Q6DF.groupby(0).std()"
      ]
    },
    {
      "attachments": {},
      "cell_type": "markdown",
      "metadata": {
        "id": "x_rQZjMrUKY8"
      },
      "source": [
        "## 7. Write an observation about the descriptive statistics."
      ]
    },
    {
      "attachments": {},
      "cell_type": "markdown",
      "metadata": {},
      "source": [
        "The first thing we notice about our descriptive statistics is that for cluster 1 (denoted by index 0 above), the Exports exceed the Imports. This implies, that on average, cluster 1 runs a trade surplus. This is counter to our intutition that many of these developped countries would run a trade deficit to take advantage of cheaper production in developping countires. However, the standard deviation for both exports and imports is quite large so it is possible that the mean here is a bit misleading.\n",
        "\n",
        "Additionally, we notice that Cluster 2 and 3 seem to be running a trade deficit. These clusters are mainly very poor countries (as seen by the averge GDP). In these cases, we see that these countries are likely not industrialized and selling goods to the rest of the world; rather, they might lack the resources to produce for themselves and thus buy from the rest of the world.\n",
        "\n",
        "It seems that for our purposes, it may have been better to use 2 clusters to capture the developped vs. developping country dynamic better. Currently, we do not seem to be getting a lot of value out of the additional clusters for answering this question about Trade Balance."
      ]
    }
  ],
  "metadata": {
    "colab": {
      "provenance": []
    },
    "kernelspec": {
      "display_name": "base",
      "language": "python",
      "name": "python3"
    },
    "language_info": {
      "codemirror_mode": {
        "name": "ipython",
        "version": 3
      },
      "file_extension": ".py",
      "mimetype": "text/x-python",
      "name": "python",
      "nbconvert_exporter": "python",
      "pygments_lexer": "ipython3",
      "version": "3.9.16"
    },
    "vscode": {
      "interpreter": {
        "hash": "9cca634724ef10e976889431c4c2eb9bdd3ebc465a20ba6bac552e8bf280ef83"
      }
    }
  },
  "nbformat": 4,
  "nbformat_minor": 0
}
