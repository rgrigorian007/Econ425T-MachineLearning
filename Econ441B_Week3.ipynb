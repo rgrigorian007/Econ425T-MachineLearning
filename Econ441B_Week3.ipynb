{
  "cells": [
    {
      "attachments": {},
      "cell_type": "markdown",
      "metadata": {
        "id": "7ywSRtNI4s5h"
      },
      "source": [
        "# Econ 441B Week 3 Assignment\n",
        "# Richard Grigorian (UID: 505-088-797)"
      ]
    },
    {
      "attachments": {},
      "cell_type": "markdown",
      "metadata": {},
      "source": [
        "## 1. Import the Credit Card Fraud Data From CCLE"
      ]
    },
    {
      "cell_type": "code",
      "execution_count": 1,
      "metadata": {
        "id": "nsG1QV154GYZ"
      },
      "outputs": [],
      "source": [
        "import pandas as pd\n",
        "import matplotlib.pyplot as plt\n",
        "import numpy as np"
      ]
    },
    {
      "cell_type": "code",
      "execution_count": 2,
      "metadata": {
        "id": "KJQfo8mz43Kz"
      },
      "outputs": [],
      "source": [
        "df = pd.read_csv(\"fraudTest.csv\")"
      ]
    },
    {
      "cell_type": "code",
      "execution_count": 3,
      "metadata": {
        "id": "mKWSRv-q98wE"
      },
      "outputs": [
        {
          "data": {
            "text/html": [
              "<div>\n",
              "<style scoped>\n",
              "    .dataframe tbody tr th:only-of-type {\n",
              "        vertical-align: middle;\n",
              "    }\n",
              "\n",
              "    .dataframe tbody tr th {\n",
              "        vertical-align: top;\n",
              "    }\n",
              "\n",
              "    .dataframe thead th {\n",
              "        text-align: right;\n",
              "    }\n",
              "</style>\n",
              "<table border=\"1\" class=\"dataframe\">\n",
              "  <thead>\n",
              "    <tr style=\"text-align: right;\">\n",
              "      <th></th>\n",
              "      <th>Unnamed: 0</th>\n",
              "      <th>trans_date_trans_time</th>\n",
              "      <th>cc_num</th>\n",
              "      <th>merchant</th>\n",
              "      <th>category</th>\n",
              "      <th>amt</th>\n",
              "      <th>first</th>\n",
              "      <th>last</th>\n",
              "      <th>gender</th>\n",
              "      <th>street</th>\n",
              "      <th>...</th>\n",
              "      <th>lat</th>\n",
              "      <th>long</th>\n",
              "      <th>city_pop</th>\n",
              "      <th>job</th>\n",
              "      <th>dob</th>\n",
              "      <th>trans_num</th>\n",
              "      <th>unix_time</th>\n",
              "      <th>merch_lat</th>\n",
              "      <th>merch_long</th>\n",
              "      <th>is_fraud</th>\n",
              "    </tr>\n",
              "  </thead>\n",
              "  <tbody>\n",
              "    <tr>\n",
              "      <th>0</th>\n",
              "      <td>0</td>\n",
              "      <td>2020-06-21 12:14:25</td>\n",
              "      <td>2291163933867244</td>\n",
              "      <td>fraud_Kirlin and Sons</td>\n",
              "      <td>personal_care</td>\n",
              "      <td>2.86</td>\n",
              "      <td>Jeff</td>\n",
              "      <td>Elliott</td>\n",
              "      <td>M</td>\n",
              "      <td>351 Darlene Green</td>\n",
              "      <td>...</td>\n",
              "      <td>33.9659</td>\n",
              "      <td>-80.9355</td>\n",
              "      <td>333497</td>\n",
              "      <td>Mechanical engineer</td>\n",
              "      <td>1968-03-19</td>\n",
              "      <td>2da90c7d74bd46a0caf3777415b3ebd3</td>\n",
              "      <td>1371816865</td>\n",
              "      <td>33.986391</td>\n",
              "      <td>-81.200714</td>\n",
              "      <td>0</td>\n",
              "    </tr>\n",
              "    <tr>\n",
              "      <th>1</th>\n",
              "      <td>1</td>\n",
              "      <td>2020-06-21 12:14:33</td>\n",
              "      <td>3573030041201292</td>\n",
              "      <td>fraud_Sporer-Keebler</td>\n",
              "      <td>personal_care</td>\n",
              "      <td>29.84</td>\n",
              "      <td>Joanne</td>\n",
              "      <td>Williams</td>\n",
              "      <td>F</td>\n",
              "      <td>3638 Marsh Union</td>\n",
              "      <td>...</td>\n",
              "      <td>40.3207</td>\n",
              "      <td>-110.4360</td>\n",
              "      <td>302</td>\n",
              "      <td>Sales professional, IT</td>\n",
              "      <td>1990-01-17</td>\n",
              "      <td>324cc204407e99f51b0d6ca0055005e7</td>\n",
              "      <td>1371816873</td>\n",
              "      <td>39.450498</td>\n",
              "      <td>-109.960431</td>\n",
              "      <td>0</td>\n",
              "    </tr>\n",
              "    <tr>\n",
              "      <th>2</th>\n",
              "      <td>2</td>\n",
              "      <td>2020-06-21 12:14:53</td>\n",
              "      <td>3598215285024754</td>\n",
              "      <td>fraud_Swaniawski, Nitzsche and Welch</td>\n",
              "      <td>health_fitness</td>\n",
              "      <td>41.28</td>\n",
              "      <td>Ashley</td>\n",
              "      <td>Lopez</td>\n",
              "      <td>F</td>\n",
              "      <td>9333 Valentine Point</td>\n",
              "      <td>...</td>\n",
              "      <td>40.6729</td>\n",
              "      <td>-73.5365</td>\n",
              "      <td>34496</td>\n",
              "      <td>Librarian, public</td>\n",
              "      <td>1970-10-21</td>\n",
              "      <td>c81755dbbbea9d5c77f094348a7579be</td>\n",
              "      <td>1371816893</td>\n",
              "      <td>40.495810</td>\n",
              "      <td>-74.196111</td>\n",
              "      <td>0</td>\n",
              "    </tr>\n",
              "    <tr>\n",
              "      <th>3</th>\n",
              "      <td>3</td>\n",
              "      <td>2020-06-21 12:15:15</td>\n",
              "      <td>3591919803438423</td>\n",
              "      <td>fraud_Haley Group</td>\n",
              "      <td>misc_pos</td>\n",
              "      <td>60.05</td>\n",
              "      <td>Brian</td>\n",
              "      <td>Williams</td>\n",
              "      <td>M</td>\n",
              "      <td>32941 Krystal Mill Apt. 552</td>\n",
              "      <td>...</td>\n",
              "      <td>28.5697</td>\n",
              "      <td>-80.8191</td>\n",
              "      <td>54767</td>\n",
              "      <td>Set designer</td>\n",
              "      <td>1987-07-25</td>\n",
              "      <td>2159175b9efe66dc301f149d3d5abf8c</td>\n",
              "      <td>1371816915</td>\n",
              "      <td>28.812398</td>\n",
              "      <td>-80.883061</td>\n",
              "      <td>0</td>\n",
              "    </tr>\n",
              "    <tr>\n",
              "      <th>4</th>\n",
              "      <td>4</td>\n",
              "      <td>2020-06-21 12:15:17</td>\n",
              "      <td>3526826139003047</td>\n",
              "      <td>fraud_Johnston-Casper</td>\n",
              "      <td>travel</td>\n",
              "      <td>3.19</td>\n",
              "      <td>Nathan</td>\n",
              "      <td>Massey</td>\n",
              "      <td>M</td>\n",
              "      <td>5783 Evan Roads Apt. 465</td>\n",
              "      <td>...</td>\n",
              "      <td>44.2529</td>\n",
              "      <td>-85.0170</td>\n",
              "      <td>1126</td>\n",
              "      <td>Furniture designer</td>\n",
              "      <td>1955-07-06</td>\n",
              "      <td>57ff021bd3f328f8738bb535c302a31b</td>\n",
              "      <td>1371816917</td>\n",
              "      <td>44.959148</td>\n",
              "      <td>-85.884734</td>\n",
              "      <td>0</td>\n",
              "    </tr>\n",
              "  </tbody>\n",
              "</table>\n",
              "<p>5 rows × 23 columns</p>\n",
              "</div>"
            ],
            "text/plain": [
              "   Unnamed: 0 trans_date_trans_time            cc_num  \\\n",
              "0           0   2020-06-21 12:14:25  2291163933867244   \n",
              "1           1   2020-06-21 12:14:33  3573030041201292   \n",
              "2           2   2020-06-21 12:14:53  3598215285024754   \n",
              "3           3   2020-06-21 12:15:15  3591919803438423   \n",
              "4           4   2020-06-21 12:15:17  3526826139003047   \n",
              "\n",
              "                               merchant        category    amt   first  \\\n",
              "0                 fraud_Kirlin and Sons   personal_care   2.86    Jeff   \n",
              "1                  fraud_Sporer-Keebler   personal_care  29.84  Joanne   \n",
              "2  fraud_Swaniawski, Nitzsche and Welch  health_fitness  41.28  Ashley   \n",
              "3                     fraud_Haley Group        misc_pos  60.05   Brian   \n",
              "4                 fraud_Johnston-Casper          travel   3.19  Nathan   \n",
              "\n",
              "       last gender                       street  ...      lat      long  \\\n",
              "0   Elliott      M            351 Darlene Green  ...  33.9659  -80.9355   \n",
              "1  Williams      F             3638 Marsh Union  ...  40.3207 -110.4360   \n",
              "2     Lopez      F         9333 Valentine Point  ...  40.6729  -73.5365   \n",
              "3  Williams      M  32941 Krystal Mill Apt. 552  ...  28.5697  -80.8191   \n",
              "4    Massey      M     5783 Evan Roads Apt. 465  ...  44.2529  -85.0170   \n",
              "\n",
              "   city_pop                     job         dob  \\\n",
              "0    333497     Mechanical engineer  1968-03-19   \n",
              "1       302  Sales professional, IT  1990-01-17   \n",
              "2     34496       Librarian, public  1970-10-21   \n",
              "3     54767            Set designer  1987-07-25   \n",
              "4      1126      Furniture designer  1955-07-06   \n",
              "\n",
              "                          trans_num   unix_time  merch_lat  merch_long  \\\n",
              "0  2da90c7d74bd46a0caf3777415b3ebd3  1371816865  33.986391  -81.200714   \n",
              "1  324cc204407e99f51b0d6ca0055005e7  1371816873  39.450498 -109.960431   \n",
              "2  c81755dbbbea9d5c77f094348a7579be  1371816893  40.495810  -74.196111   \n",
              "3  2159175b9efe66dc301f149d3d5abf8c  1371816915  28.812398  -80.883061   \n",
              "4  57ff021bd3f328f8738bb535c302a31b  1371816917  44.959148  -85.884734   \n",
              "\n",
              "   is_fraud  \n",
              "0         0  \n",
              "1         0  \n",
              "2         0  \n",
              "3         0  \n",
              "4         0  \n",
              "\n",
              "[5 rows x 23 columns]"
            ]
          },
          "execution_count": 3,
          "metadata": {},
          "output_type": "execute_result"
        }
      ],
      "source": [
        "df.head()"
      ]
    },
    {
      "attachments": {},
      "cell_type": "markdown",
      "metadata": {
        "id": "8VsnpGe9-B3p"
      },
      "source": [
        "## 2. Select four columns to use as features (one must be trans_date_trans)"
      ]
    },
    {
      "cell_type": "code",
      "execution_count": 4,
      "metadata": {
        "id": "1tpCDMW198ym"
      },
      "outputs": [],
      "source": [
        "df_select = df[[\"trans_date_trans_time\", \"category\", \"amt\", \"city_pop\", \"is_fraud\"]]"
      ]
    },
    {
      "cell_type": "code",
      "execution_count": 5,
      "metadata": {
        "id": "FZvnpERK981d"
      },
      "outputs": [
        {
          "data": {
            "text/plain": [
              "Index(['trans_date_trans_time', 'category', 'amt', 'city_pop', 'is_fraud'], dtype='object')"
            ]
          },
          "execution_count": 5,
          "metadata": {},
          "output_type": "execute_result"
        }
      ],
      "source": [
        "df_select.columns"
      ]
    },
    {
      "attachments": {},
      "cell_type": "markdown",
      "metadata": {
        "id": "lbkpNPyN-Gnk"
      },
      "source": [
        "## 3. Create a unique variable out of trans_date."
      ]
    },
    {
      "cell_type": "code",
      "execution_count": 9,
      "metadata": {
        "id": "cNu6ysyV988v"
      },
      "outputs": [
        {
          "data": {
            "text/plain": [
              "pandas._libs.tslibs.timestamps.Timestamp"
            ]
          },
          "execution_count": 9,
          "metadata": {},
          "output_type": "execute_result"
        }
      ],
      "source": [
        "type(df_select[\"trans_date_trans_time\"][0])"
      ]
    },
    {
      "cell_type": "code",
      "execution_count": 7,
      "metadata": {
        "id": "xQE60rwv98_F"
      },
      "outputs": [
        {
          "name": "stderr",
          "output_type": "stream",
          "text": [
            "C:\\Users\\Richard PC\\AppData\\Local\\Temp\\ipykernel_21956\\2067604160.py:1: SettingWithCopyWarning: \n",
            "A value is trying to be set on a copy of a slice from a DataFrame.\n",
            "Try using .loc[row_indexer,col_indexer] = value instead\n",
            "\n",
            "See the caveats in the documentation: https://pandas.pydata.org/pandas-docs/stable/user_guide/indexing.html#returning-a-view-versus-a-copy\n",
            "  df_select[\"trans_date_trans_time\"] = pd.to_datetime(df_select[\"trans_date_trans_time\"])\n"
          ]
        }
      ],
      "source": [
        "df_select[\"trans_date_trans_time\"] = pd.to_datetime(df_select[\"trans_date_trans_time\"])"
      ]
    },
    {
      "cell_type": "code",
      "execution_count": 19,
      "metadata": {
        "id": "bkfqhq4J99A6"
      },
      "outputs": [
        {
          "name": "stderr",
          "output_type": "stream",
          "text": [
            "C:\\Users\\Richard PC\\AppData\\Local\\Temp\\ipykernel_21956\\4116717857.py:1: SettingWithCopyWarning: \n",
            "A value is trying to be set on a copy of a slice from a DataFrame.\n",
            "Try using .loc[row_indexer,col_indexer] = value instead\n",
            "\n",
            "See the caveats in the documentation: https://pandas.pydata.org/pandas-docs/stable/user_guide/indexing.html#returning-a-view-versus-a-copy\n",
            "  df_select[\"time_var\"] = [i.month_name() for i in df_select[\"trans_date_trans_time\"]]\n"
          ]
        }
      ],
      "source": [
        "df_select[\"time_var\"] = [i.month_name() for i in df_select[\"trans_date_trans_time\"]]"
      ]
    },
    {
      "cell_type": "code",
      "execution_count": 20,
      "metadata": {
        "id": "4GvhU8UN99DR"
      },
      "outputs": [
        {
          "data": {
            "text/plain": [
              "0    June\n",
              "1    June\n",
              "2    June\n",
              "3    June\n",
              "4    June\n",
              "Name: time_var, dtype: object"
            ]
          },
          "execution_count": 20,
          "metadata": {},
          "output_type": "execute_result"
        }
      ],
      "source": [
        "df_select[\"time_var\"].head()"
      ]
    },
    {
      "cell_type": "code",
      "execution_count": 29,
      "metadata": {
        "id": "D7n_cImg99F3"
      },
      "outputs": [],
      "source": [
        "X = pd.get_dummies(df_select, [\"category\", \"time_var\"]).drop([\"trans_date_trans_time\",\"is_fraud\"], axis = 1)\n",
        "y = df[\"is_fraud\"]"
      ]
    },
    {
      "cell_type": "code",
      "execution_count": 30,
      "metadata": {},
      "outputs": [
        {
          "data": {
            "text/html": [
              "<div>\n",
              "<style scoped>\n",
              "    .dataframe tbody tr th:only-of-type {\n",
              "        vertical-align: middle;\n",
              "    }\n",
              "\n",
              "    .dataframe tbody tr th {\n",
              "        vertical-align: top;\n",
              "    }\n",
              "\n",
              "    .dataframe thead th {\n",
              "        text-align: right;\n",
              "    }\n",
              "</style>\n",
              "<table border=\"1\" class=\"dataframe\">\n",
              "  <thead>\n",
              "    <tr style=\"text-align: right;\">\n",
              "      <th></th>\n",
              "      <th>amt</th>\n",
              "      <th>city_pop</th>\n",
              "      <th>category_entertainment</th>\n",
              "      <th>category_food_dining</th>\n",
              "      <th>category_gas_transport</th>\n",
              "      <th>category_grocery_net</th>\n",
              "      <th>category_grocery_pos</th>\n",
              "      <th>category_health_fitness</th>\n",
              "      <th>category_home</th>\n",
              "      <th>category_kids_pets</th>\n",
              "      <th>...</th>\n",
              "      <th>category_shopping_net</th>\n",
              "      <th>category_shopping_pos</th>\n",
              "      <th>category_travel</th>\n",
              "      <th>time_var_August</th>\n",
              "      <th>time_var_December</th>\n",
              "      <th>time_var_July</th>\n",
              "      <th>time_var_June</th>\n",
              "      <th>time_var_November</th>\n",
              "      <th>time_var_October</th>\n",
              "      <th>time_var_September</th>\n",
              "    </tr>\n",
              "  </thead>\n",
              "  <tbody>\n",
              "    <tr>\n",
              "      <th>0</th>\n",
              "      <td>2.86</td>\n",
              "      <td>333497</td>\n",
              "      <td>0</td>\n",
              "      <td>0</td>\n",
              "      <td>0</td>\n",
              "      <td>0</td>\n",
              "      <td>0</td>\n",
              "      <td>0</td>\n",
              "      <td>0</td>\n",
              "      <td>0</td>\n",
              "      <td>...</td>\n",
              "      <td>0</td>\n",
              "      <td>0</td>\n",
              "      <td>0</td>\n",
              "      <td>0</td>\n",
              "      <td>0</td>\n",
              "      <td>0</td>\n",
              "      <td>1</td>\n",
              "      <td>0</td>\n",
              "      <td>0</td>\n",
              "      <td>0</td>\n",
              "    </tr>\n",
              "    <tr>\n",
              "      <th>1</th>\n",
              "      <td>29.84</td>\n",
              "      <td>302</td>\n",
              "      <td>0</td>\n",
              "      <td>0</td>\n",
              "      <td>0</td>\n",
              "      <td>0</td>\n",
              "      <td>0</td>\n",
              "      <td>0</td>\n",
              "      <td>0</td>\n",
              "      <td>0</td>\n",
              "      <td>...</td>\n",
              "      <td>0</td>\n",
              "      <td>0</td>\n",
              "      <td>0</td>\n",
              "      <td>0</td>\n",
              "      <td>0</td>\n",
              "      <td>0</td>\n",
              "      <td>1</td>\n",
              "      <td>0</td>\n",
              "      <td>0</td>\n",
              "      <td>0</td>\n",
              "    </tr>\n",
              "    <tr>\n",
              "      <th>2</th>\n",
              "      <td>41.28</td>\n",
              "      <td>34496</td>\n",
              "      <td>0</td>\n",
              "      <td>0</td>\n",
              "      <td>0</td>\n",
              "      <td>0</td>\n",
              "      <td>0</td>\n",
              "      <td>1</td>\n",
              "      <td>0</td>\n",
              "      <td>0</td>\n",
              "      <td>...</td>\n",
              "      <td>0</td>\n",
              "      <td>0</td>\n",
              "      <td>0</td>\n",
              "      <td>0</td>\n",
              "      <td>0</td>\n",
              "      <td>0</td>\n",
              "      <td>1</td>\n",
              "      <td>0</td>\n",
              "      <td>0</td>\n",
              "      <td>0</td>\n",
              "    </tr>\n",
              "    <tr>\n",
              "      <th>3</th>\n",
              "      <td>60.05</td>\n",
              "      <td>54767</td>\n",
              "      <td>0</td>\n",
              "      <td>0</td>\n",
              "      <td>0</td>\n",
              "      <td>0</td>\n",
              "      <td>0</td>\n",
              "      <td>0</td>\n",
              "      <td>0</td>\n",
              "      <td>0</td>\n",
              "      <td>...</td>\n",
              "      <td>0</td>\n",
              "      <td>0</td>\n",
              "      <td>0</td>\n",
              "      <td>0</td>\n",
              "      <td>0</td>\n",
              "      <td>0</td>\n",
              "      <td>1</td>\n",
              "      <td>0</td>\n",
              "      <td>0</td>\n",
              "      <td>0</td>\n",
              "    </tr>\n",
              "    <tr>\n",
              "      <th>4</th>\n",
              "      <td>3.19</td>\n",
              "      <td>1126</td>\n",
              "      <td>0</td>\n",
              "      <td>0</td>\n",
              "      <td>0</td>\n",
              "      <td>0</td>\n",
              "      <td>0</td>\n",
              "      <td>0</td>\n",
              "      <td>0</td>\n",
              "      <td>0</td>\n",
              "      <td>...</td>\n",
              "      <td>0</td>\n",
              "      <td>0</td>\n",
              "      <td>1</td>\n",
              "      <td>0</td>\n",
              "      <td>0</td>\n",
              "      <td>0</td>\n",
              "      <td>1</td>\n",
              "      <td>0</td>\n",
              "      <td>0</td>\n",
              "      <td>0</td>\n",
              "    </tr>\n",
              "  </tbody>\n",
              "</table>\n",
              "<p>5 rows × 23 columns</p>\n",
              "</div>"
            ],
            "text/plain": [
              "     amt  city_pop  category_entertainment  category_food_dining  \\\n",
              "0   2.86    333497                       0                     0   \n",
              "1  29.84       302                       0                     0   \n",
              "2  41.28     34496                       0                     0   \n",
              "3  60.05     54767                       0                     0   \n",
              "4   3.19      1126                       0                     0   \n",
              "\n",
              "   category_gas_transport  category_grocery_net  category_grocery_pos  \\\n",
              "0                       0                     0                     0   \n",
              "1                       0                     0                     0   \n",
              "2                       0                     0                     0   \n",
              "3                       0                     0                     0   \n",
              "4                       0                     0                     0   \n",
              "\n",
              "   category_health_fitness  category_home  category_kids_pets  ...  \\\n",
              "0                        0              0                   0  ...   \n",
              "1                        0              0                   0  ...   \n",
              "2                        1              0                   0  ...   \n",
              "3                        0              0                   0  ...   \n",
              "4                        0              0                   0  ...   \n",
              "\n",
              "   category_shopping_net  category_shopping_pos  category_travel  \\\n",
              "0                      0                      0                0   \n",
              "1                      0                      0                0   \n",
              "2                      0                      0                0   \n",
              "3                      0                      0                0   \n",
              "4                      0                      0                1   \n",
              "\n",
              "   time_var_August  time_var_December  time_var_July  time_var_June  \\\n",
              "0                0                  0              0              1   \n",
              "1                0                  0              0              1   \n",
              "2                0                  0              0              1   \n",
              "3                0                  0              0              1   \n",
              "4                0                  0              0              1   \n",
              "\n",
              "   time_var_November  time_var_October  time_var_September  \n",
              "0                  0                 0                   0  \n",
              "1                  0                 0                   0  \n",
              "2                  0                 0                   0  \n",
              "3                  0                 0                   0  \n",
              "4                  0                 0                   0  \n",
              "\n",
              "[5 rows x 23 columns]"
            ]
          },
          "execution_count": 30,
          "metadata": {},
          "output_type": "execute_result"
        }
      ],
      "source": [
        "X.head()"
      ]
    },
    {
      "attachments": {},
      "cell_type": "markdown",
      "metadata": {
        "id": "bIJx2jvD-KEI"
      },
      "source": [
        "## 4. Skip Oversampling for now"
      ]
    },
    {
      "cell_type": "code",
      "execution_count": 41,
      "metadata": {
        "id": "AwXa-bvX99Id"
      },
      "outputs": [],
      "source": [
        "# Simple 50-50 train-test split\n",
        "from sklearn.model_selection import train_test_split\n",
        "\n",
        "X_train, X_test, y_train, y_test = train_test_split(\n",
        "    X,y,\n",
        "    test_size=0.5\n",
        ")"
      ]
    },
    {
      "attachments": {},
      "cell_type": "markdown",
      "metadata": {
        "id": "FwLCfa9599RE"
      },
      "source": [
        "## 5. Train a Logistic Regression"
      ]
    },
    {
      "cell_type": "code",
      "execution_count": 44,
      "metadata": {
        "id": "pLIndmpE99Tq"
      },
      "outputs": [],
      "source": [
        "from sklearn.preprocessing import StandardScaler\n",
        "from sklearn.linear_model import LogisticRegression\n",
        "\n",
        "scaler = StandardScaler()\n",
        "X_train_normalized = scaler.fit_transform(X_train)\n",
        "X_test_normalized = scaler.fit_transform(X_test)"
      ]
    },
    {
      "cell_type": "code",
      "execution_count": 45,
      "metadata": {
        "id": "IF_H74Ht-RIL"
      },
      "outputs": [],
      "source": [
        "log_reg = LogisticRegression().fit(X_train_normalized, y_train)"
      ]
    },
    {
      "attachments": {},
      "cell_type": "markdown",
      "metadata": {
        "id": "6isBwtmL-R4p"
      },
      "source": [
        "## 6. The company you are working for wants to target at a False Positive rate of 5% what threshold should you use?"
      ]
    },
    {
      "cell_type": "code",
      "execution_count": 129,
      "metadata": {},
      "outputs": [
        {
          "name": "stdout",
          "output_type": "stream",
          "text": [
            "Threshold for 5% False Positives: 0.011268827782418866\n"
          ]
        },
        {
          "data": {
            "image/png": "[encoded data removed]",
            "text/plain": [
              "<Figure size 432x288 with 2 Axes>"
            ]
          },
          "metadata": {
            "needs_background": "light"
          },
          "output_type": "display_data"
        }
      ],
      "source": [
        "import seaborn as sns\n",
        "from sklearn.metrics import confusion_matrix\n",
        "\n",
        "# Obtain probability estimates for each class\n",
        "probs = log_reg.predict_proba(X_test_normalized)\n",
        "\n",
        "# Set a threshold that corresponds to a specific false positive rate\n",
        "fp_rate = 0.05\n",
        "threshold = sorted(probs[:,1], reverse=True)[int(fp_rate*len(probs))]\n",
        "\n",
        "# Use the threshold to make binary predictions\n",
        "predictions = (probs[:,1] > threshold).astype(int)\n",
        "\n",
        "# Obtain the confusion matrix\n",
        "cm = confusion_matrix(y_test, predictions)\n",
        "sns.heatmap(cm, annot=True, cmap='Blues', fmt='d',\n",
        "            xticklabels=['Predicted 0','Predicted 1'], \n",
        "            yticklabels=['True 0','True 1']).set(\n",
        "                title='Confusion Matrix (Test Data)'\n",
        "            )\n",
        "\n",
        "print(\"Threshold for 5% False Positives:\", threshold)"
      ]
    },
    {
      "attachments": {},
      "cell_type": "markdown",
      "metadata": {},
      "source": [
        "The chosen threshold to achieve 5\\% false positives is **0.01126**. While this seems rather small, notice that the False Positives are at exactly 5\\%."
      ]
    },
    {
      "attachments": {},
      "cell_type": "markdown",
      "metadata": {
        "id": "aQa3sanl-XUk"
      },
      "source": [
        "## 7. If the company makes .02*amt on True transactions and loses -amt on False (Use original data)"
      ]
    },
    {
      "cell_type": "code",
      "execution_count": 111,
      "metadata": {
        "id": "eDtDVSAr-RcM"
      },
      "outputs": [],
      "source": [
        "df_temp = df_select.copy()"
      ]
    },
    {
      "cell_type": "code",
      "execution_count": 112,
      "metadata": {
        "id": "BjOfCQKX-aae"
      },
      "outputs": [
        {
          "name": "stderr",
          "output_type": "stream",
          "text": [
            "c:\\Users\\Richard PC\\anaconda3\\lib\\site-packages\\sklearn\\base.py:443: UserWarning: X has feature names, but LogisticRegression was fitted without feature names\n",
            "  warnings.warn(\n"
          ]
        }
      ],
      "source": [
        "df_temp[\"pred\"] = (log_reg.predict_proba(X)[:,1] > threshold).astype(int)\n",
        "df_temp = df_temp[[\"pred\", \"is_fraud\", \"amt\"]]"
      ]
    },
    {
      "cell_type": "code",
      "execution_count": 113,
      "metadata": {},
      "outputs": [
        {
          "data": {
            "text/html": [
              "<div>\n",
              "<style scoped>\n",
              "    .dataframe tbody tr th:only-of-type {\n",
              "        vertical-align: middle;\n",
              "    }\n",
              "\n",
              "    .dataframe tbody tr th {\n",
              "        vertical-align: top;\n",
              "    }\n",
              "\n",
              "    .dataframe thead th {\n",
              "        text-align: right;\n",
              "    }\n",
              "</style>\n",
              "<table border=\"1\" class=\"dataframe\">\n",
              "  <thead>\n",
              "    <tr style=\"text-align: right;\">\n",
              "      <th></th>\n",
              "      <th>pred</th>\n",
              "      <th>is_fraud</th>\n",
              "      <th>amt</th>\n",
              "    </tr>\n",
              "  </thead>\n",
              "  <tbody>\n",
              "    <tr>\n",
              "      <th>0</th>\n",
              "      <td>0</td>\n",
              "      <td>0</td>\n",
              "      <td>2.86</td>\n",
              "    </tr>\n",
              "    <tr>\n",
              "      <th>1</th>\n",
              "      <td>0</td>\n",
              "      <td>0</td>\n",
              "      <td>29.84</td>\n",
              "    </tr>\n",
              "    <tr>\n",
              "      <th>2</th>\n",
              "      <td>0</td>\n",
              "      <td>0</td>\n",
              "      <td>41.28</td>\n",
              "    </tr>\n",
              "    <tr>\n",
              "      <th>3</th>\n",
              "      <td>0</td>\n",
              "      <td>0</td>\n",
              "      <td>60.05</td>\n",
              "    </tr>\n",
              "    <tr>\n",
              "      <th>4</th>\n",
              "      <td>0</td>\n",
              "      <td>0</td>\n",
              "      <td>3.19</td>\n",
              "    </tr>\n",
              "  </tbody>\n",
              "</table>\n",
              "</div>"
            ],
            "text/plain": [
              "   pred  is_fraud    amt\n",
              "0     0         0   2.86\n",
              "1     0         0  29.84\n",
              "2     0         0  41.28\n",
              "3     0         0  60.05\n",
              "4     0         0   3.19"
            ]
          },
          "execution_count": 113,
          "metadata": {},
          "output_type": "execute_result"
        }
      ],
      "source": [
        "df_temp.head()"
      ]
    },
    {
      "cell_type": "code",
      "execution_count": 121,
      "metadata": {},
      "outputs": [
        {
          "data": {
            "text/plain": [
              "[Text(0.5, 1.0, 'Confusion Matrix (All Original Data)')]"
            ]
          },
          "execution_count": 121,
          "metadata": {},
          "output_type": "execute_result"
        },
        {
          "data": {
            "image/png": "[encoded data removed]",
            "text/plain": [
              "<Figure size 432x288 with 2 Axes>"
            ]
          },
          "metadata": {
            "needs_background": "light"
          },
          "output_type": "display_data"
        }
      ],
      "source": [
        "conf_matrix = confusion_matrix(y,df_temp[\"pred\"])\n",
        "sns.heatmap(conf_matrix, annot=True, cmap='Blues', fmt='d',\n",
        "            xticklabels=['Predicted 0','Predicted 1'], \n",
        "            yticklabels=['True 0','True 1']).set(\n",
        "                title='Confusion Matrix (All Original Data)'\n",
        "            )"
      ]
    },
    {
      "attachments": {},
      "cell_type": "markdown",
      "metadata": {},
      "source": [
        "If the company makes 2\\% off of true transactions and loses the full amount on false transactions, then the model predicts profit to be\n",
        "\n",
        "$$ \\pi = 0.02AMT_{TN,FN} - AMT_{TP,FP}$$"
      ]
    },
    {
      "cell_type": "code",
      "execution_count": 115,
      "metadata": {},
      "outputs": [],
      "source": [
        "TN = df_temp.loc[(df_temp[\"pred\"] == 0) & (df_temp[\"is_fraud\"] == 0)]\n",
        "FN = df_temp.loc[(df_temp[\"pred\"] == 0) & (df_temp[\"is_fraud\"] == 1)]\n",
        "TP = df_temp.loc[(df_temp[\"pred\"] == 1) & (df_temp[\"is_fraud\"] == 1)]\n",
        "FP = df_temp.loc[(df_temp[\"pred\"] == 1) & (df_temp[\"is_fraud\"] == 0)]\n",
        "\n",
        "amt_TN = TN.amt.sum()\n",
        "amt_FN = FN.amt.sum()\n",
        "amt_TP = TP.amt.sum()\n",
        "amt_FP = FP.amt.sum()"
      ]
    },
    {
      "cell_type": "code",
      "execution_count": 116,
      "metadata": {},
      "outputs": [
        {
          "name": "stdout",
          "output_type": "stream",
          "text": [
            "Profit (Model):  -7486445.718199999\n",
            "Profit (Actual):  -384733.1113999998\n"
          ]
        }
      ],
      "source": [
        "profit_model = 0.02*(amt_TN + amt_FN) - (amt_TP + amt_FP)\n",
        "profit_actual = 0.02*(amt_TN + amt_FP) - (amt_TP + amt_FN)\n",
        "print(\"Profit (Model): \", profit_model)\n",
        "print(\"Profit (Actual): \", profit_actual)"
      ]
    },
    {
      "attachments": {},
      "cell_type": "markdown",
      "metadata": {},
      "source": [
        "The model predicts a loss of about \\$7.5 million whereas actual loss is closer to around \\$400 thousand. The primary reason for this over-prediction is that the model threshold is perhaps not set high enough. Especially since the 5\\% threshold was set on the training data, but it is clear from the above confusion matrix that False Positives for the whole data set is closer to 10\\%. There are still a lot of false positives which the model assumes is fraud and thus deducts from profit quite heavily."
      ]
    },
    {
      "attachments": {},
      "cell_type": "markdown",
      "metadata": {
        "id": "qrlSpvEh-awn"
      },
      "source": [
        "## 8. Using Logistic Regression Lasso to inform you. Would you use the selected features in a trusted prediction model?"
      ]
    },
    {
      "cell_type": "code",
      "execution_count": 103,
      "metadata": {
        "id": "-R3BOgcy-RfD"
      },
      "outputs": [
        {
          "name": "stderr",
          "output_type": "stream",
          "text": [
            "c:\\Users\\Richard PC\\anaconda3\\lib\\site-packages\\sklearn\\linear_model\\_sag.py:352: ConvergenceWarning: The max_iter was reached which means the coef_ did not converge\n",
            "  warnings.warn(\n"
          ]
        },
        {
          "data": {
            "text/plain": [
              "LogisticRegression(penalty='l1', solver='saga')"
            ]
          },
          "execution_count": 103,
          "metadata": {},
          "output_type": "execute_result"
        }
      ],
      "source": [
        "logistic_lasso = LogisticRegression(\"l1\", solver='saga')\n",
        "logistic_lasso.fit(X_train_normalized, y_train)"
      ]
    },
    {
      "cell_type": "code",
      "execution_count": 104,
      "metadata": {
        "id": "A5Q1iOHl-djx"
      },
      "outputs": [],
      "source": [
        "# Coefficients\n",
        "coefs = logistic_lasso.coef_\n",
        "\n",
        "# Variable Names\n",
        "var_names = X.iloc[:,:-1].columns.values"
      ]
    },
    {
      "cell_type": "code",
      "execution_count": 105,
      "metadata": {},
      "outputs": [
        {
          "data": {
            "text/plain": [
              "array([[ 0.34028679, -0.08845681, -0.08623969, -0.09012936,  0.11270116,\n",
              "         0.009817  ,  0.40579247, -0.11933167, -0.14767775, -0.19970664,\n",
              "         0.3141298 ,  0.00153249, -0.08013153,  0.39224245,  0.06089259,\n",
              "        -0.81001492,  0.06257473, -0.30142787, -0.00341392,  0.0130193 ,\n",
              "         0.07182603,  0.1439186 ,  0.07581681]])"
            ]
          },
          "execution_count": 105,
          "metadata": {},
          "output_type": "execute_result"
        }
      ],
      "source": [
        "coefs"
      ]
    },
    {
      "cell_type": "code",
      "execution_count": 106,
      "metadata": {
        "id": "2a1u33ge-dqA"
      },
      "outputs": [
        {
          "data": {
            "image/png": "[encoded data removed]",
            "text/plain": [
              "<Figure size 504x360 with 1 Axes>"
            ]
          },
          "metadata": {
            "needs_background": "light"
          },
          "output_type": "display_data"
        }
      ],
      "source": [
        "# Plot the coefficients\n",
        "plt.figure(figsize=(7,5))\n",
        "plt.bar(range(len(coefs[0])), coefs[0])\n",
        "plt.xlabel('Coefficient Index')\n",
        "plt.ylabel('Coefficient Value')\n",
        "plt.title('Logistic Lasso Coefficients')\n",
        "plt.show()"
      ]
    },
    {
      "attachments": {},
      "cell_type": "markdown",
      "metadata": {},
      "source": [
        "Through the regularization process, Lasso pushed **some** of our coefficients to zero which indicates their unimportance. However, many of our coefficients are larger than zero (in the positive or negative direction). Particularly, features with indicies 0, 6, 11, 13, 15, and 17 which corresponds to: `amt`, `category_grocery_pos`, `category_misc_pos`, `category_shopping_net`, `category_travel`, `time_var_December`.\n",
        "\n",
        "It seems the most important feature was `category_travel` which implies that travel purchases see more fraud than others. We would use these category and amount variables in a prediction model; however, `time_var_December` is a bit more questionable. Although there could be logic in that Christmas sees more fraudulent purchases. Otherwise, all other features are closer to 0."
      ]
    }
  ],
  "metadata": {
    "colab": {
      "provenance": []
    },
    "kernelspec": {
      "display_name": "base",
      "language": "python",
      "name": "python3"
    },
    "language_info": {
      "codemirror_mode": {
        "name": "ipython",
        "version": 3
      },
      "file_extension": ".py",
      "mimetype": "text/x-python",
      "name": "python",
      "nbconvert_exporter": "python",
      "pygments_lexer": "ipython3",
      "version": "3.9.12"
    },
    "vscode": {
      "interpreter": {
        "hash": "31df7c7627a67be450e0b97ef203135bae9a88aae24921ec8b8b14d7d7918e04"
      }
    }
  },
  "nbformat": 4,
  "nbformat_minor": 0
}
